{
 "cells": [
  {
   "cell_type": "code",
   "execution_count": 5,
   "metadata": {},
   "outputs": [],
   "source": [
    "import json\n",
    "import pandas as pd"
   ]
  },
  {
   "cell_type": "code",
   "execution_count": 10,
   "metadata": {},
   "outputs": [],
   "source": [
    "jtext = \"\"\"{\"mean\":2.6666666666666665,\"count\":6,\"min\":1.0,\"max\":4.0,\"variance\":1.2222222222222223,\"fiftiethPercentile\":3.0,\"seventyFifthPercentile\":4.0,\"ninetyFifthPercentile\":4.0,\"ninetyNinthPercentile\":4.0,\"zeroesCount\":0,\"zeroesPercentage\":0.0,\"mostCommonValues\":{\"values\":[2.0,4.0,3.0,1.0],\"distributions\":[2,2,1,1]},\"leastCommonValues\":{\"values\":[3.0,1.0,2.0,4.0],\"distributions\":[1,1,2,2]},\"distributions\":{\"values\":[1.0,1.3,1.6,1.9,2.2,2.5,2.8,3.1,3.4,3.7,4.0],\"distributions\":[1,0,0,2,0,0,1,0,0,2]},\"normalizedDistributions\":{\"values\":[1.0,1.3,1.6,1.9,2.2,2.5,2.8,3.1,3.4,3.7,4.0],\"normalizedDistributions\":[0.16666666666666666,0.0,0.0,0.3333333333333333,0.0,0.0,0.16666666666666666,0.0,0.0,0.3333333333333333]}}\"\"\""
   ]
  },
  {
   "cell_type": "code",
   "execution_count": 11,
   "metadata": {},
   "outputs": [],
   "source": [
    "j = json.loads(jtext)"
   ]
  },
  {
   "cell_type": "code",
   "execution_count": 16,
   "metadata": {},
   "outputs": [
    {
     "data": {
      "text/plain": [
       "[2.0, 4.0, 3.0, 1.0]"
      ]
     },
     "execution_count": 16,
     "metadata": {},
     "output_type": "execute_result"
    }
   ],
   "source": [
    "j['mostCommonValues']['values']"
   ]
  },
  {
   "cell_type": "code",
   "execution_count": null,
   "metadata": {},
   "outputs": [],
   "source": []
  }
 ],
 "metadata": {
  "kernelspec": {
   "display_name": "Python 3",
   "language": "python",
   "name": "python3"
  },
  "language_info": {
   "codemirror_mode": {
    "name": "ipython",
    "version": 3
   },
   "file_extension": ".py",
   "mimetype": "text/x-python",
   "name": "python",
   "nbconvert_exporter": "python",
   "pygments_lexer": "ipython3",
   "version": "3.6.5"
  }
 },
 "nbformat": 4,
 "nbformat_minor": 2
}
