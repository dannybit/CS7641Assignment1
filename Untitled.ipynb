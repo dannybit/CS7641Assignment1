{
 "cells": [
  {
   "cell_type": "code",
   "execution_count": 1,
   "metadata": {},
   "outputs": [],
   "source": [
    "import pandas as pd\n",
    "from sklearn.tree import DecisionTreeClassifier\n",
    "from sklearn.model_selection import train_test_split, StratifiedShuffleSplit,KFold\n",
    "from sklearn.metrics import accuracy_score,fbeta_score,f1_score\n",
    "import numpy as np\n",
    "import matplotlib.pyplot as plt"
   ]
  },
  {
   "cell_type": "code",
   "execution_count": 2,
   "metadata": {},
   "outputs": [
    {
     "name": "stdout",
     "output_type": "stream",
     "text": [
      "X_train shape: (21113, 104)\n",
      "X_test shape: (9049, 104)\n",
      "y_train: (21113,)\n",
      "y_test: (9049,)\n"
     ]
    }
   ],
   "source": [
    "column_names = [\n",
    "    \"age\", # continuous\n",
    "    \"workclass\", # Private, Self-emp-not-inc, Self-emp-inc, Federal-gov, Local-gov, State-gov, Without-pay, Never-worked\n",
    "    \"fnlwgt\", # continuous \n",
    "    \"education\", # Bachelors, Some-college, 11th, HS-grad, Prof-school, Assoc-acdm, Assoc-voc, 9th, 7th-8th, 12th, Masters, 1st-4th, 10th, Doctorate, 5th-6th, Preschool\n",
    "    \"education-num\", # continuous. \n",
    "    \"marital-status\", # Married-civ-spouse, Divorced, Never-married, Separated, Widowed, Married-spouse-absent, Married-AF-spouse.\n",
    "    \"occupation\", # Tech-support, Craft-repair, Other-service, Sales, Exec-managerial, Prof-specialty, Handlers-cleaners, Machine-op-inspct, Adm-clerical, Farming-fishing, Transport-moving, Priv-house-serv, Protective-serv, Armed-Forces.\n",
    "    \"relationship\", # Wife, Own-child, Husband, Not-in-family, Other-relative, Unmarried \n",
    "    \"race\", # White, Asian-Pac-Islander, Amer-Indian-Eskimo, Other, Black, \n",
    "    \"sex\", # Female, Male, \n",
    "    \"capital-gain\", # continuous, \n",
    "    \"capital-loss\", # continuous, \n",
    "    \"hours-per-week\", # continuous, \n",
    "    \"native-country\", # United-States, Cambodia, England, Puerto-Rico, Canada, Germany, Outlying-US(Guam-USVI-etc), India, Japan, Greece, South, China, Cuba, Iran, Honduras, Philippines, Italy, Poland, Jamaica, Vietnam, Mexico, Portugal, Ireland, France, Dominican-Republic, Laos, Ecuador, Taiwan, Haiti, Columbia, Hungary, Guatemala, Nicaragua, Scotland, Thailand, Yugoslavia, El-Salvador, Trinadad&Tobago, Peru, Hong, Holand-Netherlands \n",
    "    \"target\" # >50K, <=50K\n",
    "]\n",
    "df = pd.read_csv(filepath_or_buffer=\"adult.data.txt\", sep=',', names=column_names, skipinitialspace=True)\n",
    "df[\"target\"] = df[\"target\"].map({\"<=50K\": 0, \">50K\": 1})\n",
    "df[\"workclass\"] = df[\"workclass\"].replace(to_replace='?', value=np.nan)\n",
    "df[\"occupation\"] = df[\"occupation\"].replace(to_replace='?', value=np.nan)\n",
    "df[\"native-country\"] = df[\"native-country\"].replace(to_replace='?', value=np.nan)\n",
    "df = df.dropna()\n",
    "df_dummies = pd.get_dummies(df.drop('target', 1))\n",
    "df_x = df_dummies.copy().values\n",
    "df_y = df[\"target\"].copy().values\n",
    "X_train, X_test, y_train, y_test = train_test_split(df_x, df_y, test_size=0.3,random_state=0)\n",
    "print(f\"X_train shape: {X_train.shape}\")\n",
    "print(f\"X_test shape: {X_test.shape}\")\n",
    "print(f\"y_train: {y_train.shape}\")\n",
    "print(f\"y_test: {y_test.shape}\")"
   ]
  },
  {
   "cell_type": "code",
   "execution_count": 5,
   "metadata": {},
   "outputs": [
    {
     "name": "stdout",
     "output_type": "stream",
     "text": [
      "feature importance\n",
      "('marital-status_Married-civ-spouse', 0.5255510687002067)\n",
      "('capital-gain', 0.23948851614141087)\n",
      "('education-num', 0.2336649781263075)\n",
      "('age', 0.0012954370320749833)\n",
      "('fnlwgt', 0.0)\n",
      "('capital-loss', 0.0)\n",
      "('hours-per-week', 0.0)\n",
      "('workclass_Federal-gov', 0.0)\n",
      "('workclass_Local-gov', 0.0)\n",
      "('workclass_Private', 0.0)\n",
      "\n"
     ]
    }
   ],
   "source": [
    "clf = DecisionTreeClassifier(max_depth=3)\n",
    "clf.fit(X_train, y_train)\n",
    "feature_importances = sorted(list(zip(pd.get_dummies(df.drop(\"target\", 1)).columns.values, clf.feature_importances_)), key=lambda tup: tup[1], reverse=True)\n",
    "print(\"feature importance\")\n",
    "for fi in feature_importances[:10]:\n",
    "    print(fi)\n",
    "print(\"\")"
   ]
  },
  {
   "cell_type": "code",
   "execution_count": 3,
   "metadata": {},
   "outputs": [
    {
     "name": "stdout",
     "output_type": "stream",
     "text": [
      "Complexity curve\n"
     ]
    },
    {
     "ename": "NameError",
     "evalue": "name 'validation_curve' is not defined",
     "output_type": "error",
     "traceback": [
      "\u001b[0;31m---------------------------------------------------------------------------\u001b[0m",
      "\u001b[0;31mNameError\u001b[0m                                 Traceback (most recent call last)",
      "\u001b[0;32m<ipython-input-3-6d8aa23b0214>\u001b[0m in \u001b[0;36m<module>\u001b[0;34m\u001b[0m\n\u001b[1;32m     18\u001b[0m \u001b[0;34m\u001b[0m\u001b[0m\n\u001b[1;32m     19\u001b[0m \u001b[0mmax_depths\u001b[0m \u001b[0;34m=\u001b[0m \u001b[0mlist\u001b[0m\u001b[0;34m(\u001b[0m\u001b[0mnp\u001b[0m\u001b[0;34m.\u001b[0m\u001b[0marange\u001b[0m\u001b[0;34m(\u001b[0m\u001b[0;36m1\u001b[0m\u001b[0;34m,\u001b[0m \u001b[0;36m50\u001b[0m\u001b[0;34m,\u001b[0m \u001b[0;36m1\u001b[0m\u001b[0;34m)\u001b[0m\u001b[0;34m)\u001b[0m\u001b[0;34m\u001b[0m\u001b[0m\n\u001b[0;32m---> 20\u001b[0;31m \u001b[0mmake_complexity_curve\u001b[0m\u001b[0;34m(\u001b[0m\u001b[0mDecisionTreeClassifier\u001b[0m\u001b[0;34m(\u001b[0m\u001b[0;34m)\u001b[0m\u001b[0;34m,\u001b[0m \u001b[0mX_train\u001b[0m\u001b[0;34m,\u001b[0m \u001b[0my_train\u001b[0m\u001b[0;34m,\u001b[0m\u001b[0;34m\"max_depth\"\u001b[0m\u001b[0;34m,\u001b[0m\u001b[0mmax_depths\u001b[0m\u001b[0;34m,\u001b[0m\u001b[0;36m10\u001b[0m\u001b[0;34m,\u001b[0m\u001b[0;34m\"Decision Tree\"\u001b[0m\u001b[0;34m,\u001b[0m\u001b[0;34m\"adult income\"\u001b[0m\u001b[0;34m)\u001b[0m\u001b[0;34m\u001b[0m\u001b[0m\n\u001b[0m",
      "\u001b[0;32m<ipython-input-3-6d8aa23b0214>\u001b[0m in \u001b[0;36mmake_complexity_curve\u001b[0;34m(clf, x, y, param_name, param_range, cv, clf_name, dataset_name)\u001b[0m\n\u001b[1;32m      1\u001b[0m \u001b[0;32mdef\u001b[0m \u001b[0mmake_complexity_curve\u001b[0m\u001b[0;34m(\u001b[0m\u001b[0mclf\u001b[0m\u001b[0;34m,\u001b[0m \u001b[0mx\u001b[0m\u001b[0;34m,\u001b[0m \u001b[0my\u001b[0m\u001b[0;34m,\u001b[0m\u001b[0mparam_name\u001b[0m\u001b[0;34m,\u001b[0m\u001b[0mparam_range\u001b[0m\u001b[0;34m,\u001b[0m\u001b[0mcv\u001b[0m\u001b[0;34m,\u001b[0m\u001b[0mclf_name\u001b[0m\u001b[0;34m,\u001b[0m\u001b[0mdataset_name\u001b[0m\u001b[0;34m)\u001b[0m\u001b[0;34m:\u001b[0m\u001b[0;34m\u001b[0m\u001b[0m\n\u001b[1;32m      2\u001b[0m     \u001b[0mprint\u001b[0m\u001b[0;34m(\u001b[0m\u001b[0;34m\"Complexity curve\"\u001b[0m\u001b[0;34m)\u001b[0m\u001b[0;34m\u001b[0m\u001b[0m\n\u001b[0;32m----> 3\u001b[0;31m     \u001b[0mtrain_scores\u001b[0m\u001b[0;34m,\u001b[0m \u001b[0mvalidation_scores\u001b[0m \u001b[0;34m=\u001b[0m \u001b[0mvalidation_curve\u001b[0m\u001b[0;34m(\u001b[0m\u001b[0mclf\u001b[0m\u001b[0;34m,\u001b[0m\u001b[0mx\u001b[0m\u001b[0;34m,\u001b[0m\u001b[0my\u001b[0m\u001b[0;34m,\u001b[0m\u001b[0mparam_name\u001b[0m\u001b[0;34m,\u001b[0m\u001b[0mparam_range\u001b[0m\u001b[0;34m,\u001b[0m\u001b[0mcv\u001b[0m\u001b[0;34m=\u001b[0m\u001b[0mcv\u001b[0m\u001b[0;34m)\u001b[0m\u001b[0;34m\u001b[0m\u001b[0m\n\u001b[0m\u001b[1;32m      4\u001b[0m     \u001b[0mtrain_scores_mean\u001b[0m \u001b[0;34m=\u001b[0m \u001b[0mnp\u001b[0m\u001b[0;34m.\u001b[0m\u001b[0mmean\u001b[0m\u001b[0;34m(\u001b[0m\u001b[0mtrain_scores\u001b[0m\u001b[0;34m,\u001b[0m \u001b[0maxis\u001b[0m\u001b[0;34m=\u001b[0m\u001b[0;36m1\u001b[0m\u001b[0;34m)\u001b[0m\u001b[0;34m\u001b[0m\u001b[0m\n\u001b[1;32m      5\u001b[0m     \u001b[0mvalidation_scores_mean\u001b[0m \u001b[0;34m=\u001b[0m \u001b[0mnp\u001b[0m\u001b[0;34m.\u001b[0m\u001b[0mmean\u001b[0m\u001b[0;34m(\u001b[0m\u001b[0mvalidation_scores\u001b[0m\u001b[0;34m,\u001b[0m \u001b[0maxis\u001b[0m\u001b[0;34m=\u001b[0m\u001b[0;36m1\u001b[0m\u001b[0;34m)\u001b[0m\u001b[0;34m\u001b[0m\u001b[0m\n",
      "\u001b[0;31mNameError\u001b[0m: name 'validation_curve' is not defined"
     ]
    }
   ],
   "source": [
    "def make_complexity_curve(clf, x, y,param_name,param_range,cv,clf_name,dataset_name):\n",
    "    print(\"Complexity curve\")\n",
    "    train_scores, validation_scores = validation_curve(clf,x,y,param_name,param_range,cv=cv)\n",
    "    train_scores_mean = np.mean(train_scores, axis=1)\n",
    "    validation_scores_mean = np.mean(validation_scores, axis=1)\n",
    "    \n",
    "    title = 'Model Complexity: {} - {} ({})'.format(clf_name, dataset_name, param_name)\n",
    "    plt.close()\n",
    "    plt.figure()\n",
    "    plt.title(title)\n",
    "    plt.xlabel(param_name)\n",
    "    plt.ylabel(\"accuracy\")\n",
    "    plt.plot(param_range,train_scores_mean, label=\"train\")\n",
    "    plt.plot(param_range, validation_scores_mean, label=\"validation\")\n",
    "    plt.legend()\n",
    "    plt.draw()\n",
    "    print(\"Complexity curve complete\")\n",
    "\n",
    "max_depths = list(np.arange(1, 50, 1))\n",
    "make_complexity_curve(DecisionTreeClassifier(), X_train, y_train,\"max_depth\",max_depths,10,\"Decision Tree\",\"adult income\")"
   ]
  },
  {
   "cell_type": "code",
   "execution_count": null,
   "metadata": {},
   "outputs": [],
   "source": []
  },
  {
   "cell_type": "markdown",
   "metadata": {},
   "source": [
    "MAX DEPTHS"
   ]
  },
  {
   "cell_type": "code",
   "execution_count": null,
   "metadata": {},
   "outputs": [],
   "source": [
    "max_depths = list(np.arange(1, 50, 1))\n",
    "make_complexity_curve(DecisionTreeClassifier(), X_train, y_train,\"max_depth\",max_depths,10,\"decision_tree\",\"adult income\")"
   ]
  },
  {
   "cell_type": "markdown",
   "metadata": {},
   "source": [
    "CRITERION"
   ]
  },
  {
   "cell_type": "code",
   "execution_count": 140,
   "metadata": {},
   "outputs": [
    {
     "name": "stdout",
     "output_type": "stream",
     "text": [
      "Complexity curve\n"
     ]
    },
    {
     "data": {
      "image/png": "[encoded data removed]",
      "text/plain": [
       "<Figure size 432x288 with 1 Axes>"
      ]
     },
     "metadata": {
      "needs_background": "light"
     },
     "output_type": "display_data"
    }
   ],
   "source": [
    "make_complexity_curve(DecisionTreeClassifier(), X_train, y_train,\"criterion\",['gini', 'entropy'],10,\"Decision Tree\",\"adult income\")"
   ]
  },
  {
   "cell_type": "code",
   "execution_count": 141,
   "metadata": {},
   "outputs": [
    {
     "name": "stdout",
     "output_type": "stream",
     "text": [
      "Complexity curve\n"
     ]
    },
    {
     "data": {
      "image/png": "[encoded data removed]",
      "text/plain": [
       "<Figure size 432x288 with 1 Axes>"
      ]
     },
     "metadata": {
      "needs_background": "light"
     },
     "output_type": "display_data"
    }
   ],
   "source": [
    "min_samples_splits = np.linspace(0.1, 1.0, 10, endpoint=True)\n",
    "make_complexity_curve(DecisionTreeClassifier(), X_train, y_train,\"min_samples_split\",min_samples_splits,10,\"Decision Tree\",\"adult income\")"
   ]
  },
  {
   "cell_type": "code",
   "execution_count": null,
   "metadata": {},
   "outputs": [],
   "source": []
  },
  {
   "cell_type": "code",
   "execution_count": 142,
   "metadata": {},
   "outputs": [
    {
     "name": "stdout",
     "output_type": "stream",
     "text": [
      "Complexity curve\n"
     ]
    },
    {
     "data": {
      "image/png": "[encoded data removed]",
      "text/plain": [
       "<Figure size 432x288 with 1 Axes>"
      ]
     },
     "metadata": {
      "needs_background": "light"
     },
     "output_type": "display_data"
    }
   ],
   "source": [
    "min_samples_leafs = np.linspace(0.1, 0.5, 5, endpoint=True)\n",
    "make_complexity_curve(DecisionTreeClassifier(), X_train, y_train,\"min_samples_leaf\",min_samples_leafs,10,\"Decision Tree\",\"adult income\")"
   ]
  },
  {
   "cell_type": "code",
   "execution_count": 145,
   "metadata": {},
   "outputs": [
    {
     "name": "stdout",
     "output_type": "stream",
     "text": [
      "Complexity curve\n"
     ]
    },
    {
     "data": {
      "image/png": "[encoded data removed]",
      "text/plain": [
       "<Figure size 432x288 with 1 Axes>"
      ]
     },
     "metadata": {
      "needs_background": "light"
     },
     "output_type": "display_data"
    }
   ],
   "source": [
    "max_features = list(range(1,X_train.shape[1]))\n",
    "make_complexity_curve(DecisionTreeClassifier(), X_train, y_train,\"max_features\",max_features,10,\"Decision Tree\",\"adult income\")"
   ]
  },
  {
   "cell_type": "code",
   "execution_count": 69,
   "metadata": {},
   "outputs": [
    {
     "name": "stdout",
     "output_type": "stream",
     "text": [
      "depth: 1, val score: 0.7526167719951766\n",
      "depth: 2, val score: 0.8255103812281985\n",
      "depth: 3, val score: 0.8415196194536556\n",
      "depth: 4, val score: 0.8444561899788985\n",
      "depth: 5, val score: 0.8478191660206997\n",
      "depth: 6, val score: 0.8533605985243241\n",
      "depth: 7, val score: 0.852129179047701\n",
      "depth: 8, val score: 0.8527920129767596\n",
      "depth: 9, val score: 0.8522235171468356\n",
      "depth: 10, val score: 0.8513709976960511\n",
      "depth: 11, val score: 0.8512289522415056\n",
      "depth: 12, val score: 0.8487188545210513\n",
      "depth: 13, val score: 0.8460662178990281\n",
      "depth: 14, val score: 0.8427977145328223\n",
      "depth: 15, val score: 0.8408089660221352\n",
      "depth: 16, val score: 0.8373041463904798\n",
      "depth: 17, val score: 0.8358360293484346\n",
      "depth: 18, val score: 0.833231301946514\n",
      "depth: 19, val score: 0.8318100623717039\n",
      "depth: 20, val score: 0.8265994188091239\n",
      "depth: 21, val score: 0.8276892862782251\n",
      "depth: 22, val score: 0.8234266217360722\n",
      "depth: 23, val score: 0.8220529773696225\n",
      "depth: 24, val score: 0.8203476917445416\n",
      "depth: 25, val score: 0.8179316629702997\n",
      "depth: 26, val score: 0.8178369660006031\n",
      "depth: 27, val score: 0.8159901732268207\n",
      "depth: 28, val score: 0.8140953366564746\n",
      "depth: 29, val score: 0.8140478984539856\n",
      "depth: 30, val score: 0.8148059003703544\n",
      "depth: 31, val score: 0.8125797141237099\n",
      "depth: 32, val score: 0.813385042095517\n",
      "depth: 33, val score: 0.8127689061984122\n",
      "depth: 34, val score: 0.8122951970558259\n",
      "depth: 35, val score: 0.8112056884572872\n",
      "depth: 36, val score: 0.8122479831474385\n",
      "depth: 37, val score: 0.8132421891822057\n",
      "depth: 38, val score: 0.8142847978840992\n",
      "depth: 39, val score: 0.8101640442200306\n",
      "depth: 40, val score: 0.811395194543732\n",
      "depth: 41, val score: 0.8112055314514162\n",
      "depth: 42, val score: 0.8114899812310696\n",
      "depth: 43, val score: 0.8114897345075578\n",
      "depth: 44, val score: 0.8112057557455177\n",
      "depth: 45, val score: 0.8131000315806096\n",
      "depth: 46, val score: 0.8103061121039863\n",
      "depth: 47, val score: 0.8109687217389432\n",
      "depth: 48, val score: 0.8113007442975467\n",
      "depth: 49, val score: 0.8097846507471684\n",
      "best depth: 6\n"
     ]
    },
    {
     "data": {
      "image/png": "[encoded data removed]",
      "text/plain": [
       "<Figure size 432x288 with 1 Axes>"
      ]
     },
     "metadata": {
      "needs_background": "light"
     },
     "output_type": "display_data"
    }
   ],
   "source": [
    "train_scores = []\n",
    "val_scores = []\n",
    "folds = 10\n",
    "kf = KFold(n_splits=folds)\n",
    "\n",
    "max_depths = list(np.arange(1, 50, 1))\n",
    "for depth in max_depths:\n",
    "    avg_train = 0\n",
    "    avg_validation = 0\n",
    "    for train_index, validation_index in kf.split(X_train):\n",
    "        X_cv_train = X_train[train_index]\n",
    "        y_cv_train = y_train[train_index]\n",
    "\n",
    "        X_cv_val = X_train[validation_index]\n",
    "        y_cv_val = y_train[validation_index]\n",
    "\n",
    "        clf = DecisionTreeClassifier(max_depth=depth)\n",
    "        clf.fit(X_cv_train, y_cv_train)\n",
    "        train_score = accuracy_score(y_cv_train, clf.predict(X_cv_train))\n",
    "        val_score = accuracy_score(y_cv_val, clf.predict(X_cv_val))\n",
    "        avg_train += train_score\n",
    "        avg_validation += val_score\n",
    "    print(f\"depth: {depth}, val score: {avg_validation / folds}\")\n",
    "    train_scores.append(avg_train / folds)\n",
    "    val_scores.append(avg_validation / folds)\n",
    "\n",
    "plt.close()\n",
    "plt.figure()\n",
    "plt.title(\"test\")\n",
    "plt.xlabel(\"max_depths\")\n",
    "plt.ylabel(\"accuracy\")\n",
    "plt.plot(train_scores, label=\"train\")\n",
    "plt.plot(val_scores, label=\"validation\")\n",
    "plt.legend()\n",
    "plt.draw()\n",
    "\n",
    "best = max(list(zip(max_depths, val_scores)), key = lambda t: t[1])[0]\n",
    "print(f\"best depth: {best}\")"
   ]
  },
  {
   "cell_type": "code",
   "execution_count": 62,
   "metadata": {},
   "outputs": [],
   "source": [
    "from sklearn.model_selection import validation_curve\n",
    "\n",
    "train_scores, valid_scores = validation_curve(DecisionTreeClassifier(), X_train, y_train, \"max_depth\",list(np.arange(1, 50, 1)) , cv=5)"
   ]
  },
  {
   "cell_type": "code",
   "execution_count": 68,
   "metadata": {},
   "outputs": [
    {
     "name": "stdout",
     "output_type": "stream",
     "text": [
      "best depth: 9\n"
     ]
    },
    {
     "data": {
      "image/png": "[encoded data removed]",
      "text/plain": [
       "<Figure size 432x288 with 1 Axes>"
      ]
     },
     "metadata": {
      "needs_background": "light"
     },
     "output_type": "display_data"
    }
   ],
   "source": [
    "best = max(list(zip(max_depths, valid_scores_mean)), key = lambda t: t[1])[0]\n",
    "print(f\"best depth: {best}\")\n",
    "\n",
    "train_scores_mean = np.mean(train_scores, axis=1)\n",
    "valid_scores_mean = np.mean(valid_scores, axis=1)\n",
    "plt.close()\n",
    "plt.figure()\n",
    "plt.title(\"test\")\n",
    "plt.xlabel(\"max_depths\")\n",
    "plt.ylabel(\"accuracy\")\n",
    "plt.plot(train_scores_mean, label=\"train\")\n",
    "plt.plot(valid_scores_mean, label=\"validation\")\n",
    "plt.legend()\n",
    "plt.draw()"
   ]
  },
  {
   "cell_type": "code",
   "execution_count": 121,
   "metadata": {},
   "outputs": [
    {
     "name": "stdout",
     "output_type": "stream",
     "text": [
      "[[0.88263158 0.86684211 0.86684211 0.86684211 0.86684211 0.86684211\n",
      "  0.86684211 0.86684211 0.86684211 0.86684211]\n",
      " [0.86078947 0.85052632 0.86078947 0.86078947 0.86078947 0.86078947\n",
      "  0.86078947 0.86078947 0.86078947 0.86078947]\n",
      " [0.85982456 0.85035088 0.85824561 0.85754386 0.85754386 0.85754386\n",
      "  0.85754386 0.85754386 0.85754386 0.85754386]\n",
      " [0.85723684 0.84921053 0.85342105 0.85236842 0.85473684 0.85473684\n",
      "  0.85473684 0.85473684 0.85473684 0.85473684]\n",
      " [0.85410526 0.84978947 0.85389474 0.85336842 0.85326316 0.85094737\n",
      "  0.85094737 0.85094737 0.85094737 0.85094737]\n",
      " [0.85526316 0.84938596 0.855      0.85508772 0.85140351 0.85166667\n",
      "  0.85447368 0.85447368 0.85447368 0.85447368]\n",
      " [0.85586466 0.85481203 0.85398496 0.85774436 0.85781955 0.85285714\n",
      "  0.8543609  0.85120301 0.85120301 0.85120301]\n",
      " [0.85546053 0.85098684 0.85598684 0.85414474 0.85342105 0.85348684\n",
      "  0.85223684 0.85328947 0.85519737 0.85519737]\n",
      " [0.85421053 0.85081871 0.85625731 0.85181287 0.85321637 0.85345029\n",
      "  0.8528655  0.8548538  0.85374269 0.85385965]\n",
      " [0.85542866 0.85432346 0.85637598 0.85479712 0.85516552 0.85258671\n",
      "  0.85395505 0.85558655 0.85653387 0.85237619]]\n"
     ]
    }
   ],
   "source": [
    "from sklearn.model_selection import learning_curve\n",
    "\n",
    "train_sizes, train_scores, valid_scores = learning_curve(\n",
    "        DecisionTreeClassifier(min_samples_split = 0.05, min_samples_leaf = 0.001, max_depth=9), X_train, y_train, cv=10, train_sizes=np.linspace(0.1, 1.0, 10))\n",
    "print(train_scores)"
   ]
  },
  {
   "cell_type": "code",
   "execution_count": 122,
   "metadata": {},
   "outputs": [
    {
     "name": "stdout",
     "output_type": "stream",
     "text": [
      "[ 1900  3800  5700  7600  9500 11400 13300 15200 17100 19001]\n",
      "[0.86842105 0.85976316 0.85712281 0.85406579 0.85191579 0.85357018\n",
      " 0.85410526 0.85394079 0.85350877 0.85471291]\n",
      "[0.83465149 0.84743964 0.84772433 0.84431367 0.84848218 0.84715566\n",
      " 0.84966618 0.84886074 0.85023448 0.85165538]\n"
     ]
    },
    {
     "data": {
      "image/png": "[encoded data removed]",
      "text/plain": [
       "<Figure size 432x288 with 1 Axes>"
      ]
     },
     "metadata": {
      "needs_background": "light"
     },
     "output_type": "display_data"
    }
   ],
   "source": [
    "train_sizesi = [i for i in range(0, len(train_sizes))]\n",
    "print(train_sizes)\n",
    "train_scores_mean = np.mean(train_scores, axis=1)\n",
    "valid_scores_mean = np.mean(valid_scores, axis=1)\n",
    "print(train_scores_mean)\n",
    "print(valid_scores_mean)\n",
    "\n",
    "plt.close()\n",
    "plt.figure()\n",
    "plt.title(\"test\")\n",
    "plt.xlabel(\"number of samples\")\n",
    "plt.ylabel(\"accuracy\")\n",
    "plt.xticks(train_sizesi, train_sizes)\n",
    "plt.plot(train_scores_mean, label=\"train\")\n",
    "plt.plot(valid_scores_mean, label=\"validation\")\n",
    "plt.legend()\n",
    "plt.draw()"
   ]
  },
  {
   "cell_type": "code",
   "execution_count": null,
   "metadata": {},
   "outputs": [],
   "source": []
  },
  {
   "cell_type": "markdown",
   "metadata": {},
   "source": [
    "PRUNNING"
   ]
  },
  {
   "cell_type": "code",
   "execution_count": null,
   "metadata": {},
   "outputs": [],
   "source": [
    "def remove_subtree(self,root):\n",
    "    '''Clean up'''\n",
    "    tree = self.tree_\n",
    "    visited,stack= set(),[root]\n",
    "    while stack:\n",
    "        v = stack.pop()\n",
    "        visited.add(v)\n",
    "        left =tree.children_left[v]\n",
    "        right=tree.children_right[v]\n",
    "        if left >=0:\n",
    "            stack.append(left)\n",
    "        if right >=0:\n",
    "            stack.append(right)\n",
    "    for node in visited:\n",
    "        tree.children_left[node] = -1\n",
    "        tree.children_right[node] = -1\n",
    "    return \n",
    "        \n",
    "def prune(self):      \n",
    "    C = 1-self.alpha\n",
    "    if self.alpha <= -1: # Early exit\n",
    "        return self\n",
    "    tree = self.tree_        \n",
    "    bestScore = self.score(self.valX,self.valY)        \n",
    "    candidates = np.flatnonzero(tree.children_left>=0)\n",
    "    for candidate in reversed(candidates): # Go backwards/leaves up\n",
    "        if tree.children_left[candidate]==tree.children_right[candidate]: # leaf node. Ignore\n",
    "            continue\n",
    "        left = tree.children_left[candidate]\n",
    "        right = tree.children_right[candidate]\n",
    "        tree.children_left[candidate]=tree.children_right[candidate]=-1            \n",
    "        score = self.score(self.valX,self.valY)\n",
    "        if score >= C*bestScore:\n",
    "            bestScore = score                \n",
    "            self.remove_subtree(candidate)\n",
    "        else:\n",
    "            tree.children_left[candidate]=left\n",
    "            tree.children_right[candidate]=right\n",
    "    assert (self.tree_.children_left>=0).sum() == (self.tree_.children_right>=0).sum() \n",
    "    return self"
   ]
  },
  {
   "cell_type": "code",
   "execution_count": 39,
   "metadata": {},
   "outputs": [],
   "source": [
    "class DecisionTreeClassifierPruned(DecisionTreeClassifier):\n",
    "    def remove_subtree(self,root):\n",
    "        '''Clean up'''\n",
    "        tree = self.tree_\n",
    "        visited,stack= set(),[root]\n",
    "        while stack:\n",
    "            v = stack.pop()\n",
    "            visited.add(v)\n",
    "            left =tree.children_left[v]\n",
    "            right=tree.children_right[v]\n",
    "            if left >=0:\n",
    "                stack.append(left)\n",
    "            if right >=0:\n",
    "                stack.append(right)\n",
    "        for node in visited:\n",
    "            tree.children_left[node] = -1\n",
    "            tree.children_right[node] = -1\n",
    "        return\n",
    "    \n",
    "    def prune(self):      \n",
    "        C = 1-self.alpha\n",
    "        if self.alpha <= -1: # Early exit\n",
    "            return self\n",
    "        tree = self.tree_        \n",
    "        bestScore = self.score(self.valX,self.valY)        \n",
    "        candidates = np.flatnonzero(tree.children_left>=0)\n",
    "        for candidate in reversed(candidates): # Go backwards/leaves up\n",
    "            if tree.children_left[candidate]==tree.children_right[candidate]: # leaf node. Ignore\n",
    "                continue\n",
    "            left = tree.children_left[candidate]\n",
    "            right = tree.children_right[candidate]\n",
    "            tree.children_left[candidate]=tree.children_right[candidate]=-1            \n",
    "            score = self.score(self.valX,self.valY)\n",
    "            if score >= C*bestScore:\n",
    "                bestScore = score                \n",
    "                self.remove_subtree(candidate)\n",
    "            else:\n",
    "                tree.children_left[candidate]=left\n",
    "                tree.children_right[candidate]=right\n",
    "        assert (self.tree_.children_left>=0).sum() == (self.tree_.children_right>=0).sum() \n",
    "        return self\n",
    "    \n",
    "    def __init__(self,\n",
    "                 criterion=\"gini\",\n",
    "                 splitter=\"best\",\n",
    "                 max_depth=None,\n",
    "                 min_samples_split=2,\n",
    "                 min_samples_leaf=1,\n",
    "                 min_weight_fraction_leaf=0.,\n",
    "                 max_features=None,\n",
    "                 random_state=None,\n",
    "                 max_leaf_nodes=None,\n",
    "                 class_weight=None,\n",
    "                 presort=False,\n",
    "                 alpha = 0):\n",
    "     super(DecisionTreeClassifierPruned, self).__init__(\n",
    "            criterion=criterion,\n",
    "            splitter=splitter,\n",
    "            max_depth=max_depth,\n",
    "            min_samples_split=min_samples_split,\n",
    "            min_samples_leaf=min_samples_leaf,\n",
    "            min_weight_fraction_leaf=min_weight_fraction_leaf,\n",
    "            max_features=max_features,\n",
    "            max_leaf_nodes=max_leaf_nodes,\n",
    "            class_weight=class_weight,\n",
    "            random_state=random_state,\n",
    "            presort=presort)\n",
    "     self.alpha = alpha\n",
    "    \n",
    "    def fit(self,X,Y,sample_weight=None,check_input=True, X_idx_sorted=None):        \n",
    "        if sample_weight is None:\n",
    "            sample_weight = np.ones(X.shape[0]) \n",
    "        self.trgX = X.copy()\n",
    "        self.trgY = Y.copy()\n",
    "        self.trgWts = sample_weight.copy()        \n",
    "        sss = StratifiedShuffleSplit(n_splits=2,test_size=0.2,random_state=123)\n",
    "        for train_index, test_index in sss.split(self.trgX,self.trgY):\n",
    "            print(len(test_index))\n",
    "            self.valX = self.trgX[test_index]\n",
    "            self.valY = self.trgY[test_index]\n",
    "            self.trgX = self.trgX[train_index]\n",
    "            self.trgY = self.trgY[train_index]\n",
    "            self.valWts = sample_weight[test_index]\n",
    "            self.trgWts = sample_weight[train_index]\n",
    "        super().fit(self.trgX,self.trgY,self.trgWts,check_input,X_idx_sorted)\n",
    "        self.prune()\n",
    "        return self\n",
    "    \n",
    "    def numNodes(self):\n",
    "        assert (self.tree_.children_left>=0).sum() == (self.tree_.children_right>=0).sum() \n",
    "        return  (self.tree_.children_left>=0).sum()"
   ]
  },
  {
   "cell_type": "code",
   "execution_count": 41,
   "metadata": {},
   "outputs": [
    {
     "name": "stdout",
     "output_type": "stream",
     "text": [
      "depth: 49\n",
      "4103\n",
      "4103\n"
     ]
    },
    {
     "ename": "IndexError",
     "evalue": "index 20491 is out of bounds for axis 0 with size 16409",
     "output_type": "error",
     "traceback": [
      "\u001b[0;31m---------------------------------------------------------------------------\u001b[0m",
      "\u001b[0;31mIndexError\u001b[0m                                Traceback (most recent call last)",
      "\u001b[0;32m<ipython-input-41-0bfabeef13f6>\u001b[0m in \u001b[0;36m<module>\u001b[0;34m\u001b[0m\n\u001b[1;32m     17\u001b[0m \u001b[0;34m\u001b[0m\u001b[0m\n\u001b[1;32m     18\u001b[0m         \u001b[0mclf\u001b[0m \u001b[0;34m=\u001b[0m \u001b[0mDecisionTreeClassifierPruned\u001b[0m\u001b[0;34m(\u001b[0m\u001b[0mmax_depth\u001b[0m\u001b[0;34m=\u001b[0m\u001b[0;36m8\u001b[0m\u001b[0;34m,\u001b[0m \u001b[0malpha\u001b[0m\u001b[0;34m=\u001b[0m\u001b[0malpha\u001b[0m\u001b[0;34m)\u001b[0m\u001b[0;34m\u001b[0m\u001b[0m\n\u001b[0;32m---> 19\u001b[0;31m         \u001b[0mclf\u001b[0m\u001b[0;34m.\u001b[0m\u001b[0mfit\u001b[0m\u001b[0;34m(\u001b[0m\u001b[0mX_cv_train\u001b[0m\u001b[0;34m,\u001b[0m \u001b[0my_cv_train\u001b[0m\u001b[0;34m)\u001b[0m\u001b[0;34m\u001b[0m\u001b[0m\n\u001b[0m\u001b[1;32m     20\u001b[0m         \u001b[0mtrain_score\u001b[0m \u001b[0;34m=\u001b[0m \u001b[0maccuracy_score\u001b[0m\u001b[0;34m(\u001b[0m\u001b[0my_cv_train\u001b[0m\u001b[0;34m,\u001b[0m \u001b[0mclf\u001b[0m\u001b[0;34m.\u001b[0m\u001b[0mpredict\u001b[0m\u001b[0;34m(\u001b[0m\u001b[0mX_cv_train\u001b[0m\u001b[0;34m)\u001b[0m\u001b[0;34m)\u001b[0m\u001b[0;34m\u001b[0m\u001b[0m\n\u001b[1;32m     21\u001b[0m         \u001b[0mval_score\u001b[0m \u001b[0;34m=\u001b[0m \u001b[0maccuracy_score\u001b[0m\u001b[0;34m(\u001b[0m\u001b[0my_cv_val\u001b[0m\u001b[0;34m,\u001b[0m \u001b[0mclf\u001b[0m\u001b[0;34m.\u001b[0m\u001b[0mpredict\u001b[0m\u001b[0;34m(\u001b[0m\u001b[0mX_cv_val\u001b[0m\u001b[0;34m)\u001b[0m\u001b[0;34m)\u001b[0m\u001b[0;34m\u001b[0m\u001b[0m\n",
      "\u001b[0;32m<ipython-input-39-ef960353c435>\u001b[0m in \u001b[0;36mfit\u001b[0;34m(self, X, Y, sample_weight, check_input, X_idx_sorted)\u001b[0m\n\u001b[1;32m     77\u001b[0m         \u001b[0;32mfor\u001b[0m \u001b[0mtrain_index\u001b[0m\u001b[0;34m,\u001b[0m \u001b[0mtest_index\u001b[0m \u001b[0;32min\u001b[0m \u001b[0msss\u001b[0m\u001b[0;34m.\u001b[0m\u001b[0msplit\u001b[0m\u001b[0;34m(\u001b[0m\u001b[0mself\u001b[0m\u001b[0;34m.\u001b[0m\u001b[0mtrgX\u001b[0m\u001b[0;34m,\u001b[0m\u001b[0mself\u001b[0m\u001b[0;34m.\u001b[0m\u001b[0mtrgY\u001b[0m\u001b[0;34m)\u001b[0m\u001b[0;34m:\u001b[0m\u001b[0;34m\u001b[0m\u001b[0m\n\u001b[1;32m     78\u001b[0m             \u001b[0mprint\u001b[0m\u001b[0;34m(\u001b[0m\u001b[0mlen\u001b[0m\u001b[0;34m(\u001b[0m\u001b[0mtest_index\u001b[0m\u001b[0;34m)\u001b[0m\u001b[0;34m)\u001b[0m\u001b[0;34m\u001b[0m\u001b[0m\n\u001b[0;32m---> 79\u001b[0;31m             \u001b[0mself\u001b[0m\u001b[0;34m.\u001b[0m\u001b[0mvalX\u001b[0m \u001b[0;34m=\u001b[0m \u001b[0mself\u001b[0m\u001b[0;34m.\u001b[0m\u001b[0mtrgX\u001b[0m\u001b[0;34m[\u001b[0m\u001b[0mtest_index\u001b[0m\u001b[0;34m]\u001b[0m\u001b[0;34m\u001b[0m\u001b[0m\n\u001b[0m\u001b[1;32m     80\u001b[0m             \u001b[0mself\u001b[0m\u001b[0;34m.\u001b[0m\u001b[0mvalY\u001b[0m \u001b[0;34m=\u001b[0m \u001b[0mself\u001b[0m\u001b[0;34m.\u001b[0m\u001b[0mtrgY\u001b[0m\u001b[0;34m[\u001b[0m\u001b[0mtest_index\u001b[0m\u001b[0;34m]\u001b[0m\u001b[0;34m\u001b[0m\u001b[0m\n\u001b[1;32m     81\u001b[0m             \u001b[0mself\u001b[0m\u001b[0;34m.\u001b[0m\u001b[0mtrgX\u001b[0m \u001b[0;34m=\u001b[0m \u001b[0mself\u001b[0m\u001b[0;34m.\u001b[0m\u001b[0mtrgX\u001b[0m\u001b[0;34m[\u001b[0m\u001b[0mtrain_index\u001b[0m\u001b[0;34m]\u001b[0m\u001b[0;34m\u001b[0m\u001b[0m\n",
      "\u001b[0;31mIndexError\u001b[0m: index 20491 is out of bounds for axis 0 with size 16409"
     ]
    }
   ],
   "source": [
    "train_scores = []\n",
    "val_scores = []\n",
    "folds = 10\n",
    "kf = KFold(n_splits=folds)\n",
    "\n",
    "alphas = [-1,-1e-3,-(1e-3)*10**-0.5, -1e-2, -(1e-2)*10**-0.5,-1e-1,-(1e-1)*10**-0.5, 0, (1e-1)*10**-0.5,1e-1,(1e-2)*10**-0.5,1e-2,(1e-3)*10**-0.5,1e-3]\n",
    "for alpha in alphas:\n",
    "    avg_train = 0\n",
    "    avg_validation = 0\n",
    "    print(f\"depth: {depth}\")\n",
    "    for train_index, validation_index in kf.split(X_train):\n",
    "        X_cv_train = X_train[train_index]\n",
    "        y_cv_train = y_train[train_index]\n",
    "\n",
    "        X_cv_val = X_train[validation_index]\n",
    "        y_cv_val = y_train[validation_index]\n",
    "\n",
    "        clf = DecisionTreeClassifierPruned(max_depth=8, alpha=alpha)\n",
    "        clf.fit(X_cv_train, y_cv_train)\n",
    "        train_score = accuracy_score(y_cv_train, clf.predict(X_cv_train))\n",
    "        val_score = accuracy_score(y_cv_val, clf.predict(X_cv_val))\n",
    "        avg_train += train_score\n",
    "        avg_validation += val_score\n",
    "    train_scores.append(avg_train / folds)\n",
    "    val_scores.append(avg_validation / folds)"
   ]
  },
  {
   "cell_type": "code",
   "execution_count": 40,
   "metadata": {},
   "outputs": [
    {
     "ename": "NameError",
     "evalue": "name 'alphas' is not defined",
     "output_type": "error",
     "traceback": [
      "\u001b[0;31m---------------------------------------------------------------------------\u001b[0m",
      "\u001b[0;31mNameError\u001b[0m                                 Traceback (most recent call last)",
      "\u001b[0;32m<ipython-input-40-4bc120c16f0d>\u001b[0m in \u001b[0;36m<module>\u001b[0;34m\u001b[0m\n\u001b[0;32m----> 1\u001b[0;31m \u001b[0malphas_txt\u001b[0m \u001b[0;34m=\u001b[0m \u001b[0;34m[\u001b[0m\u001b[0;34m'%.2f'\u001b[0m\u001b[0;34m%\u001b[0m\u001b[0;34m(\u001b[0m\u001b[0malpha\u001b[0m\u001b[0;34m)\u001b[0m \u001b[0;32mfor\u001b[0m \u001b[0malpha\u001b[0m \u001b[0;32min\u001b[0m \u001b[0malphas\u001b[0m\u001b[0;34m]\u001b[0m\u001b[0;34m\u001b[0m\u001b[0m\n\u001b[0m\u001b[1;32m      2\u001b[0m \u001b[0malphasi\u001b[0m \u001b[0;34m=\u001b[0m \u001b[0;34m[\u001b[0m\u001b[0mi\u001b[0m \u001b[0;32mfor\u001b[0m \u001b[0mi\u001b[0m \u001b[0;32min\u001b[0m \u001b[0mrange\u001b[0m\u001b[0;34m(\u001b[0m\u001b[0;36m0\u001b[0m\u001b[0;34m,\u001b[0m \u001b[0mlen\u001b[0m\u001b[0;34m(\u001b[0m\u001b[0malphas\u001b[0m\u001b[0;34m)\u001b[0m\u001b[0;34m)\u001b[0m\u001b[0;34m]\u001b[0m\u001b[0;34m\u001b[0m\u001b[0m\n\u001b[1;32m      3\u001b[0m \u001b[0mplt\u001b[0m\u001b[0;34m.\u001b[0m\u001b[0mclose\u001b[0m\u001b[0;34m(\u001b[0m\u001b[0;34m)\u001b[0m\u001b[0;34m\u001b[0m\u001b[0m\n\u001b[1;32m      4\u001b[0m \u001b[0mplt\u001b[0m\u001b[0;34m.\u001b[0m\u001b[0mfigure\u001b[0m\u001b[0;34m(\u001b[0m\u001b[0;34m)\u001b[0m\u001b[0;34m\u001b[0m\u001b[0m\n\u001b[1;32m      5\u001b[0m \u001b[0mplt\u001b[0m\u001b[0;34m.\u001b[0m\u001b[0mtitle\u001b[0m\u001b[0;34m(\u001b[0m\u001b[0;34m\"pruning\"\u001b[0m\u001b[0;34m)\u001b[0m\u001b[0;34m\u001b[0m\u001b[0m\n",
      "\u001b[0;31mNameError\u001b[0m: name 'alphas' is not defined"
     ]
    }
   ],
   "source": [
    "alphas_txt = ['%.2f'%(alpha) for alpha in alphas]\n",
    "alphasi = [i for i in range(0, len(alphas))]\n",
    "plt.close()\n",
    "plt.figure()\n",
    "plt.title(\"pruning\")\n",
    "plt.xlabel(\"alpha\")\n",
    "plt.ylabel(\"accuracy\")\n",
    "plt.plot(train_scores, label=\"pruned_train\")\n",
    "plt.plot(val_scores, label=\"pruned_test\")\n",
    "#plt.plot(train_accuracies, label=\"train\")\n",
    "#plt.plot(test_accuracies, label=\"test\")\n",
    "plt.xticks(alphasi, alphas_txt)\n",
    "plt.legend()\n",
    "plt.draw()"
   ]
  },
  {
   "cell_type": "code",
   "execution_count": 38,
   "metadata": {},
   "outputs": [],
   "source": [
    "class DecisionTreeClassifierPruned(DecisionTreeClassifier):\n",
    "    def remove_subtree(self,root):\n",
    "        '''Clean up'''\n",
    "        tree = self.tree_\n",
    "        visited,stack= set(),[root]\n",
    "        while stack:\n",
    "            v = stack.pop()\n",
    "            visited.add(v)\n",
    "            left =tree.children_left[v]\n",
    "            right=tree.children_right[v]\n",
    "            if left >=0:\n",
    "                stack.append(left)\n",
    "            if right >=0:\n",
    "                stack.append(right)\n",
    "        for node in visited:\n",
    "            tree.children_left[node] = -1\n",
    "            tree.children_right[node] = -1\n",
    "        return\n",
    "    \n",
    "    def prune(self):      \n",
    "        C = 1-self.alpha\n",
    "        if self.alpha <= -1: # Early exit\n",
    "            return self\n",
    "        tree = self.tree_        \n",
    "        bestScore = self.score(self.valX,self.valY)        \n",
    "        candidates = np.flatnonzero(tree.children_left>=0)\n",
    "        for candidate in reversed(candidates): # Go backwards/leaves up\n",
    "            if tree.children_left[candidate]==tree.children_right[candidate]: # leaf node. Ignore\n",
    "                continue\n",
    "            left = tree.children_left[candidate]\n",
    "            right = tree.children_right[candidate]\n",
    "            tree.children_left[candidate]=tree.children_right[candidate]=-1            \n",
    "            score = self.score(self.valX,self.valY)\n",
    "            if score >= C*bestScore:\n",
    "                bestScore = score                \n",
    "                self.remove_subtree(candidate)\n",
    "            else:\n",
    "                tree.children_left[candidate]=left\n",
    "                tree.children_right[candidate]=right\n",
    "        assert (self.tree_.children_left>=0).sum() == (self.tree_.children_right>=0).sum() \n",
    "        return self\n",
    "    \n",
    "    def __init__(self,\n",
    "                 criterion=\"gini\",\n",
    "                 splitter=\"best\",\n",
    "                 max_depth=None,\n",
    "                 min_samples_split=2,\n",
    "                 min_samples_leaf=1,\n",
    "                 min_weight_fraction_leaf=0.,\n",
    "                 max_features=None,\n",
    "                 random_state=None,\n",
    "                 max_leaf_nodes=None,\n",
    "                 class_weight=None,\n",
    "                 presort=False,\n",
    "                 alpha = 0):\n",
    "     super(DecisionTreeClassifierPruned, self).__init__(\n",
    "            criterion=criterion,\n",
    "            splitter=splitter,\n",
    "            max_depth=max_depth,\n",
    "            min_samples_split=min_samples_split,\n",
    "            min_samples_leaf=min_samples_leaf,\n",
    "            min_weight_fraction_leaf=min_weight_fraction_leaf,\n",
    "            max_features=max_features,\n",
    "            max_leaf_nodes=max_leaf_nodes,\n",
    "            class_weight=class_weight,\n",
    "            random_state=random_state,\n",
    "            presort=presort)\n",
    "     self.alpha = alpha\n",
    "    \n",
    "    def fit(self,X,Y,sample_weight=None,check_input=True, X_idx_sorted=None):        \n",
    "        if sample_weight is None:\n",
    "            sample_weight = np.ones(X.shape[0]) \n",
    "        self.trgX = X.copy()\n",
    "        self.trgY = Y.copy()\n",
    "        self.trgWts = sample_weight.copy()        \n",
    "        sss = StratifiedShuffleSplit(n_splits=2,test_size=0.2,random_state=123)\n",
    "        for train_index, test_index in sss.split(self.trgX,self.trgY):\n",
    "            print(len(test_index))\n",
    "            self.valX = self.trgX[test_index]\n",
    "            self.valY = self.trgY[test_index]\n",
    "            self.trgX = self.trgX[train_index]\n",
    "            self.trgY = self.trgY[train_index]\n",
    "            self.valWts = sample_weight[test_index]\n",
    "            self.trgWts = sample_weight[train_index]\n",
    "        super().fit(self.trgX,self.trgY,self.trgWts,check_input,X_idx_sorted)\n",
    "        self.prune()\n",
    "        return self\n",
    "    \n",
    "    def numNodes(self):\n",
    "        assert (self.tree_.children_left>=0).sum() == (self.tree_.children_right>=0).sum() \n",
    "        return  (self.tree_.children_left>=0).sum()"
   ]
  },
  {
   "cell_type": "code",
   "execution_count": null,
   "metadata": {},
   "outputs": [
    {
     "name": "stdout",
     "output_type": "stream",
     "text": [
      "5\n",
      "KFold(n_splits=5, random_state=None, shuffle=False)\n",
      "1\n",
      "split\n"
     ]
    }
   ],
   "source": [
    "kf = KFold(n_splits=5)\n",
    "print(kf.get_n_splits(X_train))\n",
    "print(kf)\n",
    "max_depths = list(np.arange(1, 50, 1))\n",
    "train_scores = []\n",
    "val_scores = []\n",
    "for depth in max_depths:\n",
    "    print(depth)\n",
    "    avg_train = 0\n",
    "    avg_validation = 0\n",
    "    for train_index, validation_index in kf.split(X_train):\n",
    "        print(\"split\")\n",
    "        train_x = X_train[train_index]\n",
    "        train_y = X_train[train_index]\n",
    "        validation_x = X_train[validation_index]\n",
    "        validation_y = X_train[validation_index]\n",
    "        clf = DecisionTreeClassifier(max_depth=depth)\n",
    "        clf.fit(train_x, train_y)\n",
    "        train_score = accuracy_score(train_y, clf.predict(train_x))\n",
    "        val_score = accuracy_score(validation_y, clf.predict(validation_x))\n",
    "        avg_train += train_score\n",
    "        avg_validation += val_score\n",
    "    train_scores.append(avg_train / 10)\n",
    "    val_scores.append(avg_validation / 10)"
   ]
  },
  {
   "cell_type": "code",
   "execution_count": null,
   "metadata": {},
   "outputs": [
    {
     "name": "stdout",
     "output_type": "stream",
     "text": [
      "5\n",
      "KFold(n_splits=5, random_state=None, shuffle=False)\n",
      "1\n",
      "split\n"
     ]
    }
   ],
   "source": [
    "kf = KFold(n_splits=5)\n",
    "print(kf.get_n_splits(X_train))\n",
    "print(kf)\n",
    "max_depths = list(np.arange(1, 50, 1))\n",
    "train_scores = []\n",
    "val_scores = []\n",
    "for depth in max_depths:\n",
    "    print(depth)\n",
    "    avg_train = 0\n",
    "    avg_validation = 0\n",
    "    for train_index, validation_index in kf.split(X_train):\n",
    "        print(\"split\")\n",
    "        train_x = X_train[train_index]\n",
    "        train_y = X_train[train_index]\n",
    "        validation_x = X_train[validation_index]\n",
    "        validation_y = X_train[validation_index]\n",
    "        clf = DecisionTreeClassifier(max_depth=depth)\n",
    "        clf.fit(train_x, train_y)\n",
    "        train_score = accuracy_score(train_y, clf.predict(train_x))\n",
    "        val_score = accuracy_score(validation_y, clf.predict(validation_x))\n",
    "        avg_train += train_score\n",
    "        avg_validation += val_score\n",
    "    print(avg_train / 10)\n",
    "    print(avg_validation/10)\n",
    "    print(\"\")\n",
    "    train_scores.append(avg_train / 10)\n",
    "    val_scores.append(avg_validation / 10)"
   ]
  },
  {
   "cell_type": "code",
   "execution_count": null,
   "metadata": {},
   "outputs": [],
   "source": []
  },
  {
   "cell_type": "code",
   "execution_count": 32,
   "metadata": {},
   "outputs": [
    {
     "data": {
      "text/plain": [
       "[0.7526167719951766,\n",
       " 0.8256051006273057,\n",
       " 0.8416143388527626,\n",
       " 0.841661687337611,\n",
       " 0.8448352470106082,\n",
       " 0.8537395209795731,\n",
       " 0.8584284788912336,\n",
       " 0.8623598834747284,\n",
       " 0.8668593577293541,\n",
       " 0.8730639830325998,\n",
       " 0.8792213047098173,\n",
       " 0.8861839767882518,\n",
       " 0.89234138818311,\n",
       " 0.8975512242869241,\n",
       " 0.9049873812138438,\n",
       " 0.9108126803324579,\n",
       " 0.9173965645321045,\n",
       " 0.9255906560871624,\n",
       " 0.9342585240730374,\n",
       " 0.9415052197723325,\n",
       " 0.9478992390149721,\n",
       " 0.954577865043136,\n",
       " 0.9607350970027131,\n",
       " 0.9673189587729498,\n",
       " 0.9734763701678079,\n",
       " 0.9783077099751661,\n",
       " 0.9817177653488942,\n",
       " 0.985364809870376,\n",
       " 0.9878749300202403,\n",
       " 0.9901484647517333,\n",
       " 0.9924692806798445,\n",
       " 0.9935586771313322,\n",
       " 0.9941270159553852,\n",
       " 0.9954057614874469,\n",
       " 0.996495090650704,\n",
       " 0.9973475876720783,\n",
       " 0.9980107131834691,\n",
       " 0.9982948265219701,\n",
       " 0.9987685356645564,\n",
       " 0.9990526938618778,\n",
       " 0.9991947841752437,\n",
       " 0.9994316163171266,\n",
       " 0.9995736842010825,\n",
       " 0.9997158418026786,\n",
       " 0.9998105387723756,\n",
       " 0.9998105612017856,\n",
       " 0.999905280600893,\n",
       " 0.9999526290857415,\n",
       " 0.9999526290857415]"
      ]
     },
     "execution_count": 32,
     "metadata": {},
     "output_type": "execute_result"
    }
   ],
   "source": [
    "val_scores"
   ]
  },
  {
   "cell_type": "code",
   "execution_count": 40,
   "metadata": {},
   "outputs": [
    {
     "data": {
      "text/plain": [
       "[0.7526167719951766,\n",
       " 0.8256051006273057,\n",
       " 0.8416143388527626,\n",
       " 0.841661687337611,\n",
       " 0.8447878760963496,\n",
       " 0.8536921724947245,\n",
       " 0.8583811304063851,\n",
       " 0.8623598834747284,\n",
       " 0.8669540771284613,\n",
       " 0.8729692636334926,\n",
       " 0.8795055526247794,\n",
       " 0.8865154161821914,\n",
       " 0.8921046009000474,\n",
       " 0.8973618303475301,\n",
       " 0.9046084363291846,\n",
       " 0.9112862548985833,\n",
       " 0.917396474814464,\n",
       " 0.9262536694515022,\n",
       " 0.9335953761322366,\n",
       " 0.9410315106297462,\n",
       " 0.9474255298723857,\n",
       " 0.9542463807903765,\n",
       " 0.9605456133456786,\n",
       " 0.9676032739761423,\n",
       " 0.9735238532291172,\n",
       " 0.97816555237357,\n",
       " 0.9822860368847165,\n",
       " 0.9856016195828488,\n",
       " 0.9879223906521395,\n",
       " 0.990006441726598,\n",
       " 0.9922797073051692,\n",
       " 0.9934165195297359,\n",
       " 0.9946007026685617,\n",
       " 0.9956899869729986,\n",
       " 0.9967792937068459,\n",
       " 0.9973476325308986,\n",
       " 0.9980106907540589,\n",
       " 0.9984369616941562,\n",
       " 0.9988632550636638,\n",
       " 0.9990526938618778,\n",
       " 0.9991947841752437,\n",
       " 0.9993368969180194,\n",
       " 0.9995737290599026,\n",
       " 0.9996210999741614,\n",
       " 0.9998105387723755,\n",
       " 0.9998105612017856,\n",
       " 0.999905280600893,\n",
       " 0.9999526290857415,\n",
       " 0.9999526290857415]"
      ]
     },
     "execution_count": 40,
     "metadata": {},
     "output_type": "execute_result"
    }
   ],
   "source": [
    "val_scores"
   ]
  },
  {
   "cell_type": "code",
   "execution_count": null,
   "metadata": {},
   "outputs": [],
   "source": []
  },
  {
   "cell_type": "code",
   "execution_count": null,
   "metadata": {},
   "outputs": [],
   "source": []
  },
  {
   "cell_type": "code",
   "execution_count": 35,
   "metadata": {},
   "outputs": [
    {
     "data": {
      "image/png": "[encoded data removed]",
      "text/plain": [
       "<Figure size 432x288 with 1 Axes>"
      ]
     },
     "metadata": {
      "needs_background": "light"
     },
     "output_type": "display_data"
    }
   ],
   "source": [
    "import matplotlib.pyplot as plt\n",
    "plt.close()\n",
    "plt.figure()\n",
    "plt.title(\"test\")\n",
    "plt.xlabel(\"max_depths\")\n",
    "plt.ylabel(\"accuracy\")\n",
    "plt.plot(train_scores, label=\"train\")\n",
    "plt.plot(val_scores, label=\"validation\")\n",
    "plt.legend()\n",
    "plt.draw()"
   ]
  },
  {
   "cell_type": "code",
   "execution_count": 275,
   "metadata": {},
   "outputs": [],
   "source": [
    "max_depths = list(np.arange(1, 50, 1))\n",
    "training_accuracies = []\n",
    "test_accuracies = []\n",
    "for depth in max_depths:\n",
    "    clf = tree.DecisionTreeClassifier(max_depth=depth)\n",
    "    clf.fit(X_train, y_train)\n",
    "    training_accuracy_score = accuracy_score(y_train, clf.predict(X_train))\n",
    "    test_accuracy_score = accuracy_score(y_test, clf.predict(X_test))\n",
    "    training_accuracies.append(training_accuracy_score)\n",
    "    test_accuracies.append(test_accuracy_score)\n",
    "    "
   ]
  },
  {
   "cell_type": "code",
   "execution_count": 276,
   "metadata": {},
   "outputs": [
    {
     "data": {
      "image/png": "[encoded data removed]",
      "text/plain": [
       "<Figure size 432x288 with 1 Axes>"
      ]
     },
     "metadata": {
      "needs_background": "light"
     },
     "output_type": "display_data"
    }
   ],
   "source": [
    "import matplotlib.pyplot as plt\n",
    "plt.close()\n",
    "plt.figure()\n",
    "plt.title(\"test\")\n",
    "plt.xlabel(\"max_depths\")\n",
    "plt.ylabel(\"accuracy\")\n",
    "plt.plot(training_accuracies, label=\"train\")\n",
    "plt.plot(test_accuracies, label=\"test\")\n",
    "plt.legend()\n",
    "plt.draw()"
   ]
  },
  {
   "cell_type": "code",
   "execution_count": 277,
   "metadata": {},
   "outputs": [
    {
     "name": "stdout",
     "output_type": "stream",
     "text": [
      "feature importance\n",
      "('marital-status_Married-civ-spouse', 0.20029642547000676)\n",
      "('fnlwgt', 0.1779470666207186)\n",
      "('age', 0.11894188303073573)\n",
      "('education-num', 0.11566122657677881)\n",
      "('capital-gain', 0.10442998377459445)\n",
      "('hours-per-week', 0.0635133100801498)\n",
      "('capital-loss', 0.033761822143843455)\n",
      "('workclass_Private', 0.011195003538031397)\n",
      "('occupation_Exec-managerial', 0.008128578440332317)\n",
      "('workclass_Self-emp-not-inc', 0.007808549588912987)\n",
      "\n"
     ]
    }
   ],
   "source": [
    "feature_importances = sorted(list(zip(df_dummies.columns.values, clf.feature_importances_)), key=lambda tup: tup[1], reverse=True)\n",
    "print(\"feature importance\")\n",
    "for fi in feature_importances[:10]:\n",
    "    print(fi)\n",
    "print(\"\")"
   ]
  },
  {
   "cell_type": "code",
   "execution_count": 278,
   "metadata": {},
   "outputs": [
    {
     "name": "stdout",
     "output_type": "stream",
     "text": [
      "21113\n",
      "(21113, 104)\n",
      "(21113,)\n"
     ]
    },
    {
     "data": {
      "image/png": "[encoded data removed]",
      "text/plain": [
       "<Figure size 432x288 with 1 Axes>"
      ]
     },
     "metadata": {
      "needs_background": "light"
     },
     "output_type": "display_data"
    }
   ],
   "source": [
    "percentages = list(np.arange(1, 100, 1))\n",
    "number_of_examples = X_train.shape[0]\n",
    "print(number_of_examples)\n",
    "print(X_train.shape)\n",
    "print(y_train.shape)\n",
    "training_accuracies = []\n",
    "test_accuracies = []\n",
    "sample_accuracies = []\n",
    "for percentage in percentages:\n",
    "    indexes = list(np.arange(0, int((percentage / 100) * number_of_examples), 1))\n",
    "    clf = tree.DecisionTreeClassifier(max_depth=15)\n",
    "    clf.fit(X_train[indexes], y_train[indexes])\n",
    "    training_accuracy_score = accuracy_score(y_train, clf.predict(X_train))\n",
    "    test_accuracy_score = accuracy_score(y_test, clf.predict(X_test))\n",
    "    sample_accuracy = accuracy_score(y_train[indexes], clf.predict(X_train[indexes]))\n",
    "    training_accuracies.append(training_accuracy_score)\n",
    "    test_accuracies.append(test_accuracy_score)\n",
    "    sample_accuracies.append(sample_accuracy)\n",
    "\n",
    "import matplotlib.pyplot as plt\n",
    "plt.close()\n",
    "plt.figure()\n",
    "plt.title(\"test\")\n",
    "plt.xlabel(\"percentage of sample\")\n",
    "plt.ylabel(\"accuracy\")\n",
    "plt.plot(training_accuracies, label=\"train\")\n",
    "plt.plot(test_accuracies, label=\"test\")\n",
    "plt.plot(sample_accuracies, label=\"sample\")\n",
    "plt.legend()\n",
    "plt.draw()"
   ]
  },
  {
   "cell_type": "code",
   "execution_count": 279,
   "metadata": {},
   "outputs": [
    {
     "name": "stdout",
     "output_type": "stream",
     "text": [
      "train accuracy: 0.9047979917586321\n",
      "test accuracy: 0.8368880539286109\n"
     ]
    }
   ],
   "source": [
    "clf = tree.DecisionTreeClassifier(max_depth=15)\n",
    "clf.fit(X_train, y_train)\n",
    "training_accuracy_score = accuracy_score(y_train, clf.predict(X_train))\n",
    "test_accuracy_score = accuracy_score(y_test, clf.predict(X_test))\n",
    "print(f\"train accuracy: {training_accuracy_score}\")\n",
    "print(f\"test accuracy: {test_accuracy_score}\")"
   ]
  },
  {
   "cell_type": "code",
   "execution_count": 280,
   "metadata": {},
   "outputs": [
    {
     "data": {
      "text/plain": [
       "<function ndarray.sum>"
      ]
     },
     "execution_count": 280,
     "metadata": {},
     "output_type": "execute_result"
    }
   ],
   "source": [
    "(clf.tree_.children_left > 0).sum"
   ]
  },
  {
   "cell_type": "code",
   "execution_count": 37,
   "metadata": {},
   "outputs": [],
   "source": [
    "class dtclf_pruned(DecisionTreeClassifier):        \n",
    "    def remove_subtree(self,root):\n",
    "        '''Clean up'''\n",
    "        tree = self.tree_\n",
    "        visited,stack= set(),[root]\n",
    "        while stack:\n",
    "            v = stack.pop()\n",
    "            visited.add(v)\n",
    "            left =tree.children_left[v]\n",
    "            right=tree.children_right[v]\n",
    "            if left >=0:\n",
    "                stack.append(left)\n",
    "            if right >=0:\n",
    "                stack.append(right)\n",
    "        for node in visited:\n",
    "            tree.children_left[node] = -1\n",
    "            tree.children_right[node] = -1\n",
    "        return \n",
    "        \n",
    "    def prune(self):      \n",
    "        C = 1-self.alpha\n",
    "        if self.alpha <= -1: # Early exit\n",
    "            return self\n",
    "        tree = self.tree_        \n",
    "        bestScore = self.score(self.valX,self.valY)        \n",
    "        candidates = np.flatnonzero(tree.children_left>=0)\n",
    "        for candidate in reversed(candidates): # Go backwards/leaves up\n",
    "            if tree.children_left[candidate]==tree.children_right[candidate]: # leaf node. Ignore\n",
    "                continue\n",
    "            left = tree.children_left[candidate]\n",
    "            right = tree.children_right[candidate]\n",
    "            tree.children_left[candidate]=tree.children_right[candidate]=-1            \n",
    "            score = self.score(self.valX,self.valY)\n",
    "            if score >= C*bestScore:\n",
    "                bestScore = score                \n",
    "                self.remove_subtree(candidate)\n",
    "            else:\n",
    "                tree.children_left[candidate]=left\n",
    "                tree.children_right[candidate]=right\n",
    "        assert (self.tree_.children_left>=0).sum() == (self.tree_.children_right>=0).sum() \n",
    "        return self\n",
    "        \n",
    "    def fit(self,X,Y,sample_weight=None,check_input=True, X_idx_sorted=None):        \n",
    "        if sample_weight is None:\n",
    "            sample_weight = np.ones(X.shape[0]) \n",
    "        self.trgX = X.copy()\n",
    "        self.trgY = Y.copy()\n",
    "        self.trgWts = sample_weight.copy()        \n",
    "        sss = ms.StratifiedShuffleSplit(n_splits=1,test_size=0.2,random_state=123)\n",
    "        for train_index, test_index in sss.split(self.trgX,self.trgY):\n",
    "            self.valX = self.trgX[test_index]\n",
    "            self.valY = self.trgY[test_index]\n",
    "            self.trgX = self.trgX[train_index]\n",
    "            self.trgY = self.trgY[train_index]\n",
    "            self.valWts = sample_weight[test_index]\n",
    "            self.trgWts = sample_weight[train_index]\n",
    "        super().fit(self.trgX,self.trgY,self.trgWts,check_input,X_idx_sorted)\n",
    "        self.prune()\n",
    "        return self\n",
    "    def __init__(self,\n",
    "                 criterion=\"gini\",\n",
    "                 splitter=\"best\",\n",
    "                 max_depth=None,\n",
    "                 min_samples_split=2,\n",
    "                 min_samples_leaf=1,\n",
    "                 min_weight_fraction_leaf=0.,\n",
    "                 max_features=None,\n",
    "                 random_state=None,\n",
    "                 max_leaf_nodes=None,\n",
    "                 min_impurity_split=1e-7,\n",
    "                 class_weight=None,\n",
    "                 presort=False,\n",
    "                 alpha = 0):\n",
    "        super(dtclf_pruned, self).__init__(\n",
    "            criterion=criterion,\n",
    "            splitter=splitter,\n",
    "            max_depth=max_depth,\n",
    "            min_samples_split=min_samples_split,\n",
    "            min_samples_leaf=min_samples_leaf,\n",
    "            min_weight_fraction_leaf=min_weight_fraction_leaf,\n",
    "            max_features=max_features,\n",
    "            max_leaf_nodes=max_leaf_nodes,\n",
    "            class_weight=class_weight,\n",
    "            random_state=random_state,\n",
    "            min_impurity_split=min_impurity_split,\n",
    "            presort=presort)\n",
    "        self.alpha = alpha\n",
    "        \n",
    "    def numNodes(self):\n",
    "        assert (self.tree_.children_left>=0).sum() == (self.tree_.children_right>=0).sum() \n",
    "        return  (self.tree_.children_left>=0).sum()"
   ]
  },
  {
   "cell_type": "code",
   "execution_count": 282,
   "metadata": {},
   "outputs": [
    {
     "name": "stdout",
     "output_type": "stream",
     "text": [
      "train accuracy: 0.9046558992090181\n",
      "test accuracy: 0.835340921648801\n"
     ]
    },
    {
     "data": {
      "text/plain": [
       "1769"
      ]
     },
     "execution_count": 282,
     "metadata": {},
     "output_type": "execute_result"
    }
   ],
   "source": [
    "clf = tree.DecisionTreeClassifier(max_depth=15)\n",
    "clf.fit(X_train, y_train)\n",
    "training_accuracy_score = accuracy_score(y_train, clf.predict(X_train))\n",
    "test_accuracy_score = accuracy_score(y_test, clf.predict(X_test))\n",
    "print(f\"train accuracy: {training_accuracy_score}\")\n",
    "print(f\"test accuracy: {test_accuracy_score}\")\n",
    "clf.tree_.node_count"
   ]
  },
  {
   "cell_type": "code",
   "execution_count": 283,
   "metadata": {},
   "outputs": [],
   "source": [
    "def remove_subtree(tree, root):\n",
    "    '''Clean up'''\n",
    "    visited,stack= set(),[root]\n",
    "    while stack:\n",
    "        v = stack.pop()\n",
    "        visited.add(v)\n",
    "        left =tree.children_left[v]\n",
    "        right=tree.children_right[v]\n",
    "        if left >=0:\n",
    "            stack.append(left)\n",
    "        if right >=0:\n",
    "            stack.append(right)\n",
    "    for node in visited:\n",
    "        tree.children_left[node] = -1\n",
    "        tree.children_right[node] = -1\n",
    "    return \n",
    "        \n",
    "def prune(dt, alpha, tree, X, Y):      \n",
    "    C = 1-alpha\n",
    "    if alpha <= -1: # Early exit\n",
    "        return dt     \n",
    "    bestScore = dt.score(X,Y)\n",
    "    candidates = np.flatnonzero(tree.children_left>=0)\n",
    "    for candidate in reversed(candidates): # Go backwards/leaves up\n",
    "        if tree.children_left[candidate]==tree.children_right[candidate]: # leaf node. Ignore\n",
    "            continue\n",
    "        left = tree.children_left[candidate]\n",
    "        right = tree.children_right[candidate]\n",
    "        tree.children_left[candidate]=tree.children_right[candidate]=-1            \n",
    "        score = dt.score(X, Y)\n",
    "        if score >= C*bestScore:\n",
    "            bestScore = score                \n",
    "            remove_subtree(tree, candidate)\n",
    "        else:\n",
    "            tree.children_left[candidate]=left\n",
    "            tree.children_right[candidate]=right\n",
    "    assert (tree.children_left>=0).sum() == (tree.children_right>=0).sum() \n",
    "    return dt"
   ]
  },
  {
   "cell_type": "code",
   "execution_count": 284,
   "metadata": {},
   "outputs": [],
   "source": [
    "alphas = [-1,-1e-3,-(1e-3)*10**-0.5, -1e-2, -(1e-2)*10**-0.5,-1e-1,-(1e-1)*10**-0.5, 0, (1e-1)*10**-0.5,1e-1,(1e-2)*10**-0.5,1e-2,(1e-3)*10**-0.5,1e-3]\n",
    "pruned_train_accuracies = []\n",
    "pruned_test_accuracies = []\n",
    "train_accuracies = []\n",
    "test_accuracies = []\n",
    "for alpha in alphas:\n",
    "    clf = tree.DecisionTreeClassifier(max_depth=15)\n",
    "    clf.fit(X_train, y_train)\n",
    "    training_accuracy_score = accuracy_score(y_train, clf.predict(X_train))\n",
    "    test_accuracy_score = accuracy_score(y_test, clf.predict(X_test))\n",
    "\n",
    "    \n",
    "    train_accuracies.append(training_accuracy_score)\n",
    "    test_accuracies.append(test_accuracy_score)\n",
    "    pruned_dt = prune(clf, alpha, clf.tree_, X_test, y_test)\n",
    "    training_accuracy_score = accuracy_score(y_train, pruned_dt.predict(X_train))\n",
    "    test_accuracy_score = accuracy_score(y_test, pruned_dt.predict(X_test))\n",
    " \n",
    "    pruned_train_accuracies.append(training_accuracy_score)\n",
    "    pruned_test_accuracies.append(test_accuracy_score)"
   ]
  },
  {
   "cell_type": "code",
   "execution_count": 285,
   "metadata": {
    "scrolled": true
   },
   "outputs": [
    {
     "data": {
      "image/png": "[encoded data removed]",
      "text/plain": [
       "<Figure size 432x288 with 1 Axes>"
      ]
     },
     "metadata": {
      "needs_background": "light"
     },
     "output_type": "display_data"
    }
   ],
   "source": [
    "alphas_txt = ['%.2f'%(alpha) for alpha in alphas]\n",
    "alphasi = [i for i in range(0, len(alphas))]\n",
    "plt.close()\n",
    "plt.figure()\n",
    "plt.title(\"pruning\")\n",
    "plt.xlabel(\"alpha\")\n",
    "plt.ylabel(\"accuracy\")\n",
    "plt.plot(pruned_train_accuracies, label=\"pruned_train\")\n",
    "plt.plot(pruned_test_accuracies, label=\"pruned_test\")\n",
    "#plt.plot(train_accuracies, label=\"train\")\n",
    "#plt.plot(test_accuracies, label=\"test\")\n",
    "plt.xticks(alphasi, alphas_txt)\n",
    "plt.legend()\n",
    "plt.draw()"
   ]
  },
  {
   "cell_type": "code",
   "execution_count": 286,
   "metadata": {},
   "outputs": [
    {
     "name": "stdout",
     "output_type": "stream",
     "text": [
      "feature importance\n",
      "('marital-status_Married-civ-spouse', 0.458506516284486)\n",
      "('education-num', 0.2141854841951956)\n",
      "('capital-gain', 0.2126094257418558)\n",
      "('capital-loss', 0.053093480615382486)\n",
      "('age', 0.03590226097879929)\n",
      "('hours-per-week', 0.0176323930890998)\n",
      "('occupation_Exec-managerial', 0.006093198479372385)\n",
      "('workclass_Self-emp-not-inc', 0.0019772406158086947)\n",
      "('fnlwgt', 0.0)\n",
      "('workclass_Federal-gov', 0.0)\n",
      "\n"
     ]
    }
   ],
   "source": [
    "feature_importances = sorted(list(zip(df_dummies.columns.values, clf.feature_importances_)), key=lambda tup: tup[1], reverse=True)\n",
    "print(\"feature importance\")\n",
    "for fi in feature_importances[:10]:\n",
    "    print(fi)\n",
    "print(\"\")"
   ]
  },
  {
   "cell_type": "code",
   "execution_count": 287,
   "metadata": {},
   "outputs": [],
   "source": [
    "tree = clf.tree_"
   ]
  },
  {
   "cell_type": "code",
   "execution_count": 288,
   "metadata": {},
   "outputs": [
    {
     "data": {
      "text/plain": [
       "1775"
      ]
     },
     "execution_count": 288,
     "metadata": {},
     "output_type": "execute_result"
    }
   ],
   "source": [
    "len(tree.feature)"
   ]
  },
  {
   "cell_type": "code",
   "execution_count": 289,
   "metadata": {},
   "outputs": [
    {
     "ename": "AttributeError",
     "evalue": "'sklearn.tree._tree.Tree' object has no attribute 'DecisionTreeClassifier'",
     "output_type": "error",
     "traceback": [
      "\u001b[0;31m---------------------------------------------------------------------------\u001b[0m",
      "\u001b[0;31mAttributeError\u001b[0m                            Traceback (most recent call last)",
      "\u001b[0;32m<ipython-input-289-6dfc9eade9ef>\u001b[0m in \u001b[0;36m<module>\u001b[0;34m\u001b[0m\n\u001b[0;32m----> 1\u001b[0;31m \u001b[0mclf\u001b[0m \u001b[0;34m=\u001b[0m \u001b[0mtree\u001b[0m\u001b[0;34m.\u001b[0m\u001b[0mDecisionTreeClassifier\u001b[0m\u001b[0;34m(\u001b[0m\u001b[0mmax_depth\u001b[0m\u001b[0;34m=\u001b[0m\u001b[0;36m15\u001b[0m\u001b[0;34m)\u001b[0m\u001b[0;34m\u001b[0m\u001b[0m\n\u001b[0m\u001b[1;32m      2\u001b[0m \u001b[0mclf\u001b[0m\u001b[0;34m.\u001b[0m\u001b[0mfit\u001b[0m\u001b[0;34m(\u001b[0m\u001b[0mX_train\u001b[0m\u001b[0;34m,\u001b[0m \u001b[0my_train\u001b[0m\u001b[0;34m)\u001b[0m\u001b[0;34m\u001b[0m\u001b[0m\n",
      "\u001b[0;31mAttributeError\u001b[0m: 'sklearn.tree._tree.Tree' object has no attribute 'DecisionTreeClassifier'"
     ]
    }
   ],
   "source": [
    "clf = tree.DecisionTreeClassifier(max_depth=15)\n",
    "clf.fit(X_train, y_train)"
   ]
  },
  {
   "cell_type": "code",
   "execution_count": null,
   "metadata": {},
   "outputs": [],
   "source": [
    "t = clf.tree_"
   ]
  },
  {
   "cell_type": "code",
   "execution_count": null,
   "metadata": {},
   "outputs": [],
   "source": [
    "len(t.feature)"
   ]
  },
  {
   "cell_type": "code",
   "execution_count": null,
   "metadata": {},
   "outputs": [],
   "source": [
    "feature_names = X_train.columns"
   ]
  },
  {
   "cell_type": "code",
   "execution_count": null,
   "metadata": {},
   "outputs": [],
   "source": [
    "df_dummies = pd.get_dummies(df.drop('target', 1))\n",
    "df_x = df_dummies\n",
    "df_y = df[\"target\"]\n",
    "print(df_x.shape)\n",
    "print(df_y.shape)\n",
    "X_train, X_test, y_train, y_test = train_test_split(df_x, df_y, test_size=0.3,random_state=0)\n",
    "print(f\"X_train shape: {X_train.shape}\")\n",
    "print(f\"X_test shape: {X_test.shape}\")\n",
    "print(f\"y_train: {y_train.shape}\")\n",
    "print(f\"y_test: {y_test.shape}\")\n",
    "print(type(X_train))\n",
    "\n",
    "clf = tree.DecisionTreeClassifier(max_depth=15)\n",
    "clf.fit(X_train.copy().values, y_train.copy().values)\n",
    "t = clf.tree_"
   ]
  },
  {
   "cell_type": "code",
   "execution_count": null,
   "metadata": {},
   "outputs": [],
   "source": [
    "len(t.feature)"
   ]
  },
  {
   "cell_type": "code",
   "execution_count": null,
   "metadata": {},
   "outputs": [],
   "source": [
    "feature_names = df_x.columns\n",
    "features  = [feature_names[i] for i in t.feature]\n",
    "print(feature_names[t.feature[0]])\n",
    "print(t.threshold[0])"
   ]
  },
  {
   "cell_type": "code",
   "execution_count": null,
   "metadata": {},
   "outputs": [],
   "source": [
    "from sklearn.tree import _tree\n",
    "def tree_to_code(tree, feature_names):\n",
    "    tree_ = tree.tree_\n",
    "    feature_name = [\n",
    "        feature_names[i] if i != _tree.TREE_UNDEFINED else \"undefined!\"\n",
    "        for i in tree_.feature\n",
    "    ]\n",
    "    print(\"def tree({}):\".format(\", \".join(feature_names)))\n",
    "\n",
    "def recurse(node, depth):\n",
    "    indent = \"  \" * depth\n",
    "    if tree_.feature[node] != _tree.TREE_UNDEFINED:\n",
    "        name = feature_name[node]\n",
    "        threshold = tree_.threshold[node]\n",
    "        print(\"{}if {} <= {}:\".format(indent, name, threshold))\n",
    "        recurse(tree_.children_left[node], depth + 1)\n",
    "        print(\"{}else:  # if {} > {}\".format(indent, name, threshold))\n",
    "        recurse(tree_.children_right[node], depth + 1)\n",
    "    else:\n",
    "        print(\"{}return {}\".format(indent, tree_.value[node]))\n",
    "\n",
    "    recurse(0, 1)"
   ]
  },
  {
   "cell_type": "code",
   "execution_count": null,
   "metadata": {},
   "outputs": [],
   "source": [
    "clf1 = tree.DecisionTreeClassifier(max_depth=15)\n",
    "clf1.fit(X_train, y_train)\n",
    "print(f\"Train accuracy: {clf1.score(X_train, y_train)}\")\n",
    "print(f\"Test accuracy: {clf1.score(X_test, y_test)}\")\n",
    "print(\"\")\n",
    "\n",
    "\n",
    "clf2 = tree.DecisionTreeClassifier(max_depth=10)\n",
    "clf2.fit(X_train, y_train)\n",
    "print(f\"Train accuracy: {clf2.score(X_train, y_train)}\")\n",
    "print(f\"Test accuracy: {clf2.score(X_test, y_test)}\")\n",
    "print(\"\")\n",
    "\n",
    "\n"
   ]
  },
  {
   "cell_type": "code",
   "execution_count": null,
   "metadata": {},
   "outputs": [],
   "source": [
    "\"\"\"\n",
    "def prune(dt, alpha, tree, X, Y):      \n",
    "    C = 1-alpha\n",
    "    if alpha <= -1: # Early exit\n",
    "        return dt     \n",
    "    bestScore = dt.score(X,Y)\n",
    "    candidates = np.flatnonzero(tree.children_left>=0)\n",
    "    for candidate in reversed(candidates): # Go backwards/leaves up\n",
    "        if tree.children_left[candidate]==tree.children_right[candidate]: # leaf node. Ignore\n",
    "            continue\n",
    "        left = tree.children_left[candidate]\n",
    "        right = tree.children_right[candidate]\n",
    "        tree.children_left[candidate]=tree.children_right[candidate]=-1            \n",
    "        score = dt.score(X, Y)\n",
    "        if score >= C*bestScore:\n",
    "            bestScore = score                \n",
    "            remove_subtree(tree, candidate)\n",
    "        else:\n",
    "            tree.children_left[candidate]=left\n",
    "            tree.children_right[candidate]=right\n",
    "    assert (tree.children_left>=0).sum() == (tree.children_right>=0).sum() \n",
    "    return dt\n",
    "\"\"\"\n",
    "X_realtrain, X_validation, y_realtrain, y_validation = train_test_split(X_train, y_train, test_size=0.3,random_state=0)\n"
   ]
  },
  {
   "cell_type": "code",
   "execution_count": null,
   "metadata": {},
   "outputs": [],
   "source": [
    "print(X_train.shape)\n",
    "print(y_train.shape)\n",
    "print(\"\")\n",
    "print(X_realtrain.shape)\n",
    "print(X_validation.shape)\n",
    "print(y_realtrain.shape)\n",
    "print(y_validation.shape)"
   ]
  },
  {
   "cell_type": "code",
   "execution_count": null,
   "metadata": {},
   "outputs": [],
   "source": [
    "clf3 = tree.DecisionTreeClassifier(max_depth=10)\n",
    "clf3.fit(X_realtrain, y_realtrain)\n",
    "print(f\"realtrain: {clf3.score(X_realtrain, y_realtrain)}\")\n",
    "print(f\"validation: {clf3.score(X_validation, y_validation)}\")\n",
    "print(f\"test: {clf3.score(X_test, y_test)}\")\n",
    "print(clf3.tree_.node_count)"
   ]
  },
  {
   "cell_type": "code",
   "execution_count": null,
   "metadata": {},
   "outputs": [],
   "source": [
    "pruned = prune(clf3, -1e-2, clf3.tree_, X_validation, y_validation)"
   ]
  },
  {
   "cell_type": "code",
   "execution_count": null,
   "metadata": {},
   "outputs": [],
   "source": [
    "pruned.score(X_test, y_test)"
   ]
  },
  {
   "cell_type": "code",
   "execution_count": null,
   "metadata": {},
   "outputs": [],
   "source": [
    "pruned.tree_.node_count"
   ]
  },
  {
   "cell_type": "code",
   "execution_count": null,
   "metadata": {},
   "outputs": [],
   "source": [
    "t = clf3.tree_\n",
    "print(t.node_count)\n",
    "print(len(np.flatnonzero(clf3.tree_.children_left >= 0)))\n",
    "#print(t.feature)\n",
    "#print(t.threshold)\n",
    "\n",
    "feature_names = df_x.columns\n",
    "features  = [feature_names[i] for i in t.feature]\n",
    "\n",
    "candidates = np.flatnonzero(t.children_left>=0)\n",
    "print(len(candidates))\n",
    "bestScore = clf3.score(X_validation,y_validation)\n",
    "print(f\"bestScore: {bestScore}\")\n",
    "for candidate in reversed(candidates):\n",
    "    if t.children_left[candidate]==t.children_right[candidate]:\n",
    "        print(candidate)\n",
    "    left = t.children_left[candidate]\n",
    "    right = t.children_right[candidate]\n",
    "    t.children_left[candidate]=t.children_right[candidate]=-1            \n",
    "    score = clf3.score(X_validation, y_validation)\n",
    "    print(score)\n",
    "    if score >= bestScore:\n",
    "        print(\"best\")\n",
    "        bestScore = score\n",
    "        remove_subtree(t, candidate)\n",
    "    else:\n",
    "        print(\"notBest\")\n",
    "        t.children_left[candidate]=left\n",
    "        t.children_right[candidate]=right\n",
    "    "
   ]
  },
  {
   "cell_type": "code",
   "execution_count": null,
   "metadata": {},
   "outputs": [],
   "source": [
    "clf3.score(X_test, y_test)"
   ]
  },
  {
   "cell_type": "code",
   "execution_count": null,
   "metadata": {},
   "outputs": [],
   "source": [
    "print(len(np.flatnonzero(clf3.tree_.children_left >= 0)))"
   ]
  },
  {
   "cell_type": "code",
   "execution_count": null,
   "metadata": {},
   "outputs": [],
   "source": []
  },
  {
   "cell_type": "code",
   "execution_count": null,
   "metadata": {},
   "outputs": [],
   "source": [
    "def prune(dt, alpha, tree, X, Y):      \n",
    "    C = 1-alpha\n",
    "    if alpha <= -1: # Early exit\n",
    "        return dt     \n",
    "    bestScore = dt.score(X,Y)\n",
    "    candidates = np.flatnonzero(tree.children_left>=0)\n",
    "    for candidate in reversed(candidates): # Go backwards/leaves up\n",
    "        if tree.children_left[candidate]==tree.children_right[candidate]: # leaf node. Ignore\n",
    "            continue\n",
    "        left = tree.children_left[candidate]\n",
    "        right = tree.children_right[candidate]\n",
    "        tree.children_left[candidate]=tree.children_right[candidate]=-1            \n",
    "        score = dt.score(X, Y)\n",
    "        if score >= C*bestScore:\n",
    "            bestScore = score                \n",
    "            remove_subtree(tree, candidate)\n",
    "        else:\n",
    "            tree.children_left[candidate]=left\n",
    "            tree.children_right[candidate]=right\n",
    "    assert (tree.children_left>=0).sum() == (tree.children_right>=0).sum() \n",
    "    return dt\n",
    "\n",
    "def remove_subtree(tree, root):\n",
    "    '''Clean up'''\n",
    "    visited,stack= set(),[root]\n",
    "    while stack:\n",
    "        v = stack.pop()\n",
    "        visited.add(v)\n",
    "        left =tree.children_left[v]\n",
    "        right=tree.children_right[v]\n",
    "        if left >=0:\n",
    "            stack.append(left)\n",
    "        if right >=0:\n",
    "            stack.append(right)\n",
    "    for node in visited:\n",
    "        tree.children_left[node] = -1\n",
    "        tree.children_right[node] = -1\n",
    "    return"
   ]
  },
  {
   "cell_type": "code",
   "execution_count": null,
   "metadata": {},
   "outputs": [],
   "source": [
    "X_train, X_test, y_train, y_test = train_test_split(df_x, df_y, test_size=0.3,random_state=0)\n"
   ]
  },
  {
   "cell_type": "code",
   "execution_count": null,
   "metadata": {},
   "outputs": [],
   "source": [
    "class DecisionTreeClassifierPruned(DecisionTreeClassifier):\n",
    "    def remove_subtree(self,root):\n",
    "        '''Clean up'''\n",
    "        tree = self.tree_\n",
    "        visited,stack= set(),[root]\n",
    "        while stack:\n",
    "            v = stack.pop()\n",
    "            visited.add(v)\n",
    "            left =tree.children_left[v]\n",
    "            right=tree.children_right[v]\n",
    "            if left >=0:\n",
    "                stack.append(left)\n",
    "            if right >=0:\n",
    "                stack.append(right)\n",
    "        for node in visited:\n",
    "            tree.children_left[node] = -1\n",
    "            tree.children_right[node] = -1\n",
    "        return\n",
    "    \n",
    "    def prune(self):      \n",
    "        C = 1-self.alpha\n",
    "        if self.alpha <= -1: # Early exit\n",
    "            return self\n",
    "        tree = self.tree_        \n",
    "        bestScore = self.score(self.valX,self.valY)        \n",
    "        candidates = np.flatnonzero(tree.children_left>=0)\n",
    "        for candidate in reversed(candidates): # Go backwards/leaves up\n",
    "            if tree.children_left[candidate]==tree.children_right[candidate]: # leaf node. Ignore\n",
    "                continue\n",
    "            left = tree.children_left[candidate]\n",
    "            right = tree.children_right[candidate]\n",
    "            tree.children_left[candidate]=tree.children_right[candidate]=-1            \n",
    "            score = self.score(self.valX,self.valY)\n",
    "            if score >= C*bestScore:\n",
    "                bestScore = score                \n",
    "                self.remove_subtree(candidate)\n",
    "            else:\n",
    "                tree.children_left[candidate]=left\n",
    "                tree.children_right[candidate]=right\n",
    "        assert (self.tree_.children_left>=0).sum() == (self.tree_.children_right>=0).sum() \n",
    "        return self\n",
    "    \n",
    "    def __init__(self,\n",
    "                 criterion=\"gini\",\n",
    "                 splitter=\"best\",\n",
    "                 max_depth=None,\n",
    "                 min_samples_split=2,\n",
    "                 min_samples_leaf=1,\n",
    "                 min_weight_fraction_leaf=0.,\n",
    "                 max_features=None,\n",
    "                 random_state=None,\n",
    "                 max_leaf_nodes=None,\n",
    "                 class_weight=None,\n",
    "                 presort=False,\n",
    "                 alpha = 0):\n",
    "     super(DecisionTreeClassifierPruned, self).__init__(\n",
    "            criterion=criterion,\n",
    "            splitter=splitter,\n",
    "            max_depth=max_depth,\n",
    "            min_samples_split=min_samples_split,\n",
    "            min_samples_leaf=min_samples_leaf,\n",
    "            min_weight_fraction_leaf=min_weight_fraction_leaf,\n",
    "            max_features=max_features,\n",
    "            max_leaf_nodes=max_leaf_nodes,\n",
    "            class_weight=class_weight,\n",
    "            random_state=random_state,\n",
    "            presort=presort)\n",
    "     self.alpha = alpha\n",
    "    \n",
    "    def fit(self,X,Y,sample_weight=None,check_input=True, X_idx_sorted=None):        \n",
    "        if sample_weight is None:\n",
    "            sample_weight = np.ones(X.shape[0]) \n",
    "        self.trgX = X.copy()\n",
    "        self.trgY = Y.copy()\n",
    "        self.trgWts = sample_weight.copy()        \n",
    "        sss = StratifiedShuffleSplit(n_splits=2,test_size=0.2,random_state=123)\n",
    "        for train_index, test_index in sss.split(self.trgX,self.trgY):\n",
    "            print(len(test_index))\n",
    "            self.valX = self.trgX[test_index]\n",
    "            self.valY = self.trgY[test_index]\n",
    "            self.trgX = self.trgX[train_index]\n",
    "            self.trgY = self.trgY[train_index]\n",
    "            self.valWts = sample_weight[test_index]\n",
    "            self.trgWts = sample_weight[train_index]\n",
    "        super().fit(self.trgX,self.trgY,self.trgWts,check_input,X_idx_sorted)\n",
    "        self.prune()\n",
    "        return self\n",
    "    \n",
    "    def numNodes(self):\n",
    "        assert (self.tree_.children_left>=0).sum() == (self.tree_.children_right>=0).sum() \n",
    "        return  (self.tree_.children_left>=0).sum()"
   ]
  },
  {
   "cell_type": "code",
   "execution_count": null,
   "metadata": {},
   "outputs": [],
   "source": [
    "clf3 = DecisionTreeClassifier(max_depth=10)\n",
    "clf3.fit(X_train, y_train)\n",
    "print(clf3.score(X_train, y_train))\n",
    "print(clf3.score(X_test, y_test))\n",
    "\n",
    "alphas = [-1,-1e-3,-(1e-3)*10**-0.5, -1e-2, -(1e-2)*10**-0.5,-1e-1,-(1e-1)*10**-0.5, 0, (1e-1)*10**-0.5,1e-1,(1e-2)*10**-0.5,1e-2,(1e-3)*10**-0.5,1e-3,1]\n",
    "for alpha in alphas:\n",
    "    print(f\"alpha: {alpha}\")\n",
    "    pruned = DecisionTreeClassifierPruned(max_depth=10, alpha=alpha)\n",
    "    pruned.fit(X_train.copy().values, y_train.copy().values)\n",
    "    print(pruned.score(X_train, y_train))\n",
    "    print(pruned.score(X_test, y_test))"
   ]
  },
  {
   "cell_type": "code",
   "execution_count": null,
   "metadata": {},
   "outputs": [],
   "source": [
    "X = X_train.copy().values\n",
    "print(X_train.shape)\n",
    "print(X_train.copy().values.shape)\n",
    "sss = StratifiedShuffleSplit(n_splits=2,test_size=0.2,random_state=123)\n",
    "for train_index, test_index in sss.split(X_train.copy().values,y_train):\n",
    "    print(len(train_index))\n",
    "    print(test_index)\n",
    "    print(type(train_index))\n",
    "    print(X[train_index])\n",
    "    #print(X_train[train_index])\n",
    "    #print(X_train[test_index])"
   ]
  },
  {
   "cell_type": "code",
   "execution_count": null,
   "metadata": {},
   "outputs": [],
   "source": [
    "16890 + 4223"
   ]
  },
  {
   "cell_type": "code",
   "execution_count": null,
   "metadata": {},
   "outputs": [],
   "source": [
    "type(X_train.copy().values)\n",
    "len(X)"
   ]
  },
  {
   "cell_type": "code",
   "execution_count": null,
   "metadata": {},
   "outputs": [],
   "source": [
    "len(X_train)"
   ]
  },
  {
   "cell_type": "code",
   "execution_count": null,
   "metadata": {},
   "outputs": [],
   "source": [
    "X_train.shape"
   ]
  },
  {
   "cell_type": "code",
   "execution_count": null,
   "metadata": {},
   "outputs": [],
   "source": [
    "X_train.copy().values"
   ]
  },
  {
   "cell_type": "code",
   "execution_count": 298,
   "metadata": {},
   "outputs": [
    {
     "data": {
      "image/png": "[encoded data removed]",
      "text/plain": [
       "<Figure size 432x288 with 1 Axes>"
      ]
     },
     "metadata": {
      "needs_background": "light"
     },
     "output_type": "display_data"
    }
   ],
   "source": [
    "min_samples_splits = list(np.arange(2, 150, 1))\n",
    "training_accuracies = []\n",
    "test_accuracies = []\n",
    "for min_samples_split in min_samples_splits:\n",
    "    clf = DecisionTreeClassifier(min_samples_split=min_samples_split)\n",
    "    clf.fit(X_train, y_train)\n",
    "    training_accuracy_score = accuracy_score(y_train, clf.predict(X_train))\n",
    "    test_accuracy_score = accuracy_score(y_test, clf.predict(X_test))\n",
    "    training_accuracies.append(training_accuracy_score)\n",
    "    test_accuracies.append(test_accuracy_score)\n",
    "    \n",
    "import matplotlib.pyplot as plt\n",
    "plt.close()\n",
    "plt.figure()\n",
    "plt.title(\"test\")\n",
    "plt.xlabel(\"min_samples_split\")\n",
    "plt.ylabel(\"accuracy\")\n",
    "plt.plot(training_accuracies, label=\"train\")\n",
    "plt.plot(test_accuracies, label=\"test\")\n",
    "plt.legend()\n",
    "plt.draw()"
   ]
  },
  {
   "cell_type": "code",
   "execution_count": 297,
   "metadata": {},
   "outputs": [
    {
     "data": {
      "image/png": "[encoded data removed]",
      "text/plain": [
       "<Figure size 432x288 with 1 Axes>"
      ]
     },
     "metadata": {
      "needs_background": "light"
     },
     "output_type": "display_data"
    }
   ],
   "source": [
    "min_samples_leafs = list(np.arange(2, 100, 1))\n",
    "training_accuracies = []\n",
    "test_accuracies = []\n",
    "for min_samples_leaf in min_samples_leafs:\n",
    "    clf = DecisionTreeClassifier(min_samples_leaf=min_samples_leaf)\n",
    "    clf.fit(X_train, y_train)\n",
    "    training_accuracy_score = accuracy_score(y_train, clf.predict(X_train))\n",
    "    test_accuracy_score = accuracy_score(y_test, clf.predict(X_test))\n",
    "    training_accuracies.append(training_accuracy_score)\n",
    "    test_accuracies.append(test_accuracy_score)\n",
    "    \n",
    "import matplotlib.pyplot as plt\n",
    "plt.close()\n",
    "plt.figure()\n",
    "plt.title(\"test\")\n",
    "plt.xlabel(\"min_samples_leafs\")\n",
    "plt.ylabel(\"accuracy\")\n",
    "plt.plot(training_accuracies, label=\"train\")\n",
    "plt.plot(test_accuracies, label=\"test\")\n",
    "plt.legend()\n",
    "plt.draw()"
   ]
  },
  {
   "cell_type": "code",
   "execution_count": null,
   "metadata": {},
   "outputs": [],
   "source": []
  },
  {
   "cell_type": "code",
   "execution_count": 160,
   "metadata": {},
   "outputs": [
    {
     "name": "stdout",
     "output_type": "stream",
     "text": [
      "['sepal length (cm)', 'sepal width (cm)', 'petal length (cm)', 'petal width (cm)']\n"
     ]
    },
    {
     "data": {
      "text/plain": [
       "array(['setosa', 'versicolor', 'virginica'], dtype='<U10')"
      ]
     },
     "execution_count": 160,
     "metadata": {},
     "output_type": "execute_result"
    }
   ],
   "source": [
    "from sklearn.datasets import load_iris\n",
    "from sklearn.tree import DecisionTreeClassifier\n",
    "from sklearn.tree import export_graphviz\n",
    "import os\n",
    "\n",
    "PROJECT_ROOT_DIR = \".\"\n",
    "CHAPTER_ID = \"decision_trees\"\n",
    "\n",
    "iris = load_iris()\n",
    "X = iris.data[:, 2:]\n",
    "y = iris.target\n",
    "\n",
    "def image_path(fig_id):\n",
    "    return os.path.join(PROJECT_ROOT_DIR, \"images\", CHAPTER_ID, fig_id)\n",
    "\n",
    "tree_clf = DecisionTreeClassifier(max_depth=2)\n",
    "tree_clf.fit(X, y)\n",
    "print(iris.feature_names)\n",
    "iris.target_names\n"
   ]
  },
  {
   "cell_type": "code",
   "execution_count": 161,
   "metadata": {},
   "outputs": [],
   "source": [
    "export_graphviz(\n",
    "    tree_clf,\n",
    "    out_file=\"iris_tree.dot\",\n",
    "    feature_names=iris.feature_names[2:],\n",
    "    class_names=iris.target_names,\n",
    "    rounded=True,\n",
    "    filled=True\n",
    ")"
   ]
  },
  {
   "cell_type": "code",
   "execution_count": 171,
   "metadata": {},
   "outputs": [
    {
     "name": "stdout",
     "output_type": "stream",
     "text": [
      "(21113, 104)\n",
      "(21113,)\n",
      "(9049, 104)\n"
     ]
    }
   ],
   "source": [
    "from sklearn.neural_network import MLPClassifier\n",
    "print(X_train.shape)\n",
    "print(y_train.shape)\n",
    "print(X_test.shape)"
   ]
  },
  {
   "cell_type": "code",
   "execution_count": 190,
   "metadata": {},
   "outputs": [
    {
     "data": {
      "text/plain": [
       "MLPClassifier(activation='relu', alpha=0.0001, batch_size='auto', beta_1=0.9,\n",
       "       beta_2=0.999, early_stopping=False, epsilon=1e-08,\n",
       "       hidden_layer_sizes=(104,), learning_rate='constant',\n",
       "       learning_rate_init=0.001, max_iter=200, momentum=0.9,\n",
       "       n_iter_no_change=10, nesterovs_momentum=True, power_t=0.5,\n",
       "       random_state=None, shuffle=True, solver='adam', tol=0.0001,\n",
       "       validation_fraction=0.1, verbose=False, warm_start=False)"
      ]
     },
     "execution_count": 190,
     "metadata": {},
     "output_type": "execute_result"
    }
   ],
   "source": [
    "X_train.shape\n",
    "clf = MLPClassifier(hidden_layer_sizes=(104,))\n",
    "clf.fit(X_train, y_train)"
   ]
  },
  {
   "cell_type": "code",
   "execution_count": 191,
   "metadata": {},
   "outputs": [
    {
     "name": "stdout",
     "output_type": "stream",
     "text": [
      "374\n",
      "2285\n"
     ]
    }
   ],
   "source": [
    "print((clf.predict(X_test) > 0).sum())\n",
    "print((y_test > 0).sum())"
   ]
  },
  {
   "cell_type": "code",
   "execution_count": 186,
   "metadata": {},
   "outputs": [
    {
     "data": {
      "text/plain": [
       "[(104,),\n",
       " (52,),\n",
       " (208,),\n",
       " (104, 104),\n",
       " (52, 52),\n",
       " (208, 208),\n",
       " (104, 104, 104),\n",
       " (52, 52, 52),\n",
       " (208, 208, 208)]"
      ]
     },
     "execution_count": 186,
     "metadata": {},
     "output_type": "execute_result"
    }
   ],
   "source": [
    "d = X_train.shape[1]\n",
    "[(h,)*l for l in [1,2,3] for h in [d,d//2,d*2]]"
   ]
  },
  {
   "cell_type": "code",
   "execution_count": 208,
   "metadata": {},
   "outputs": [
    {
     "name": "stderr",
     "output_type": "stream",
     "text": [
      "/usr/local/lib/python3.6/site-packages/sklearn/utils/validation.py:590: DataConversionWarning: Data with input dtype int64 was converted to float64 by StandardScaler.\n",
      "  warnings.warn(msg, DataConversionWarning)\n",
      "/usr/local/lib/python3.6/site-packages/sklearn/utils/validation.py:590: DataConversionWarning: Data with input dtype int64 was converted to float64 by StandardScaler.\n",
      "  warnings.warn(msg, DataConversionWarning)\n",
      "/usr/local/lib/python3.6/site-packages/sklearn/utils/validation.py:590: DataConversionWarning: Data with input dtype int64 was converted to float64 by StandardScaler.\n",
      "  warnings.warn(msg, DataConversionWarning)\n"
     ]
    },
    {
     "name": "stdout",
     "output_type": "stream",
     "text": [
      "2023\n",
      "2285\n",
      "0.818985523262239\n"
     ]
    }
   ],
   "source": [
    "from sklearn.preprocessing import StandardScaler\n",
    "scaler = StandardScaler()\n",
    "scaler.fit(X_train)\n",
    "X_tr = scaler.transform(X_train)\n",
    "X_ts = scaler.transform(X_test)\n",
    "clf = MLPClassifier(max_iter=1000,early_stopping=False, random_state=123)\n",
    "clf.fit(X_tr, y_train)\n",
    "print((clf.predict(X_ts) > 0).sum())\n",
    "print((y_test > 0).sum())\n",
    "print(accuracy_score(clf.predict(X_ts), y_test))"
   ]
  },
  {
   "cell_type": "code",
   "execution_count": 209,
   "metadata": {},
   "outputs": [],
   "source": [
    "def make_complexity_curve(clf, x, y,param_name,param_range,cv,clf_name,dataset_name):\n",
    "    print(\"Complexity curve\")\n",
    "    train_scores, validation_scores = validation_curve(clf,x,y,param_name,param_range,cv=cv)\n",
    "    train_scores_mean = np.mean(train_scores, axis=1)\n",
    "    validation_scores_mean = np.mean(validation_scores, axis=1)\n",
    "    \n",
    "    title = 'Model Complexity: {} - {} ({})'.format(clf_name, dataset_name, param_name)\n",
    "    plt.close()\n",
    "    plt.figure()\n",
    "    plt.title(title)\n",
    "    plt.xlabel(param_name)\n",
    "    plt.ylabel(\"accuracy\")\n",
    "    plt.plot(param_range,train_scores_mean, label=\"train\")\n",
    "    plt.plot(param_range, validation_scores_mean, label=\"validation\")\n",
    "    plt.legend()\n",
    "    plt.draw()\n",
    "    print(\"Complexity curve complete\")"
   ]
  },
  {
   "cell_type": "code",
   "execution_count": 210,
   "metadata": {},
   "outputs": [
    {
     "name": "stderr",
     "output_type": "stream",
     "text": [
      "/usr/local/lib/python3.6/site-packages/sklearn/utils/validation.py:590: DataConversionWarning: Data with input dtype int64 was converted to float64 by StandardScaler.\n",
      "  warnings.warn(msg, DataConversionWarning)\n",
      "/usr/local/lib/python3.6/site-packages/sklearn/utils/validation.py:590: DataConversionWarning: Data with input dtype int64 was converted to float64 by StandardScaler.\n",
      "  warnings.warn(msg, DataConversionWarning)\n",
      "/usr/local/lib/python3.6/site-packages/sklearn/utils/validation.py:590: DataConversionWarning: Data with input dtype int64 was converted to float64 by StandardScaler.\n",
      "  warnings.warn(msg, DataConversionWarning)\n"
     ]
    }
   ],
   "source": [
    "from sklearn.preprocessing import StandardScaler\n",
    "from sklearn.pipeline import Pipeline\n",
    "\n",
    "\n",
    "scaler = StandardScaler()\n",
    "scaler.fit(X_train)\n",
    "X_tr = scaler.transform(X_train)\n",
    "X_ts = scaler.transform(X_test)\n",
    "\n",
    "clf = MLPClassifier()\n",
    "train_scores, validation_scores = validation_curve(clf,x,y,param_name,param_range,cv=cv)\n",
    "train_scores_mean = np.mean(train_scores, axis=1)\n",
    "validation_scores_mean = np.mean(validation_scores, axis=1)\n"
   ]
  },
  {
   "cell_type": "code",
   "execution_count": 212,
   "metadata": {},
   "outputs": [
    {
     "name": "stdout",
     "output_type": "stream",
     "text": [
      "Complexity curve\n"
     ]
    },
    {
     "name": "stderr",
     "output_type": "stream",
     "text": [
      "/usr/local/lib/python3.6/site-packages/sklearn/model_selection/_validation.py:542: FutureWarning: From version 0.22, errors during fit will result in a cross validation score of NaN by default. Use error_score='raise' if you want an exception raised or error_score=np.nan to adopt the behavior from version 0.22.\n",
      "  FutureWarning)\n"
     ]
    },
    {
     "ename": "TypeError",
     "evalue": "unsupported operand type(s) for +: 'int' and 'tuple'",
     "output_type": "error",
     "traceback": [
      "\u001b[0;31m---------------------------------------------------------------------------\u001b[0m",
      "\u001b[0;31mTypeError\u001b[0m                                 Traceback (most recent call last)",
      "\u001b[0;32m<ipython-input-212-8ece29db8c7a>\u001b[0m in \u001b[0;36m<module>\u001b[0;34m\u001b[0m\n\u001b[1;32m      1\u001b[0m \u001b[0mclf\u001b[0m \u001b[0;34m=\u001b[0m \u001b[0mMLPClassifier\u001b[0m\u001b[0;34m(\u001b[0m\u001b[0;34m)\u001b[0m\u001b[0;34m\u001b[0m\u001b[0m\n\u001b[1;32m      2\u001b[0m \u001b[0mlayers\u001b[0m \u001b[0;34m=\u001b[0m \u001b[0;34m[\u001b[0m\u001b[0;34m(\u001b[0m\u001b[0mh\u001b[0m\u001b[0;34m,\u001b[0m\u001b[0;34m)\u001b[0m\u001b[0;34m*\u001b[0m\u001b[0ml\u001b[0m \u001b[0;32mfor\u001b[0m \u001b[0ml\u001b[0m \u001b[0;32min\u001b[0m \u001b[0;34m[\u001b[0m\u001b[0;36m1\u001b[0m\u001b[0;34m,\u001b[0m\u001b[0;36m2\u001b[0m\u001b[0;34m,\u001b[0m\u001b[0;36m3\u001b[0m\u001b[0;34m]\u001b[0m \u001b[0;32mfor\u001b[0m \u001b[0mh\u001b[0m \u001b[0;32min\u001b[0m \u001b[0;34m[\u001b[0m\u001b[0md\u001b[0m\u001b[0;34m,\u001b[0m\u001b[0md\u001b[0m\u001b[0;34m//\u001b[0m\u001b[0;36m2\u001b[0m\u001b[0;34m,\u001b[0m\u001b[0md\u001b[0m\u001b[0;34m*\u001b[0m\u001b[0;36m2\u001b[0m\u001b[0;34m]\u001b[0m\u001b[0;34m]\u001b[0m\u001b[0;34m\u001b[0m\u001b[0m\n\u001b[0;32m----> 3\u001b[0;31m \u001b[0mmake_complexity_curve\u001b[0m\u001b[0;34m(\u001b[0m\u001b[0mclf\u001b[0m\u001b[0;34m,\u001b[0m\u001b[0mX_tr\u001b[0m\u001b[0;34m,\u001b[0m\u001b[0my_train\u001b[0m\u001b[0;34m,\u001b[0m \u001b[0;34m\"hidden_layer_sizes\"\u001b[0m\u001b[0;34m,\u001b[0m \u001b[0;34m[\u001b[0m\u001b[0;34m[\u001b[0m\u001b[0;34m(\u001b[0m\u001b[0;36m104\u001b[0m\u001b[0;34m,\u001b[0m \u001b[0;36m104\u001b[0m\u001b[0;34m)\u001b[0m\u001b[0;34m]\u001b[0m\u001b[0;34m]\u001b[0m\u001b[0;34m,\u001b[0m \u001b[0;36m5\u001b[0m\u001b[0;34m,\u001b[0m \u001b[0;34m\"MLP\"\u001b[0m\u001b[0;34m,\u001b[0m\u001b[0;34m\"adult\"\u001b[0m\u001b[0;34m)\u001b[0m\u001b[0;34m\u001b[0m\u001b[0m\n\u001b[0m",
      "\u001b[0;32m<ipython-input-209-04de55e7f2cf>\u001b[0m in \u001b[0;36mmake_complexity_curve\u001b[0;34m(clf, x, y, param_name, param_range, cv, clf_name, dataset_name)\u001b[0m\n\u001b[1;32m      1\u001b[0m \u001b[0;32mdef\u001b[0m \u001b[0mmake_complexity_curve\u001b[0m\u001b[0;34m(\u001b[0m\u001b[0mclf\u001b[0m\u001b[0;34m,\u001b[0m \u001b[0mx\u001b[0m\u001b[0;34m,\u001b[0m \u001b[0my\u001b[0m\u001b[0;34m,\u001b[0m\u001b[0mparam_name\u001b[0m\u001b[0;34m,\u001b[0m\u001b[0mparam_range\u001b[0m\u001b[0;34m,\u001b[0m\u001b[0mcv\u001b[0m\u001b[0;34m,\u001b[0m\u001b[0mclf_name\u001b[0m\u001b[0;34m,\u001b[0m\u001b[0mdataset_name\u001b[0m\u001b[0;34m)\u001b[0m\u001b[0;34m:\u001b[0m\u001b[0;34m\u001b[0m\u001b[0m\n\u001b[1;32m      2\u001b[0m     \u001b[0mprint\u001b[0m\u001b[0;34m(\u001b[0m\u001b[0;34m\"Complexity curve\"\u001b[0m\u001b[0;34m)\u001b[0m\u001b[0;34m\u001b[0m\u001b[0m\n\u001b[0;32m----> 3\u001b[0;31m     \u001b[0mtrain_scores\u001b[0m\u001b[0;34m,\u001b[0m \u001b[0mvalidation_scores\u001b[0m \u001b[0;34m=\u001b[0m \u001b[0mvalidation_curve\u001b[0m\u001b[0;34m(\u001b[0m\u001b[0mclf\u001b[0m\u001b[0;34m,\u001b[0m\u001b[0mx\u001b[0m\u001b[0;34m,\u001b[0m\u001b[0my\u001b[0m\u001b[0;34m,\u001b[0m\u001b[0mparam_name\u001b[0m\u001b[0;34m,\u001b[0m\u001b[0mparam_range\u001b[0m\u001b[0;34m,\u001b[0m\u001b[0mcv\u001b[0m\u001b[0;34m=\u001b[0m\u001b[0mcv\u001b[0m\u001b[0;34m)\u001b[0m\u001b[0;34m\u001b[0m\u001b[0m\n\u001b[0m\u001b[1;32m      4\u001b[0m     \u001b[0mtrain_scores_mean\u001b[0m \u001b[0;34m=\u001b[0m \u001b[0mnp\u001b[0m\u001b[0;34m.\u001b[0m\u001b[0mmean\u001b[0m\u001b[0;34m(\u001b[0m\u001b[0mtrain_scores\u001b[0m\u001b[0;34m,\u001b[0m \u001b[0maxis\u001b[0m\u001b[0;34m=\u001b[0m\u001b[0;36m1\u001b[0m\u001b[0;34m)\u001b[0m\u001b[0;34m\u001b[0m\u001b[0m\n\u001b[1;32m      5\u001b[0m     \u001b[0mvalidation_scores_mean\u001b[0m \u001b[0;34m=\u001b[0m \u001b[0mnp\u001b[0m\u001b[0;34m.\u001b[0m\u001b[0mmean\u001b[0m\u001b[0;34m(\u001b[0m\u001b[0mvalidation_scores\u001b[0m\u001b[0;34m,\u001b[0m \u001b[0maxis\u001b[0m\u001b[0;34m=\u001b[0m\u001b[0;36m1\u001b[0m\u001b[0;34m)\u001b[0m\u001b[0;34m\u001b[0m\u001b[0m\n",
      "\u001b[0;32m/usr/local/lib/python3.6/site-packages/sklearn/model_selection/_validation.py\u001b[0m in \u001b[0;36mvalidation_curve\u001b[0;34m(estimator, X, y, param_name, param_range, groups, cv, scoring, n_jobs, pre_dispatch, verbose, error_score)\u001b[0m\n\u001b[1;32m   1445\u001b[0m         error_score=error_score)\n\u001b[1;32m   1446\u001b[0m         \u001b[0;31m# NOTE do not change order of iteration to allow one time cv splitters\u001b[0m\u001b[0;34m\u001b[0m\u001b[0;34m\u001b[0m\u001b[0m\n\u001b[0;32m-> 1447\u001b[0;31m         for train, test in cv.split(X, y, groups) for v in param_range)\n\u001b[0m\u001b[1;32m   1448\u001b[0m     \u001b[0mout\u001b[0m \u001b[0;34m=\u001b[0m \u001b[0mnp\u001b[0m\u001b[0;34m.\u001b[0m\u001b[0masarray\u001b[0m\u001b[0;34m(\u001b[0m\u001b[0mout\u001b[0m\u001b[0;34m)\u001b[0m\u001b[0;34m\u001b[0m\u001b[0m\n\u001b[1;32m   1449\u001b[0m     \u001b[0mn_params\u001b[0m \u001b[0;34m=\u001b[0m \u001b[0mlen\u001b[0m\u001b[0;34m(\u001b[0m\u001b[0mparam_range\u001b[0m\u001b[0;34m)\u001b[0m\u001b[0;34m\u001b[0m\u001b[0m\n",
      "\u001b[0;32m/usr/local/lib/python3.6/site-packages/sklearn/externals/joblib/parallel.py\u001b[0m in \u001b[0;36m__call__\u001b[0;34m(self, iterable)\u001b[0m\n\u001b[1;32m    981\u001b[0m             \u001b[0;31m# remaining jobs.\u001b[0m\u001b[0;34m\u001b[0m\u001b[0;34m\u001b[0m\u001b[0m\n\u001b[1;32m    982\u001b[0m             \u001b[0mself\u001b[0m\u001b[0;34m.\u001b[0m\u001b[0m_iterating\u001b[0m \u001b[0;34m=\u001b[0m \u001b[0;32mFalse\u001b[0m\u001b[0;34m\u001b[0m\u001b[0m\n\u001b[0;32m--> 983\u001b[0;31m             \u001b[0;32mif\u001b[0m \u001b[0mself\u001b[0m\u001b[0;34m.\u001b[0m\u001b[0mdispatch_one_batch\u001b[0m\u001b[0;34m(\u001b[0m\u001b[0miterator\u001b[0m\u001b[0;34m)\u001b[0m\u001b[0;34m:\u001b[0m\u001b[0;34m\u001b[0m\u001b[0m\n\u001b[0m\u001b[1;32m    984\u001b[0m                 \u001b[0mself\u001b[0m\u001b[0;34m.\u001b[0m\u001b[0m_iterating\u001b[0m \u001b[0;34m=\u001b[0m \u001b[0mself\u001b[0m\u001b[0;34m.\u001b[0m\u001b[0m_original_iterator\u001b[0m \u001b[0;32mis\u001b[0m \u001b[0;32mnot\u001b[0m \u001b[0;32mNone\u001b[0m\u001b[0;34m\u001b[0m\u001b[0m\n\u001b[1;32m    985\u001b[0m \u001b[0;34m\u001b[0m\u001b[0m\n",
      "\u001b[0;32m/usr/local/lib/python3.6/site-packages/sklearn/externals/joblib/parallel.py\u001b[0m in \u001b[0;36mdispatch_one_batch\u001b[0;34m(self, iterator)\u001b[0m\n\u001b[1;32m    823\u001b[0m                 \u001b[0;32mreturn\u001b[0m \u001b[0;32mFalse\u001b[0m\u001b[0;34m\u001b[0m\u001b[0m\n\u001b[1;32m    824\u001b[0m             \u001b[0;32melse\u001b[0m\u001b[0;34m:\u001b[0m\u001b[0;34m\u001b[0m\u001b[0m\n\u001b[0;32m--> 825\u001b[0;31m                 \u001b[0mself\u001b[0m\u001b[0;34m.\u001b[0m\u001b[0m_dispatch\u001b[0m\u001b[0;34m(\u001b[0m\u001b[0mtasks\u001b[0m\u001b[0;34m)\u001b[0m\u001b[0;34m\u001b[0m\u001b[0m\n\u001b[0m\u001b[1;32m    826\u001b[0m                 \u001b[0;32mreturn\u001b[0m \u001b[0;32mTrue\u001b[0m\u001b[0;34m\u001b[0m\u001b[0m\n\u001b[1;32m    827\u001b[0m \u001b[0;34m\u001b[0m\u001b[0m\n",
      "\u001b[0;32m/usr/local/lib/python3.6/site-packages/sklearn/externals/joblib/parallel.py\u001b[0m in \u001b[0;36m_dispatch\u001b[0;34m(self, batch)\u001b[0m\n\u001b[1;32m    780\u001b[0m         \u001b[0;32mwith\u001b[0m \u001b[0mself\u001b[0m\u001b[0;34m.\u001b[0m\u001b[0m_lock\u001b[0m\u001b[0;34m:\u001b[0m\u001b[0;34m\u001b[0m\u001b[0m\n\u001b[1;32m    781\u001b[0m             \u001b[0mjob_idx\u001b[0m \u001b[0;34m=\u001b[0m \u001b[0mlen\u001b[0m\u001b[0;34m(\u001b[0m\u001b[0mself\u001b[0m\u001b[0;34m.\u001b[0m\u001b[0m_jobs\u001b[0m\u001b[0;34m)\u001b[0m\u001b[0;34m\u001b[0m\u001b[0m\n\u001b[0;32m--> 782\u001b[0;31m             \u001b[0mjob\u001b[0m \u001b[0;34m=\u001b[0m \u001b[0mself\u001b[0m\u001b[0;34m.\u001b[0m\u001b[0m_backend\u001b[0m\u001b[0;34m.\u001b[0m\u001b[0mapply_async\u001b[0m\u001b[0;34m(\u001b[0m\u001b[0mbatch\u001b[0m\u001b[0;34m,\u001b[0m \u001b[0mcallback\u001b[0m\u001b[0;34m=\u001b[0m\u001b[0mcb\u001b[0m\u001b[0;34m)\u001b[0m\u001b[0;34m\u001b[0m\u001b[0m\n\u001b[0m\u001b[1;32m    783\u001b[0m             \u001b[0;31m# A job can complete so quickly than its callback is\u001b[0m\u001b[0;34m\u001b[0m\u001b[0;34m\u001b[0m\u001b[0m\n\u001b[1;32m    784\u001b[0m             \u001b[0;31m# called before we get here, causing self._jobs to\u001b[0m\u001b[0;34m\u001b[0m\u001b[0;34m\u001b[0m\u001b[0m\n",
      "\u001b[0;32m/usr/local/lib/python3.6/site-packages/sklearn/externals/joblib/_parallel_backends.py\u001b[0m in \u001b[0;36mapply_async\u001b[0;34m(self, func, callback)\u001b[0m\n\u001b[1;32m    180\u001b[0m     \u001b[0;32mdef\u001b[0m \u001b[0mapply_async\u001b[0m\u001b[0;34m(\u001b[0m\u001b[0mself\u001b[0m\u001b[0;34m,\u001b[0m \u001b[0mfunc\u001b[0m\u001b[0;34m,\u001b[0m \u001b[0mcallback\u001b[0m\u001b[0;34m=\u001b[0m\u001b[0;32mNone\u001b[0m\u001b[0;34m)\u001b[0m\u001b[0;34m:\u001b[0m\u001b[0;34m\u001b[0m\u001b[0m\n\u001b[1;32m    181\u001b[0m         \u001b[0;34m\"\"\"Schedule a func to be run\"\"\"\u001b[0m\u001b[0;34m\u001b[0m\u001b[0m\n\u001b[0;32m--> 182\u001b[0;31m         \u001b[0mresult\u001b[0m \u001b[0;34m=\u001b[0m \u001b[0mImmediateResult\u001b[0m\u001b[0;34m(\u001b[0m\u001b[0mfunc\u001b[0m\u001b[0;34m)\u001b[0m\u001b[0;34m\u001b[0m\u001b[0m\n\u001b[0m\u001b[1;32m    183\u001b[0m         \u001b[0;32mif\u001b[0m \u001b[0mcallback\u001b[0m\u001b[0;34m:\u001b[0m\u001b[0;34m\u001b[0m\u001b[0m\n\u001b[1;32m    184\u001b[0m             \u001b[0mcallback\u001b[0m\u001b[0;34m(\u001b[0m\u001b[0mresult\u001b[0m\u001b[0;34m)\u001b[0m\u001b[0;34m\u001b[0m\u001b[0m\n",
      "\u001b[0;32m/usr/local/lib/python3.6/site-packages/sklearn/externals/joblib/_parallel_backends.py\u001b[0m in \u001b[0;36m__init__\u001b[0;34m(self, batch)\u001b[0m\n\u001b[1;32m    543\u001b[0m         \u001b[0;31m# Don't delay the application, to avoid keeping the input\u001b[0m\u001b[0;34m\u001b[0m\u001b[0;34m\u001b[0m\u001b[0m\n\u001b[1;32m    544\u001b[0m         \u001b[0;31m# arguments in memory\u001b[0m\u001b[0;34m\u001b[0m\u001b[0;34m\u001b[0m\u001b[0m\n\u001b[0;32m--> 545\u001b[0;31m         \u001b[0mself\u001b[0m\u001b[0;34m.\u001b[0m\u001b[0mresults\u001b[0m \u001b[0;34m=\u001b[0m \u001b[0mbatch\u001b[0m\u001b[0;34m(\u001b[0m\u001b[0;34m)\u001b[0m\u001b[0;34m\u001b[0m\u001b[0m\n\u001b[0m\u001b[1;32m    546\u001b[0m \u001b[0;34m\u001b[0m\u001b[0m\n\u001b[1;32m    547\u001b[0m     \u001b[0;32mdef\u001b[0m \u001b[0mget\u001b[0m\u001b[0;34m(\u001b[0m\u001b[0mself\u001b[0m\u001b[0;34m)\u001b[0m\u001b[0;34m:\u001b[0m\u001b[0;34m\u001b[0m\u001b[0m\n",
      "\u001b[0;32m/usr/local/lib/python3.6/site-packages/sklearn/externals/joblib/parallel.py\u001b[0m in \u001b[0;36m__call__\u001b[0;34m(self)\u001b[0m\n\u001b[1;32m    259\u001b[0m         \u001b[0;32mwith\u001b[0m \u001b[0mparallel_backend\u001b[0m\u001b[0;34m(\u001b[0m\u001b[0mself\u001b[0m\u001b[0;34m.\u001b[0m\u001b[0m_backend\u001b[0m\u001b[0;34m)\u001b[0m\u001b[0;34m:\u001b[0m\u001b[0;34m\u001b[0m\u001b[0m\n\u001b[1;32m    260\u001b[0m             return [func(*args, **kwargs)\n\u001b[0;32m--> 261\u001b[0;31m                     for func, args, kwargs in self.items]\n\u001b[0m\u001b[1;32m    262\u001b[0m \u001b[0;34m\u001b[0m\u001b[0m\n\u001b[1;32m    263\u001b[0m     \u001b[0;32mdef\u001b[0m \u001b[0m__len__\u001b[0m\u001b[0;34m(\u001b[0m\u001b[0mself\u001b[0m\u001b[0;34m)\u001b[0m\u001b[0;34m:\u001b[0m\u001b[0;34m\u001b[0m\u001b[0m\n",
      "\u001b[0;32m/usr/local/lib/python3.6/site-packages/sklearn/externals/joblib/parallel.py\u001b[0m in \u001b[0;36m<listcomp>\u001b[0;34m(.0)\u001b[0m\n\u001b[1;32m    259\u001b[0m         \u001b[0;32mwith\u001b[0m \u001b[0mparallel_backend\u001b[0m\u001b[0;34m(\u001b[0m\u001b[0mself\u001b[0m\u001b[0;34m.\u001b[0m\u001b[0m_backend\u001b[0m\u001b[0;34m)\u001b[0m\u001b[0;34m:\u001b[0m\u001b[0;34m\u001b[0m\u001b[0m\n\u001b[1;32m    260\u001b[0m             return [func(*args, **kwargs)\n\u001b[0;32m--> 261\u001b[0;31m                     for func, args, kwargs in self.items]\n\u001b[0m\u001b[1;32m    262\u001b[0m \u001b[0;34m\u001b[0m\u001b[0m\n\u001b[1;32m    263\u001b[0m     \u001b[0;32mdef\u001b[0m \u001b[0m__len__\u001b[0m\u001b[0;34m(\u001b[0m\u001b[0mself\u001b[0m\u001b[0;34m)\u001b[0m\u001b[0;34m:\u001b[0m\u001b[0;34m\u001b[0m\u001b[0m\n",
      "\u001b[0;32m/usr/local/lib/python3.6/site-packages/sklearn/model_selection/_validation.py\u001b[0m in \u001b[0;36m_fit_and_score\u001b[0;34m(estimator, X, y, scorer, train, test, verbose, parameters, fit_params, return_train_score, return_parameters, return_n_test_samples, return_times, return_estimator, error_score)\u001b[0m\n\u001b[1;32m    526\u001b[0m             \u001b[0mestimator\u001b[0m\u001b[0;34m.\u001b[0m\u001b[0mfit\u001b[0m\u001b[0;34m(\u001b[0m\u001b[0mX_train\u001b[0m\u001b[0;34m,\u001b[0m \u001b[0;34m**\u001b[0m\u001b[0mfit_params\u001b[0m\u001b[0;34m)\u001b[0m\u001b[0;34m\u001b[0m\u001b[0m\n\u001b[1;32m    527\u001b[0m         \u001b[0;32melse\u001b[0m\u001b[0;34m:\u001b[0m\u001b[0;34m\u001b[0m\u001b[0m\n\u001b[0;32m--> 528\u001b[0;31m             \u001b[0mestimator\u001b[0m\u001b[0;34m.\u001b[0m\u001b[0mfit\u001b[0m\u001b[0;34m(\u001b[0m\u001b[0mX_train\u001b[0m\u001b[0;34m,\u001b[0m \u001b[0my_train\u001b[0m\u001b[0;34m,\u001b[0m \u001b[0;34m**\u001b[0m\u001b[0mfit_params\u001b[0m\u001b[0;34m)\u001b[0m\u001b[0;34m\u001b[0m\u001b[0m\n\u001b[0m\u001b[1;32m    529\u001b[0m \u001b[0;34m\u001b[0m\u001b[0m\n\u001b[1;32m    530\u001b[0m     \u001b[0;32mexcept\u001b[0m \u001b[0mException\u001b[0m \u001b[0;32mas\u001b[0m \u001b[0me\u001b[0m\u001b[0;34m:\u001b[0m\u001b[0;34m\u001b[0m\u001b[0m\n",
      "\u001b[0;32m/usr/local/lib/python3.6/site-packages/sklearn/neural_network/multilayer_perceptron.py\u001b[0m in \u001b[0;36mfit\u001b[0;34m(self, X, y)\u001b[0m\n\u001b[1;32m    975\u001b[0m         \"\"\"\n\u001b[1;32m    976\u001b[0m         return self._fit(X, y, incremental=(self.warm_start and\n\u001b[0;32m--> 977\u001b[0;31m                                             hasattr(self, \"classes_\")))\n\u001b[0m\u001b[1;32m    978\u001b[0m \u001b[0;34m\u001b[0m\u001b[0m\n\u001b[1;32m    979\u001b[0m     \u001b[0;34m@\u001b[0m\u001b[0mproperty\u001b[0m\u001b[0;34m\u001b[0m\u001b[0m\n",
      "\u001b[0;32m/usr/local/lib/python3.6/site-packages/sklearn/neural_network/multilayer_perceptron.py\u001b[0m in \u001b[0;36m_fit\u001b[0;34m(self, X, y, incremental)\u001b[0m\n\u001b[1;32m    340\u001b[0m                                            incremental):\n\u001b[1;32m    341\u001b[0m             \u001b[0;31m# First time training the model\u001b[0m\u001b[0;34m\u001b[0m\u001b[0;34m\u001b[0m\u001b[0m\n\u001b[0;32m--> 342\u001b[0;31m             \u001b[0mself\u001b[0m\u001b[0;34m.\u001b[0m\u001b[0m_initialize\u001b[0m\u001b[0;34m(\u001b[0m\u001b[0my\u001b[0m\u001b[0;34m,\u001b[0m \u001b[0mlayer_units\u001b[0m\u001b[0;34m)\u001b[0m\u001b[0;34m\u001b[0m\u001b[0m\n\u001b[0m\u001b[1;32m    343\u001b[0m \u001b[0;34m\u001b[0m\u001b[0m\n\u001b[1;32m    344\u001b[0m         \u001b[0;31m# lbfgs does not support mini-batches\u001b[0m\u001b[0;34m\u001b[0m\u001b[0;34m\u001b[0m\u001b[0m\n",
      "\u001b[0;32m/usr/local/lib/python3.6/site-packages/sklearn/neural_network/multilayer_perceptron.py\u001b[0m in \u001b[0;36m_initialize\u001b[0;34m(self, y, layer_units)\u001b[0m\n\u001b[1;32m    281\u001b[0m         \u001b[0;32mfor\u001b[0m \u001b[0mi\u001b[0m \u001b[0;32min\u001b[0m \u001b[0mrange\u001b[0m\u001b[0;34m(\u001b[0m\u001b[0mself\u001b[0m\u001b[0;34m.\u001b[0m\u001b[0mn_layers_\u001b[0m \u001b[0;34m-\u001b[0m \u001b[0;36m1\u001b[0m\u001b[0;34m)\u001b[0m\u001b[0;34m:\u001b[0m\u001b[0;34m\u001b[0m\u001b[0m\n\u001b[1;32m    282\u001b[0m             coef_init, intercept_init = self._init_coef(layer_units[i],\n\u001b[0;32m--> 283\u001b[0;31m                                                         layer_units[i + 1])\n\u001b[0m\u001b[1;32m    284\u001b[0m             \u001b[0mself\u001b[0m\u001b[0;34m.\u001b[0m\u001b[0mcoefs_\u001b[0m\u001b[0;34m.\u001b[0m\u001b[0mappend\u001b[0m\u001b[0;34m(\u001b[0m\u001b[0mcoef_init\u001b[0m\u001b[0;34m)\u001b[0m\u001b[0;34m\u001b[0m\u001b[0m\n\u001b[1;32m    285\u001b[0m             \u001b[0mself\u001b[0m\u001b[0;34m.\u001b[0m\u001b[0mintercepts_\u001b[0m\u001b[0;34m.\u001b[0m\u001b[0mappend\u001b[0m\u001b[0;34m(\u001b[0m\u001b[0mintercept_init\u001b[0m\u001b[0;34m)\u001b[0m\u001b[0;34m\u001b[0m\u001b[0m\n",
      "\u001b[0;32m/usr/local/lib/python3.6/site-packages/sklearn/neural_network/multilayer_perceptron.py\u001b[0m in \u001b[0;36m_init_coef\u001b[0;34m(self, fan_in, fan_out)\u001b[0m\n\u001b[1;32m    300\u001b[0m         \u001b[0;32mif\u001b[0m \u001b[0mself\u001b[0m\u001b[0;34m.\u001b[0m\u001b[0mactivation\u001b[0m \u001b[0;34m==\u001b[0m \u001b[0;34m'logistic'\u001b[0m\u001b[0;34m:\u001b[0m\u001b[0;34m\u001b[0m\u001b[0m\n\u001b[1;32m    301\u001b[0m             \u001b[0mfactor\u001b[0m \u001b[0;34m=\u001b[0m \u001b[0;36m2.\u001b[0m\u001b[0;34m\u001b[0m\u001b[0m\n\u001b[0;32m--> 302\u001b[0;31m         \u001b[0minit_bound\u001b[0m \u001b[0;34m=\u001b[0m \u001b[0mnp\u001b[0m\u001b[0;34m.\u001b[0m\u001b[0msqrt\u001b[0m\u001b[0;34m(\u001b[0m\u001b[0mfactor\u001b[0m \u001b[0;34m/\u001b[0m \u001b[0;34m(\u001b[0m\u001b[0mfan_in\u001b[0m \u001b[0;34m+\u001b[0m \u001b[0mfan_out\u001b[0m\u001b[0;34m)\u001b[0m\u001b[0;34m)\u001b[0m\u001b[0;34m\u001b[0m\u001b[0m\n\u001b[0m\u001b[1;32m    303\u001b[0m \u001b[0;34m\u001b[0m\u001b[0m\n\u001b[1;32m    304\u001b[0m         \u001b[0;31m# Generate weights and bias:\u001b[0m\u001b[0;34m\u001b[0m\u001b[0;34m\u001b[0m\u001b[0m\n",
      "\u001b[0;31mTypeError\u001b[0m: unsupported operand type(s) for +: 'int' and 'tuple'"
     ]
    }
   ],
   "source": [
    "clf = MLPClassifier()\n",
    "layers = [(h,)*l for l in [1,2,3] for h in [d,d//2,d*2]]\n",
    "make_complexity_curve(clf,X_tr,y_train, \"hidden_layer_sizes\", [[(104, 104)]], 5, \"MLP\",\"adult\")"
   ]
  },
  {
   "cell_type": "code",
   "execution_count": 213,
   "metadata": {},
   "outputs": [
    {
     "data": {
      "text/plain": [
       "(21113, 104)"
      ]
     },
     "execution_count": 213,
     "metadata": {},
     "output_type": "execute_result"
    }
   ],
   "source": [
    "X_train.shape\n",
    "from sklearn.ensemble import AdaBoostClassifier"
   ]
  }
 ],
 "metadata": {
  "kernelspec": {
   "display_name": "Python 3",
   "language": "python",
   "name": "python3"
  },
  "language_info": {
   "codemirror_mode": {
    "name": "ipython",
    "version": 3
   },
   "file_extension": ".py",
   "mimetype": "text/x-python",
   "name": "python",
   "nbconvert_exporter": "python",
   "pygments_lexer": "ipython3",
   "version": "3.6.5"
  }
 },
 "nbformat": 4,
 "nbformat_minor": 2
}
