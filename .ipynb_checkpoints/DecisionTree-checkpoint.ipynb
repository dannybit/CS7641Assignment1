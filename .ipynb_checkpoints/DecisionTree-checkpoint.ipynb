{
 "cells": [
  {
   "cell_type": "code",
   "execution_count": null,
   "metadata": {},
   "outputs": [],
   "source": [
    "import pandas as pd\n",
    "from sklearn.tree import DecisionTreeClassifier\n",
    "from sklearn.model_selection import train_test_split, StratifiedShuffleSplit,KFold\n",
    "from sklearn.metrics import accuracy_score,fbeta_score,f1_score\n",
    "import numpy as np\n",
    "import matplotlib.pyplot as plt\n",
    "from helpers import make_complexity_curve, make_learning_curve"
   ]
  },
  {
   "cell_type": "markdown",
   "metadata": {},
   "source": [
    "Load Cleaned Adult Data"
   ]
  },
  {
   "cell_type": "code",
   "execution_count": null,
   "metadata": {},
   "outputs": [],
   "source": [
    "adult_df = pd.read_csv(filepath_or_buffer=\"adult_cleaned.csv\")\n",
    "adult_df_dummies = pd.get_dummies(adult_df.drop('target', 1))\n",
    "adult_x = adult_df_dummies.copy().values\n",
    "adult_y = adult_df[\"target\"].copy().values\n",
    "X_adult_train, X_adult_test, y_adult_train, y_adult_test = train_test_split(adult_x, adult_y, test_size=0.3,random_state=0)"
   ]
  },
  {
   "cell_type": "markdown",
   "metadata": {},
   "source": [
    "Load Cleaned Titanic Data"
   ]
  },
  {
   "cell_type": "code",
   "execution_count": null,
   "metadata": {},
   "outputs": [],
   "source": [
    "titanic_train = pd.read_csv(filepath_or_buffer=\"titanic_train_cleaned.csv\")\n",
    "titanic_test = pd.read_csv(filepath_or_buffer=\"titanic_test_cleaned.csv\")\n",
    "X_titanic_train = pd.get_dummies(titanic_train.drop(\"Survived\", 1)).copy().values\n",
    "y_titanic_train = titanic_train[\"Survived\"]"
   ]
  },
  {
   "cell_type": "markdown",
   "metadata": {},
   "source": [
    "MAX DEPTHS"
   ]
  },
  {
   "cell_type": "code",
   "execution_count": null,
   "metadata": {},
   "outputs": [],
   "source": [
    "max_depths = list(np.arange(1, 50, 1))\n",
    "make_complexity_curve(DecisionTreeClassifier(), X_adult_train, y_adult_train,\"max_depth\",max_depths,10,\"decision_tree\",\"adult\")"
   ]
  },
  {
   "cell_type": "code",
   "execution_count": null,
   "metadata": {},
   "outputs": [],
   "source": [
    "max_depths = list(np.arange(1, 50, 1))\n",
    "make_complexity_curve(DecisionTreeClassifier(), X_titanic_train, y_titanic_train,\"max_depth\",max_depths,10,\"decision_tree\",\"titanic\")"
   ]
  },
  {
   "cell_type": "markdown",
   "metadata": {},
   "source": [
    "Learning curve"
   ]
  },
  {
   "cell_type": "code",
   "execution_count": null,
   "metadata": {},
   "outputs": [],
   "source": [
    "make_learning_curve(DecisionTreeClassifier(max_depth=8), X_adult_train, y_adult_train, cv=10, train_sizes=np.linspace(0.1, 1.0, 10), \"decision_tree\", \"adult\")"
   ]
  },
  {
   "cell_type": "code",
   "execution_count": null,
   "metadata": {},
   "outputs": [],
   "source": [
    "make_learning_curve(DecisionTreeClassifier(max_depth=8), X_titanic_train, y_titanic_trian, cv=10, train_sizes=np.linspace(0.1, 1.0, 10), \"decision_tree\", \"titanic\")"
   ]
  },
  {
   "cell_type": "code",
   "execution_count": 17,
   "metadata": {},
   "outputs": [
    {
     "data": {
      "text/plain": [
       "array([0.1, 0.2, 0.3, 0.4, 0.5, 0.6, 0.7, 0.8, 0.9, 1. ])"
      ]
     },
     "execution_count": 17,
     "metadata": {},
     "output_type": "execute_result"
    }
   ],
   "source": [
    "np.linspace(0.1, 1.0, 10)"
   ]
  }
 ],
 "metadata": {
  "kernelspec": {
   "display_name": "Python 3",
   "language": "python",
   "name": "python3"
  },
  "language_info": {
   "codemirror_mode": {
    "name": "ipython",
    "version": 3
   },
   "file_extension": ".py",
   "mimetype": "text/x-python",
   "name": "python",
   "nbconvert_exporter": "python",
   "pygments_lexer": "ipython3",
   "version": "3.6.5"
  }
 },
 "nbformat": 4,
 "nbformat_minor": 2
}
