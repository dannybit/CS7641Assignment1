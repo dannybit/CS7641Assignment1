{
 "cells": [
  {
   "cell_type": "code",
   "execution_count": 119,
   "metadata": {},
   "outputs": [
    {
     "name": "stdout",
     "output_type": "stream",
     "text": [
      "The autoreload extension is already loaded. To reload it, use:\n",
      "  %reload_ext autoreload\n"
     ]
    }
   ],
   "source": [
    "%load_ext autoreload\n",
    "%autoreload 2\n",
    "import pandas as pd\n",
    "from sklearn.tree import DecisionTreeClassifier\n",
    "from sklearn.model_selection import train_test_split, StratifiedShuffleSplit,KFold,GridSearchCV\n",
    "from sklearn.metrics import accuracy_score,fbeta_score,f1_score\n",
    "import numpy as np\n",
    "import matplotlib.pyplot as plt\n",
    "from helpers import make_complexity_curve, make_learning_curve,make_timing_curve\n",
    "from sklearn.neighbors import KNeighborsClassifier\n",
    "from sklearn.pipeline import Pipeline\n",
    "from sklearn.preprocessing import StandardScaler\n",
    "from sklearn.feature_selection import SelectFromModel\n",
    "from sklearn.ensemble import RandomForestClassifier\n",
    "import warnings\n",
    "warnings.filterwarnings('ignore')"
   ]
  },
  {
   "cell_type": "markdown",
   "metadata": {},
   "source": [
    "**Load Adult Data**"
   ]
  },
  {
   "cell_type": "code",
   "execution_count": 83,
   "metadata": {},
   "outputs": [
    {
     "name": "stdout",
     "output_type": "stream",
     "text": [
      "adult_df: (30162, 15)\n",
      "X_adult_train: (24129, 104)\n",
      "X_adult_test: (6033, 104)\n",
      "y_adult_train: (24129,)\n",
      "y_adult_test: (6033,)\n",
      "y_adult_train pos: 0.2489535413817398\n",
      "y_adult_train neg: 0.7510464586182601\n"
     ]
    }
   ],
   "source": [
    "adult_df = pd.read_csv(filepath_or_buffer=\"adult_cleaned.csv\")\n",
    "adult_df_dummies = pd.get_dummies(adult_df.drop('target', 1))\n",
    "adult_x = adult_df_dummies.copy().values\n",
    "adult_y = adult_df[\"target\"].copy().values\n",
    "X_adult_train, X_adult_test, y_adult_train, y_adult_test = train_test_split(adult_x, adult_y, test_size=0.2,random_state=0)\n",
    "print(f\"adult_df: {adult_df.shape}\")\n",
    "print(f\"X_adult_train: {X_adult_train.shape}\")\n",
    "print(f\"X_adult_test: {X_adult_test.shape}\")\n",
    "print(f\"y_adult_train: {y_adult_train.shape}\")\n",
    "print(f\"y_adult_test: {y_adult_test.shape}\")\n",
    "print(f\"y_adult_train pos: {(y_adult_train > 0).sum() / len(y_adult_train)}\")\n",
    "print(f\"y_adult_train neg: {(y_adult_train == 0).sum() / len(y_adult_train)}\")"
   ]
  },
  {
   "cell_type": "markdown",
   "metadata": {},
   "source": [
    "**Load Spam**"
   ]
  },
  {
   "cell_type": "code",
   "execution_count": 84,
   "metadata": {},
   "outputs": [
    {
     "name": "stdout",
     "output_type": "stream",
     "text": [
      "spam_df: (4601, 58)\n",
      "X_spam_train: (3680, 57)\n",
      "X_spam_test: (921, 57)\n",
      "y_spam_train: (3680,)\n",
      "y_spam_test: (921,)\n",
      "y_spam_train pos: 0.38858695652173914\n",
      "y_spam_train neg: 0.6114130434782609\n"
     ]
    }
   ],
   "source": [
    "spam_df = pd.read_csv('spambase2.csv', header=0)\n",
    "spam_x = spam_df.drop('class', axis=1)\n",
    "spam_y = spam_df['class']\n",
    "X_spam_train, X_spam_test, y_spam_train, y_spam_test = train_test_split(spam_x, spam_y, test_size=0.2,random_state=0)\n",
    "print(f\"spam_df: {spam_df.shape}\")\n",
    "print(f\"X_spam_train: {X_spam_train.shape}\")\n",
    "print(f\"X_spam_test: {X_spam_test.shape}\")\n",
    "print(f\"y_spam_train: {y_spam_train.shape}\")\n",
    "print(f\"y_spam_test: {y_spam_test.shape}\")\n",
    "print(f\"y_spam_train pos: {(y_spam_train > 0).sum() / len(y_spam_train)}\")\n",
    "print(f\"y_spam_train neg: {(y_spam_train == 0).sum() / len(y_spam_train)}\")"
   ]
  },
  {
   "cell_type": "code",
   "execution_count": 85,
   "metadata": {},
   "outputs": [],
   "source": [
    "pipeAdult = Pipeline(\n",
    "     [('Scale',StandardScaler()),\n",
    "      ('Cull1',SelectFromModel(RandomForestClassifier(),threshold='median')),\n",
    "      ('Cull2',SelectFromModel(RandomForestClassifier(),threshold='median')),\n",
    "      ('Cull3',SelectFromModel(RandomForestClassifier(),threshold='median')),\n",
    "      ('Cull4',SelectFromModel(RandomForestClassifier(),threshold='median'))\n",
    "     ]\n",
    ")\n",
    "X_trans_adult_train = pipeAdult.fit_transform(X_adult_train, y_adult_train)\n",
    "\n",
    "pipeSpam = Pipeline(\n",
    "    [('Scale',StandardScaler()),\n",
    "      ('Cull1',SelectFromModel(RandomForestClassifier(),threshold='median')),\n",
    "      ('Cull2',SelectFromModel(RandomForestClassifier(),threshold='median')),\n",
    "      ('Cull3',SelectFromModel(RandomForestClassifier(),threshold='median')),\n",
    "      ('Cull4',SelectFromModel(RandomForestClassifier(),threshold='median'))\n",
    "    ]\n",
    ")\n",
    "X_trans_spam_train = pipeSpam.fit_transform(X_spam_train, y_spam_train)"
   ]
  },
  {
   "cell_type": "code",
   "execution_count": 86,
   "metadata": {},
   "outputs": [
    {
     "name": "stdout",
     "output_type": "stream",
     "text": [
      "(24129, 104)\n",
      "(24129, 7)\n",
      "\n",
      "(3680, 57)\n",
      "(3680, 4)\n"
     ]
    }
   ],
   "source": [
    "print(X_adult_train.shape)\n",
    "print(X_trans_adult_train.shape)\n",
    "print(\"\")\n",
    "print(X_spam_train.shape)\n",
    "print(X_trans_spam_train.shape)"
   ]
  },
  {
   "cell_type": "markdown",
   "metadata": {},
   "source": [
    "**Grid Search**"
   ]
  },
  {
   "cell_type": "code",
   "execution_count": 87,
   "metadata": {},
   "outputs": [],
   "source": [
    "params = {\n",
    "    'metric':['manhattan','euclidean','chebyshev'],\n",
    "    'n_neighbors':np.arange(1,51,1),\n",
    "    'weights':['uniform','distance']\n",
    "}"
   ]
  },
  {
   "cell_type": "code",
   "execution_count": 88,
   "metadata": {},
   "outputs": [
    {
     "name": "stdout",
     "output_type": "stream",
     "text": [
      "best params adult: {'metric': 'euclidean', 'n_neighbors': 34, 'weights': 'uniform'}\n"
     ]
    }
   ],
   "source": [
    "adult_cv = GridSearchCV(KNeighborsClassifier(),param_grid=params, cv=5)\n",
    "adult_cv.fit(X_trans_adult_train.astype(float), y_adult_train.astype(float))\n",
    "print(f\"best params adult: {adult_cv.best_params_}\")"
   ]
  },
  {
   "cell_type": "code",
   "execution_count": 89,
   "metadata": {},
   "outputs": [
    {
     "name": "stdout",
     "output_type": "stream",
     "text": [
      "best params spam: {'metric': 'chebyshev', 'n_neighbors': 25, 'weights': 'distance'}\n"
     ]
    }
   ],
   "source": [
    "spam_cv = GridSearchCV(KNeighborsClassifier(),param_grid=params, cv=5)\n",
    "spam_cv.fit(X_trans_spam_train.astype(float), y_spam_train.astype(float))\n",
    "print(f\"best params spam: {spam_cv.best_params_}\")"
   ]
  },
  {
   "cell_type": "markdown",
   "metadata": {},
   "source": [
    "**Complexity**"
   ]
  },
  {
   "cell_type": "code",
   "execution_count": 115,
   "metadata": {},
   "outputs": [],
   "source": [
    "knn_adult_cc = make_complexity_curve(KNeighborsClassifier(metric='euclidean', weights='uniform'), X_trans_adult_train.astype(float), y_adult_train.astype(float), \"n_neighbors\", np.arange(1,51,1),\"knn_neighbors\", \"adult\")"
   ]
  },
  {
   "cell_type": "code",
   "execution_count": 116,
   "metadata": {},
   "outputs": [
    {
     "data": {
      "text/plain": [
       "<matplotlib.axes._subplots.AxesSubplot at 0x125fbcdd8>"
      ]
     },
     "execution_count": 116,
     "metadata": {},
     "output_type": "execute_result"
    },
    {
     "data": {
      "image/png": "[encoded data removed]",
      "text/plain": [
       "<Figure size 432x288 with 1 Axes>"
      ]
     },
     "metadata": {
      "needs_background": "light"
     },
     "output_type": "display_data"
    }
   ],
   "source": [
    "knn_adult_cc.plot()"
   ]
  },
  {
   "cell_type": "code",
   "execution_count": 117,
   "metadata": {},
   "outputs": [],
   "source": [
    "knn_spam_cc = make_complexity_curve(KNeighborsClassifier(metric='euclidean', weights='uniform'), X_trans_spam_train.astype(float), y_spam_train.astype(float), \"n_neighbors\", np.arange(1,51,1),\"knn_neighbors\", \"spam\")"
   ]
  },
  {
   "cell_type": "code",
   "execution_count": 118,
   "metadata": {},
   "outputs": [
    {
     "data": {
      "text/plain": [
       "<matplotlib.axes._subplots.AxesSubplot at 0x125307860>"
      ]
     },
     "execution_count": 118,
     "metadata": {},
     "output_type": "execute_result"
    },
    {
     "data": {
      "image/png": "[encoded data removed]",
      "text/plain": [
       "<Figure size 432x288 with 1 Axes>"
      ]
     },
     "metadata": {
      "needs_background": "light"
     },
     "output_type": "display_data"
    }
   ],
   "source": [
    "knn_spam_cc.plot()"
   ]
  },
  {
   "cell_type": "markdown",
   "metadata": {},
   "source": [
    "**Timing curve**"
   ]
  },
  {
   "cell_type": "code",
   "execution_count": 157,
   "metadata": {},
   "outputs": [],
   "source": [
    "from collections import defaultdict\n",
    "from sklearn.model_selection import validation_curve, learning_curve\n",
    "import numpy as np\n",
    "import matplotlib.pyplot as plt\n",
    "from collections import defaultdict\n",
    "import pandas as pd\n",
    "from time import clock\n",
    "from sklearn.model_selection import train_test_split\n",
    "def make_timing_curve_knn(clf, X, Y, clf_name, dataset_name):\n",
    "    out = defaultdict(dict)\n",
    "    title = 'Model Timing Curve: {} - {}'.format(clf_name, dataset_name)\n",
    "    X_train, X_test, y_train, y_test = train_test_split(X, Y, test_size=0.2, random_state=123)\n",
    "    for frac in [0.1,0.2,0.3,0.4,0.5,0.6,0.7,0.8,0.9]:\n",
    "        sample_ids = np.random.choice(X_train.shape[0], int(X_train.shape[0] * frac), replace=False)\n",
    "        print(sample_ids)\n",
    "        sampled_X_train = X_train[sample_ids]\n",
    "        print(sampled_X_train)\n",
    "        sampled_y_train = y_train[sample_ids]\n",
    "        train_size = len(sampled_X_train)\n",
    "        st = clock()\n",
    "        clf.fit(sampled_X_train, sampled_y_train)\n",
    "        out['train'][train_size] = clock() - st\n",
    "        st = clock()\n",
    "        clf.predict(X_test)\n",
    "        out['test'][train_size] = clock() - st\n",
    "    out_df = pd.DataFrame(out)\n",
    "    out_df.name = title\n",
    "    out_df.index.name = 'train_size'\n",
    "    out_df.to_csv('./output/timing/{}_{}.csv'.format(title, clock()))\n",
    "    return out_df"
   ]
  },
  {
   "cell_type": "code",
   "execution_count": 154,
   "metadata": {},
   "outputs": [
    {
     "data": {
      "text/html": [
       "<div>\n",
       "<style scoped>\n",
       "    .dataframe tbody tr th:only-of-type {\n",
       "        vertical-align: middle;\n",
       "    }\n",
       "\n",
       "    .dataframe tbody tr th {\n",
       "        vertical-align: top;\n",
       "    }\n",
       "\n",
       "    .dataframe thead th {\n",
       "        text-align: right;\n",
       "    }\n",
       "</style>\n",
       "<table border=\"1\" class=\"dataframe\">\n",
       "  <thead>\n",
       "    <tr style=\"text-align: right;\">\n",
       "      <th></th>\n",
       "      <th>train</th>\n",
       "      <th>test</th>\n",
       "    </tr>\n",
       "    <tr>\n",
       "      <th>train_size</th>\n",
       "      <th></th>\n",
       "      <th></th>\n",
       "    </tr>\n",
       "  </thead>\n",
       "  <tbody>\n",
       "    <tr>\n",
       "      <th>1930</th>\n",
       "      <td>0.000757</td>\n",
       "      <td>0.618485</td>\n",
       "    </tr>\n",
       "    <tr>\n",
       "      <th>3860</th>\n",
       "      <td>0.000535</td>\n",
       "      <td>0.904636</td>\n",
       "    </tr>\n",
       "    <tr>\n",
       "      <th>5790</th>\n",
       "      <td>0.000666</td>\n",
       "      <td>1.247220</td>\n",
       "    </tr>\n",
       "    <tr>\n",
       "      <th>7721</th>\n",
       "      <td>0.000742</td>\n",
       "      <td>1.482495</td>\n",
       "    </tr>\n",
       "    <tr>\n",
       "      <th>9651</th>\n",
       "      <td>0.000848</td>\n",
       "      <td>1.738164</td>\n",
       "    </tr>\n",
       "    <tr>\n",
       "      <th>11581</th>\n",
       "      <td>0.001002</td>\n",
       "      <td>2.069508</td>\n",
       "    </tr>\n",
       "    <tr>\n",
       "      <th>13512</th>\n",
       "      <td>0.001241</td>\n",
       "      <td>2.421209</td>\n",
       "    </tr>\n",
       "    <tr>\n",
       "      <th>15442</th>\n",
       "      <td>0.001465</td>\n",
       "      <td>2.786324</td>\n",
       "    </tr>\n",
       "    <tr>\n",
       "      <th>17372</th>\n",
       "      <td>0.001851</td>\n",
       "      <td>2.906845</td>\n",
       "    </tr>\n",
       "  </tbody>\n",
       "</table>\n",
       "</div>"
      ],
      "text/plain": [
       "               train      test\n",
       "train_size                    \n",
       "1930        0.000757  0.618485\n",
       "3860        0.000535  0.904636\n",
       "5790        0.000666  1.247220\n",
       "7721        0.000742  1.482495\n",
       "9651        0.000848  1.738164\n",
       "11581       0.001002  2.069508\n",
       "13512       0.001241  2.421209\n",
       "15442       0.001465  2.786324\n",
       "17372       0.001851  2.906845"
      ]
     },
     "execution_count": 154,
     "metadata": {},
     "output_type": "execute_result"
    }
   ],
   "source": [
    "adult_timing = make_timing_curve_knn(KNeighborsClassifier(algorithm='brute', metric='euclidean', n_neighbors=15),X_trans_adult_train.astype(float), y_adult_train.astype(float),'knn_timing', 'adult')\n",
    "adult_timing"
   ]
  },
  {
   "cell_type": "code",
   "execution_count": 155,
   "metadata": {},
   "outputs": [
    {
     "data": {
      "text/plain": [
       "<matplotlib.axes._subplots.AxesSubplot at 0x1262f0908>"
      ]
     },
     "execution_count": 155,
     "metadata": {},
     "output_type": "execute_result"
    },
    {
     "data": {
      "image/png": "[encoded data removed]",
      "text/plain": [
       "<Figure size 432x288 with 1 Axes>"
      ]
     },
     "metadata": {
      "needs_background": "light"
     },
     "output_type": "display_data"
    }
   ],
   "source": [
    "adult_timing.plot(title=adult_timing.name)"
   ]
  },
  {
   "cell_type": "code",
   "execution_count": 160,
   "metadata": {},
   "outputs": [
    {
     "data": {
      "text/plain": [
       "array([[-0.29818238, -0.07133209,  0.20935097, -0.06421852],\n",
       "       [ 1.92367052,  0.63594291, -0.29825605,  0.00292678]])"
      ]
     },
     "execution_count": 160,
     "metadata": {},
     "output_type": "execute_result"
    }
   ],
   "source": [
    "X_trans_spam_train[[1761,2486]]"
   ]
  },
  {
   "cell_type": "code",
   "execution_count": 158,
   "metadata": {},
   "outputs": [
    {
     "name": "stdout",
     "output_type": "stream",
     "text": [
      "[1761 2486  638 1632 1407  590  310  287 1988 1133 2383   56  936 2917\n",
      " 1070  669 2337 1917  370  626 2277 1839  840  332  276 1325  604 2051\n",
      " 1714  852 2419 1193   10 2009 2458 1588 2549 2112 1974 2440 1074 2745\n",
      " 1793 2779 2885  326 2543 2743   21  980 1787 1356 1419  588 1349 2142\n",
      "  687  286 2598  629 2541  603 2771 1631 1312  864  897 2099 2435 2214\n",
      " 1908  431 2499 1217 1737 2392 2296 2330 1126 2666 2313  966   71  234\n",
      " 2850  136 1858 2908 2065 2614  165 1373 1264 2697  427 1068  363  765\n",
      " 1643 1284 2738 2817 1386 1035  255 1812  616 1121 1510  133 2110   83\n",
      " 2433 2602  193 1592 2799  156  754  475  918  411  639 1672 1240  811\n",
      "  243 1605 1003 1390 1772 2349 1254   88  924 2312  951 1695  988 1652\n",
      "  296  534 1856 2622  190 1080 1840 2766   24  191   35 2874   43 2001\n",
      " 1039 2220 1054  473   73 2185  144 1044 2765 2545 1252 2500  308  885\n",
      " 2436 2795  947 1351 2695  921 1334 2126  569 1740 2160 1711 2582 1637\n",
      " 1630 1599 2815  492 1184 2531  548  611  863 2365 2517 2114 1460 2405\n",
      " 1442  725 2362 2777  926 2694 2775 2613 1587  806 1665 1816 2896 1410\n",
      "  836  284 2161  349 2373  627 2343 1119  674 1319  376  494  453 2523\n",
      "  792 1501  820 1291 1022  787  778 1864  314  584 2845 1049 1042  309\n",
      " 2902 1027 1756 2910 2133 2022 2762  780  606   69  846  602 2556 1301\n",
      " 1723 2237 1303  502  109 1916  457  551 2125 1446  945  771  908  509\n",
      "  851 2173 2108  387 1598  302 2366 2932 1050 2658 2610 1603  797  121\n",
      " 2206 2783 2118 2480 2890 2692  176  329 2589 2137 1539  688 1881 1993]\n"
     ]
    },
    {
     "ename": "ValueError",
     "evalue": "Input contains NaN, infinity or a value too large for dtype('float64').",
     "output_type": "error",
     "traceback": [
      "\u001b[0;31m---------------------------------------------------------------------------\u001b[0m",
      "\u001b[0;31mValueError\u001b[0m                                Traceback (most recent call last)",
      "\u001b[0;32m<ipython-input-158-29ede208aba9>\u001b[0m in \u001b[0;36m<module>\u001b[0;34m\u001b[0m\n\u001b[0;32m----> 1\u001b[0;31m \u001b[0mspam_timing\u001b[0m \u001b[0;34m=\u001b[0m \u001b[0mmake_timing_curve_knn\u001b[0m\u001b[0;34m(\u001b[0m\u001b[0mKNeighborsClassifier\u001b[0m\u001b[0;34m(\u001b[0m\u001b[0malgorithm\u001b[0m\u001b[0;34m=\u001b[0m\u001b[0;34m'brute'\u001b[0m\u001b[0;34m,\u001b[0m \u001b[0mmetric\u001b[0m\u001b[0;34m=\u001b[0m\u001b[0;34m'euclidean'\u001b[0m\u001b[0;34m,\u001b[0m \u001b[0mn_neighbors\u001b[0m\u001b[0;34m=\u001b[0m\u001b[0;36m15\u001b[0m\u001b[0;34m)\u001b[0m\u001b[0;34m,\u001b[0m\u001b[0mX_trans_spam_train\u001b[0m\u001b[0;34m.\u001b[0m\u001b[0mastype\u001b[0m\u001b[0;34m(\u001b[0m\u001b[0mfloat\u001b[0m\u001b[0;34m)\u001b[0m\u001b[0;34m,\u001b[0m \u001b[0my_spam_train\u001b[0m\u001b[0;34m.\u001b[0m\u001b[0mastype\u001b[0m\u001b[0;34m(\u001b[0m\u001b[0mfloat\u001b[0m\u001b[0;34m)\u001b[0m\u001b[0;34m,\u001b[0m\u001b[0;34m'knn_timing'\u001b[0m\u001b[0;34m,\u001b[0m \u001b[0;34m'spam'\u001b[0m\u001b[0;34m)\u001b[0m\u001b[0;34m\u001b[0m\u001b[0m\n\u001b[0m",
      "\u001b[0;32m<ipython-input-157-287df5ca1d3e>\u001b[0m in \u001b[0;36mmake_timing_curve_knn\u001b[0;34m(clf, X, Y, clf_name, dataset_name)\u001b[0m\n\u001b[1;32m     18\u001b[0m         \u001b[0mtrain_size\u001b[0m \u001b[0;34m=\u001b[0m \u001b[0mlen\u001b[0m\u001b[0;34m(\u001b[0m\u001b[0msampled_X_train\u001b[0m\u001b[0;34m)\u001b[0m\u001b[0;34m\u001b[0m\u001b[0m\n\u001b[1;32m     19\u001b[0m         \u001b[0mst\u001b[0m \u001b[0;34m=\u001b[0m \u001b[0mclock\u001b[0m\u001b[0;34m(\u001b[0m\u001b[0;34m)\u001b[0m\u001b[0;34m\u001b[0m\u001b[0m\n\u001b[0;32m---> 20\u001b[0;31m         \u001b[0mclf\u001b[0m\u001b[0;34m.\u001b[0m\u001b[0mfit\u001b[0m\u001b[0;34m(\u001b[0m\u001b[0msampled_X_train\u001b[0m\u001b[0;34m,\u001b[0m \u001b[0msampled_y_train\u001b[0m\u001b[0;34m)\u001b[0m\u001b[0;34m\u001b[0m\u001b[0m\n\u001b[0m\u001b[1;32m     21\u001b[0m         \u001b[0mout\u001b[0m\u001b[0;34m[\u001b[0m\u001b[0;34m'train'\u001b[0m\u001b[0;34m]\u001b[0m\u001b[0;34m[\u001b[0m\u001b[0mtrain_size\u001b[0m\u001b[0;34m]\u001b[0m \u001b[0;34m=\u001b[0m \u001b[0mclock\u001b[0m\u001b[0;34m(\u001b[0m\u001b[0;34m)\u001b[0m \u001b[0;34m-\u001b[0m \u001b[0mst\u001b[0m\u001b[0;34m\u001b[0m\u001b[0m\n\u001b[1;32m     22\u001b[0m         \u001b[0mst\u001b[0m \u001b[0;34m=\u001b[0m \u001b[0mclock\u001b[0m\u001b[0;34m(\u001b[0m\u001b[0;34m)\u001b[0m\u001b[0;34m\u001b[0m\u001b[0m\n",
      "\u001b[0;32m/usr/local/lib/python3.6/site-packages/sklearn/neighbors/base.py\u001b[0m in \u001b[0;36mfit\u001b[0;34m(self, X, y)\u001b[0m\n\u001b[1;32m    868\u001b[0m         \"\"\"\n\u001b[1;32m    869\u001b[0m         \u001b[0;32mif\u001b[0m \u001b[0;32mnot\u001b[0m \u001b[0misinstance\u001b[0m\u001b[0;34m(\u001b[0m\u001b[0mX\u001b[0m\u001b[0;34m,\u001b[0m \u001b[0;34m(\u001b[0m\u001b[0mKDTree\u001b[0m\u001b[0;34m,\u001b[0m \u001b[0mBallTree\u001b[0m\u001b[0;34m)\u001b[0m\u001b[0;34m)\u001b[0m\u001b[0;34m:\u001b[0m\u001b[0;34m\u001b[0m\u001b[0m\n\u001b[0;32m--> 870\u001b[0;31m             \u001b[0mX\u001b[0m\u001b[0;34m,\u001b[0m \u001b[0my\u001b[0m \u001b[0;34m=\u001b[0m \u001b[0mcheck_X_y\u001b[0m\u001b[0;34m(\u001b[0m\u001b[0mX\u001b[0m\u001b[0;34m,\u001b[0m \u001b[0my\u001b[0m\u001b[0;34m,\u001b[0m \u001b[0;34m\"csr\"\u001b[0m\u001b[0;34m,\u001b[0m \u001b[0mmulti_output\u001b[0m\u001b[0;34m=\u001b[0m\u001b[0;32mTrue\u001b[0m\u001b[0;34m)\u001b[0m\u001b[0;34m\u001b[0m\u001b[0m\n\u001b[0m\u001b[1;32m    871\u001b[0m \u001b[0;34m\u001b[0m\u001b[0m\n\u001b[1;32m    872\u001b[0m         \u001b[0;32mif\u001b[0m \u001b[0my\u001b[0m\u001b[0;34m.\u001b[0m\u001b[0mndim\u001b[0m \u001b[0;34m==\u001b[0m \u001b[0;36m1\u001b[0m \u001b[0;32mor\u001b[0m \u001b[0my\u001b[0m\u001b[0;34m.\u001b[0m\u001b[0mndim\u001b[0m \u001b[0;34m==\u001b[0m \u001b[0;36m2\u001b[0m \u001b[0;32mand\u001b[0m \u001b[0my\u001b[0m\u001b[0;34m.\u001b[0m\u001b[0mshape\u001b[0m\u001b[0;34m[\u001b[0m\u001b[0;36m1\u001b[0m\u001b[0;34m]\u001b[0m \u001b[0;34m==\u001b[0m \u001b[0;36m1\u001b[0m\u001b[0;34m:\u001b[0m\u001b[0;34m\u001b[0m\u001b[0m\n",
      "\u001b[0;32m/usr/local/lib/python3.6/site-packages/sklearn/utils/validation.py\u001b[0m in \u001b[0;36mcheck_X_y\u001b[0;34m(X, y, accept_sparse, accept_large_sparse, dtype, order, copy, force_all_finite, ensure_2d, allow_nd, multi_output, ensure_min_samples, ensure_min_features, y_numeric, warn_on_dtype, estimator)\u001b[0m\n\u001b[1;32m    748\u001b[0m     \u001b[0;32mif\u001b[0m \u001b[0mmulti_output\u001b[0m\u001b[0;34m:\u001b[0m\u001b[0;34m\u001b[0m\u001b[0m\n\u001b[1;32m    749\u001b[0m         y = check_array(y, 'csr', force_all_finite=True, ensure_2d=False,\n\u001b[0;32m--> 750\u001b[0;31m                         dtype=None)\n\u001b[0m\u001b[1;32m    751\u001b[0m     \u001b[0;32melse\u001b[0m\u001b[0;34m:\u001b[0m\u001b[0;34m\u001b[0m\u001b[0m\n\u001b[1;32m    752\u001b[0m         \u001b[0my\u001b[0m \u001b[0;34m=\u001b[0m \u001b[0mcolumn_or_1d\u001b[0m\u001b[0;34m(\u001b[0m\u001b[0my\u001b[0m\u001b[0;34m,\u001b[0m \u001b[0mwarn\u001b[0m\u001b[0;34m=\u001b[0m\u001b[0;32mTrue\u001b[0m\u001b[0;34m)\u001b[0m\u001b[0;34m\u001b[0m\u001b[0m\n",
      "\u001b[0;32m/usr/local/lib/python3.6/site-packages/sklearn/utils/validation.py\u001b[0m in \u001b[0;36mcheck_array\u001b[0;34m(array, accept_sparse, accept_large_sparse, dtype, order, copy, force_all_finite, ensure_2d, allow_nd, ensure_min_samples, ensure_min_features, warn_on_dtype, estimator)\u001b[0m\n\u001b[1;32m    566\u001b[0m         \u001b[0;32mif\u001b[0m \u001b[0mforce_all_finite\u001b[0m\u001b[0;34m:\u001b[0m\u001b[0;34m\u001b[0m\u001b[0m\n\u001b[1;32m    567\u001b[0m             _assert_all_finite(array,\n\u001b[0;32m--> 568\u001b[0;31m                                allow_nan=force_all_finite == 'allow-nan')\n\u001b[0m\u001b[1;32m    569\u001b[0m \u001b[0;34m\u001b[0m\u001b[0m\n\u001b[1;32m    570\u001b[0m     \u001b[0mshape_repr\u001b[0m \u001b[0;34m=\u001b[0m \u001b[0m_shape_repr\u001b[0m\u001b[0;34m(\u001b[0m\u001b[0marray\u001b[0m\u001b[0;34m.\u001b[0m\u001b[0mshape\u001b[0m\u001b[0;34m)\u001b[0m\u001b[0;34m\u001b[0m\u001b[0m\n",
      "\u001b[0;32m/usr/local/lib/python3.6/site-packages/sklearn/utils/validation.py\u001b[0m in \u001b[0;36m_assert_all_finite\u001b[0;34m(X, allow_nan)\u001b[0m\n\u001b[1;32m     54\u001b[0m                 not allow_nan and not np.isfinite(X).all()):\n\u001b[1;32m     55\u001b[0m             \u001b[0mtype_err\u001b[0m \u001b[0;34m=\u001b[0m \u001b[0;34m'infinity'\u001b[0m \u001b[0;32mif\u001b[0m \u001b[0mallow_nan\u001b[0m \u001b[0;32melse\u001b[0m \u001b[0;34m'NaN, infinity'\u001b[0m\u001b[0;34m\u001b[0m\u001b[0m\n\u001b[0;32m---> 56\u001b[0;31m             \u001b[0;32mraise\u001b[0m \u001b[0mValueError\u001b[0m\u001b[0;34m(\u001b[0m\u001b[0mmsg_err\u001b[0m\u001b[0;34m.\u001b[0m\u001b[0mformat\u001b[0m\u001b[0;34m(\u001b[0m\u001b[0mtype_err\u001b[0m\u001b[0;34m,\u001b[0m \u001b[0mX\u001b[0m\u001b[0;34m.\u001b[0m\u001b[0mdtype\u001b[0m\u001b[0;34m)\u001b[0m\u001b[0;34m)\u001b[0m\u001b[0;34m\u001b[0m\u001b[0m\n\u001b[0m\u001b[1;32m     57\u001b[0m \u001b[0;34m\u001b[0m\u001b[0m\n\u001b[1;32m     58\u001b[0m \u001b[0;34m\u001b[0m\u001b[0m\n",
      "\u001b[0;31mValueError\u001b[0m: Input contains NaN, infinity or a value too large for dtype('float64')."
     ]
    }
   ],
   "source": [
    "spam_timing = make_timing_curve_knn(KNeighborsClassifier(algorithm='brute', metric='euclidean', n_neighbors=15),X_trans_spam_train.astype(float), y_spam_train.astype(float),'knn_timing', 'spam')"
   ]
  },
  {
   "cell_type": "code",
   "execution_count": null,
   "metadata": {},
   "outputs": [],
   "source": [
    "spam_timing.plot(title=spam_timing.name)"
   ]
  },
  {
   "cell_type": "markdown",
   "metadata": {},
   "source": [
    "**Learning curve**"
   ]
  },
  {
   "cell_type": "code",
   "execution_count": 98,
   "metadata": {},
   "outputs": [],
   "source": [
    "adult_lc = make_learning_curve(adult_cv.best_estimator_,X_trans_adult_train.astype(float), y_adult_train.astype(float),np.linspace(0.1, 1.0, 10),'knn learning curve', 'adult')"
   ]
  },
  {
   "cell_type": "code",
   "execution_count": 99,
   "metadata": {},
   "outputs": [
    {
     "data": {
      "text/plain": [
       "<matplotlib.axes._subplots.AxesSubplot at 0x1252c7908>"
      ]
     },
     "execution_count": 99,
     "metadata": {},
     "output_type": "execute_result"
    },
    {
     "data": {
      "image/png": "[encoded data removed]",
      "text/plain": [
       "<Figure size 432x288 with 1 Axes>"
      ]
     },
     "metadata": {
      "needs_background": "light"
     },
     "output_type": "display_data"
    }
   ],
   "source": [
    "adult_lc.plot(title=adult_lc.name)"
   ]
  },
  {
   "cell_type": "code",
   "execution_count": 100,
   "metadata": {},
   "outputs": [],
   "source": [
    "spam_lc = make_learning_curve(spam_cv.best_estimator_,X_trans_spam_train.astype(float), y_spam_train.astype(float),np.linspace(0.1, 1.0, 10),'knn learning curve', 'spam')"
   ]
  },
  {
   "cell_type": "code",
   "execution_count": 103,
   "metadata": {},
   "outputs": [
    {
     "data": {
      "text/plain": [
       "<matplotlib.axes._subplots.AxesSubplot at 0x12570a588>"
      ]
     },
     "execution_count": 103,
     "metadata": {},
     "output_type": "execute_result"
    },
    {
     "data": {
      "image/png": "[encoded data removed]",
      "text/plain": [
       "<Figure size 432x288 with 1 Axes>"
      ]
     },
     "metadata": {
      "needs_background": "light"
     },
     "output_type": "display_data"
    }
   ],
   "source": [
    "spam_lc.plot(title=spam_lc.name)"
   ]
  },
  {
   "cell_type": "code",
   "execution_count": null,
   "metadata": {},
   "outputs": [],
   "source": []
  }
 ],
 "metadata": {
  "kernelspec": {
   "display_name": "Python 3",
   "language": "python",
   "name": "python3"
  },
  "language_info": {
   "codemirror_mode": {
    "name": "ipython",
    "version": 3
   },
   "file_extension": ".py",
   "mimetype": "text/x-python",
   "name": "python",
   "nbconvert_exporter": "python",
   "pygments_lexer": "ipython3",
   "version": "3.6.5"
  }
 },
 "nbformat": 4,
 "nbformat_minor": 2
}
