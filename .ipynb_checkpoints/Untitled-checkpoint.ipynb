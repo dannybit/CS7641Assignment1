{
 "cells": [
  {
   "cell_type": "code",
   "execution_count": 1,
   "metadata": {},
   "outputs": [],
   "source": [
    "import pandas as pd\n",
    "from sklearn import tree\n",
    "from sklearn.model_selection import train_test_split\n",
    "from sklearn.metrics import accuracy_score,fbeta_score,f1_score\n",
    "import numpy as np"
   ]
  },
  {
   "cell_type": "code",
   "execution_count": 2,
   "metadata": {},
   "outputs": [],
   "source": [
    "column_names = [\n",
    "    \"age\", # continuous\n",
    "    \"workclass\", # Private, Self-emp-not-inc, Self-emp-inc, Federal-gov, Local-gov, State-gov, Without-pay, Never-worked\n",
    "    \"fnlwgt\", # continuous \n",
    "    \"education\", # Bachelors, Some-college, 11th, HS-grad, Prof-school, Assoc-acdm, Assoc-voc, 9th, 7th-8th, 12th, Masters, 1st-4th, 10th, Doctorate, 5th-6th, Preschool\n",
    "    \"education-num\", # continuous. \n",
    "    \"marital-status\", # Married-civ-spouse, Divorced, Never-married, Separated, Widowed, Married-spouse-absent, Married-AF-spouse.\n",
    "    \"occupation\", # Tech-support, Craft-repair, Other-service, Sales, Exec-managerial, Prof-specialty, Handlers-cleaners, Machine-op-inspct, Adm-clerical, Farming-fishing, Transport-moving, Priv-house-serv, Protective-serv, Armed-Forces.\n",
    "    \"relationship\", # Wife, Own-child, Husband, Not-in-family, Other-relative, Unmarried \n",
    "    \"race\", # White, Asian-Pac-Islander, Amer-Indian-Eskimo, Other, Black, \n",
    "    \"sex\", # Female, Male, \n",
    "    \"capital-gain\", # continuous, \n",
    "    \"capital-loss\", # continuous, \n",
    "    \"hours-per-week\", # continuous, \n",
    "    \"native-country\", # United-States, Cambodia, England, Puerto-Rico, Canada, Germany, Outlying-US(Guam-USVI-etc), India, Japan, Greece, South, China, Cuba, Iran, Honduras, Philippines, Italy, Poland, Jamaica, Vietnam, Mexico, Portugal, Ireland, France, Dominican-Republic, Laos, Ecuador, Taiwan, Haiti, Columbia, Hungary, Guatemala, Nicaragua, Scotland, Thailand, Yugoslavia, El-Salvador, Trinadad&Tobago, Peru, Hong, Holand-Netherlands \n",
    "    \"target\" # >50K, <=50K\n",
    "]\n",
    "df = pd.read_csv(filepath_or_buffer=\"adult.data.txt\", sep=',', names=column_names, skipinitialspace=True)\n",
    "df[\"target\"] = df[\"target\"].map({\"<=50K\": 0, \">50K\": 1})"
   ]
  },
  {
   "cell_type": "code",
   "execution_count": 3,
   "metadata": {},
   "outputs": [
    {
     "name": "stdout",
     "output_type": "stream",
     "text": [
      "(32561, 15)\n",
      "0    75.919044\n",
      "1    24.080956\n",
      "Name: target, dtype: float64\n",
      "\n",
      "missing values\n",
      "workclass:1836\n",
      "education:0\n",
      "marital-status:0\n",
      "occupation:1843\n",
      "relationship:0\n",
      "race:0\n",
      "sex:0\n",
      "native-country:583\n"
     ]
    }
   ],
   "source": [
    "print(df.shape)\n",
    "print(100 * (df[\"target\"].value_counts() / len(df[\"target\"])))\n",
    "print(\"\")\n",
    "print(\"missing values\")\n",
    "for col in column_names:\n",
    "    if df[col].dtype == object:\n",
    "        missing_count = (df[col] == \"?\").sum()\n",
    "        print(f\"{col}:{missing_count}\")"
   ]
  },
  {
   "cell_type": "code",
   "execution_count": 83,
   "metadata": {},
   "outputs": [],
   "source": [
    "df[\"workclass\"] = df[\"workclass\"].replace(to_replace='?', value=np.nan)\n",
    "df[\"occupation\"] = df[\"occupation\"].replace(to_replace='?', value=np.nan)\n",
    "df[\"native-country\"] = df[\"native-country\"].replace(to_replace='?', value=np.nan)"
   ]
  },
  {
   "cell_type": "code",
   "execution_count": 85,
   "metadata": {},
   "outputs": [
    {
     "name": "stdout",
     "output_type": "stream",
     "text": [
      "Filtered rows: 2399\n"
     ]
    }
   ],
   "source": [
    "df_filtered = df.dropna()\n",
    "print(f\"Filtered rows: {df.shape[0] - df_filtered.shape[0]}\")\n",
    "df = df_filtered"
   ]
  },
  {
   "cell_type": "code",
   "execution_count": 37,
   "metadata": {},
   "outputs": [
    {
     "name": "stdout",
     "output_type": "stream",
     "text": [
      "(32561, 108)\n",
      "(32561,)\n",
      "X_train shape: (22792, 108)\n",
      "X_test shape: (9769, 108)\n",
      "y_train: (22792,)\n",
      "y_test: (9769,)\n",
      "<class 'numpy.ndarray'>\n"
     ]
    }
   ],
   "source": [
    "df_dummies = pd.get_dummies(df.drop('target', 1))\n",
    "df_x = df_dummies.copy().values\n",
    "df_y = df[\"target\"].copy().values\n",
    "print(df_x.shape)\n",
    "print(df_y.shape)\n",
    "X_train, X_test, y_train, y_test = train_test_split(df_x, df_y, test_size=0.3,random_state=0)\n",
    "print(f\"X_train shape: {X_train.shape}\")\n",
    "print(f\"X_test shape: {X_test.shape}\")\n",
    "print(f\"y_train: {y_train.shape}\")\n",
    "print(f\"y_test: {y_test.shape}\")\n",
    "print(type(X_train))"
   ]
  },
  {
   "cell_type": "code",
   "execution_count": 36,
   "metadata": {},
   "outputs": [],
   "source": [
    "max_depths = list(np.arange(1, 50, 1))\n",
    "training_accuracies = []\n",
    "test_accuracies = []\n",
    "for depth in max_depths:\n",
    "    clf = tree.DecisionTreeClassifier(max_depth=depth)\n",
    "    clf.fit(X_train, y_train)\n",
    "    training_accuracy_score = accuracy_score(y_train, clf.predict(X_train))\n",
    "    test_accuracy_score = accuracy_score(y_test, clf.predict(X_test))\n",
    "    training_accuracies.append(training_accuracy_score)\n",
    "    test_accuracies.append(test_accuracy_score)\n",
    "    "
   ]
  },
  {
   "cell_type": "code",
   "execution_count": 35,
   "metadata": {},
   "outputs": [
    {
     "data": {
      "image/png": "[encoded data removed]",
      "text/plain": [
       "<Figure size 432x288 with 1 Axes>"
      ]
     },
     "metadata": {
      "needs_background": "light"
     },
     "output_type": "display_data"
    }
   ],
   "source": [
    "import matplotlib.pyplot as plt\n",
    "plt.close()\n",
    "plt.figure()\n",
    "plt.title(\"test\")\n",
    "plt.xlabel(\"max_depths\")\n",
    "plt.ylabel(\"accuracy\")\n",
    "plt.plot(training_accuracies, label=\"train\")\n",
    "plt.plot(test_accuracies, label=\"test\")\n",
    "plt.legend()\n",
    "plt.draw()"
   ]
  },
  {
   "cell_type": "code",
   "execution_count": null,
   "metadata": {},
   "outputs": [],
   "source": [
    "feature_importances = sorted(list(zip(df_dummies.columns.values, clf.feature_importances_)), key=lambda tup: tup[1], reverse=True)\n",
    "print(\"feature importance\")\n",
    "for fi in feature_importances[:10]:\n",
    "    print(fi)\n",
    "print(\"\")"
   ]
  },
  {
   "cell_type": "code",
   "execution_count": 60,
   "metadata": {},
   "outputs": [
    {
     "name": "stdout",
     "output_type": "stream",
     "text": [
      "22792\n",
      "(22792, 108)\n",
      "(22792,)\n"
     ]
    },
    {
     "data": {
      "image/png": "[encoded data removed]",
      "text/plain": [
       "<Figure size 432x288 with 1 Axes>"
      ]
     },
     "metadata": {
      "needs_background": "light"
     },
     "output_type": "display_data"
    }
   ],
   "source": [
    "percentages = list(np.arange(1, 100, 1))\n",
    "number_of_examples = X_train.shape[0]\n",
    "print(number_of_examples)\n",
    "print(X_train.shape)\n",
    "print(y_train.shape)\n",
    "training_accuracies = []\n",
    "test_accuracies = []\n",
    "for percentage in percentages:\n",
    "    indexes = list(np.arange(0, int((percentage / 100) * number_of_examples), 1))\n",
    "    clf = tree.DecisionTreeClassifier(max_depth=15)\n",
    "    clf.fit(X_train[indexes], y_train[indexes])\n",
    "    training_accuracy_score = accuracy_score(y_train, clf.predict(X_train))\n",
    "    test_accuracy_score = accuracy_score(y_test, clf.predict(X_test))\n",
    "    training_accuracies.append(training_accuracy_score)\n",
    "    test_accuracies.append(test_accuracy_score)\n",
    "\n",
    "import matplotlib.pyplot as plt\n",
    "plt.close()\n",
    "plt.figure()\n",
    "plt.title(\"test\")\n",
    "plt.xlabel(\"percentage of sample\")\n",
    "plt.ylabel(\"accuracy\")\n",
    "plt.plot(training_accuracies, label=\"train\")\n",
    "plt.plot(test_accuracies, label=\"test\")\n",
    "plt.legend()\n",
    "plt.draw()"
   ]
  },
  {
   "cell_type": "code",
   "execution_count": null,
   "metadata": {},
   "outputs": [],
   "source": []
  }
 ],
 "metadata": {
  "kernelspec": {
   "display_name": "Python 3",
   "language": "python",
   "name": "python3"
  },
  "language_info": {
   "codemirror_mode": {
    "name": "ipython",
    "version": 3
   },
   "file_extension": ".py",
   "mimetype": "text/x-python",
   "name": "python",
   "nbconvert_exporter": "python",
   "pygments_lexer": "ipython3",
   "version": "3.6.5"
  }
 },
 "nbformat": 4,
 "nbformat_minor": 2
}
