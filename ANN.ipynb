{
 "cells": [
  {
   "cell_type": "code",
   "execution_count": 5,
   "metadata": {},
   "outputs": [
    {
     "name": "stdout",
     "output_type": "stream",
     "text": [
      "The autoreload extension is already loaded. To reload it, use:\n",
      "  %reload_ext autoreload\n"
     ]
    }
   ],
   "source": [
    "%load_ext autoreload\n",
    "%autoreload 2\n",
    "import pandas as pd\n",
    "from sklearn.tree import DecisionTreeClassifier\n",
    "from sklearn.model_selection import train_test_split, StratifiedShuffleSplit,KFold, GridSearchCV\n",
    "from sklearn.metrics import accuracy_score,fbeta_score,f1_score\n",
    "import numpy as np\n",
    "import matplotlib.pyplot as plt\n",
    "from helpers import make_complexity_curve, make_learning_curve\n",
    "from sklearn.neural_network import MLPClassifier\n",
    "from sklearn.pipeline import Pipeline\n",
    "from sklearn.preprocessing import StandardScaler"
   ]
  },
  {
   "cell_type": "markdown",
   "metadata": {},
   "source": [
    "**Load Cleaned Adult Data**"
   ]
  },
  {
   "cell_type": "code",
   "execution_count": 3,
   "metadata": {},
   "outputs": [],
   "source": [
    "adult_df = pd.read_csv(filepath_or_buffer=\"adult_cleaned.csv\")\n",
    "adult_df_dummies = pd.get_dummies(adult_df.drop('target', 1))\n",
    "adult_x = adult_df_dummies.copy().values\n",
    "adult_y = adult_df[\"target\"].copy().values\n",
    "X_adult_train, X_adult_test, y_adult_train, y_adult_test = train_test_split(adult_x, adult_y, test_size=0.3,random_state=0)"
   ]
  },
  {
   "cell_type": "markdown",
   "metadata": {},
   "source": [
    "**Load Cleaned Titanic Data**"
   ]
  },
  {
   "cell_type": "code",
   "execution_count": 4,
   "metadata": {},
   "outputs": [],
   "source": [
    "titanic_train = pd.read_csv(filepath_or_buffer=\"titanic_train_cleaned.csv\")\n",
    "titanic_test = pd.read_csv(filepath_or_buffer=\"titanic_test_cleaned.csv\")\n",
    "titanic_df_dummies = pd.get_dummies(titanic_train.drop(\"Survived\", 1))\n",
    "X_titanic_train = titanic_df_dummies.copy().values\n",
    "y_titanic_train = titanic_train[\"Survived\"]"
   ]
  },
  {
   "cell_type": "markdown",
   "metadata": {},
   "source": [
    "**Load Spam**"
   ]
  },
  {
   "cell_type": "code",
   "execution_count": null,
   "metadata": {},
   "outputs": [],
   "source": [
    "spam_df = pd.read_csv('spambase2.csv', header=0)\n",
    "X_spam_train, X_spam_test, y_spam_train, y_spam_test = train_test_split(adult_x, adult_y, test_size=0.3,random_state=0)\n",
    "print(f\"X_spam_train: {X_spam_train.shape}\")\n",
    "print(f\"X_spam_test: {X_spam_test.shape}\")\n",
    "print(f\"y_spam_train: {y_spam_train.shape}\")\n",
    "print(f\"y_spam_test: {y_spam_test.shape}\")"
   ]
  },
  {
   "cell_type": "code",
   "execution_count": 10,
   "metadata": {},
   "outputs": [],
   "source": [
    "def getParams(nFeatures):\n",
    "    alphas = [10**-x for x in np.arange(-1,5.01,1/2)]\n",
    "    hiddens = [(h,)*l for l in [1,2,3] for h in [nFeatures,nFeatures//2,nFeatures*2]]\n",
    "    params = {\n",
    "        'MLP__activation':['relu','logistic'],\n",
    "        'MLP__alpha':alphas,\n",
    "        'MLP__hidden_layer_sizes':hiddens\n",
    "    }\n",
    "    return params"
   ]
  },
  {
   "cell_type": "code",
   "execution_count": 12,
   "metadata": {},
   "outputs": [
    {
     "name": "stdout",
     "output_type": "stream",
     "text": [
      "best params adult: {'MLP__activation': 'relu', 'MLP__alpha': 0.0001, 'MLP__hidden_layer_sizes': (104,)}\n"
     ]
    }
   ],
   "source": [
    "pipeAdult = Pipeline([\n",
    "    ('Scale',StandardScaler()),\n",
    "    ('MLP',MLPClassifier(max_iter=2000,early_stopping=True,random_state=55))\n",
    "])\n",
    "adult_cv = GridSearchCV(pipeAdult,param_grid=getParams(adult_x.shape[1]), cv=5)\n",
    "adult_cv.fit(X_adult_train.astype(float), y_adult_train.astype(float))\n",
    "print(f\"best params adult: {adult_cv.best_params_}\")"
   ]
  },
  {
   "cell_type": "code",
   "execution_count": null,
   "metadata": {},
   "outputs": [],
   "source": []
  }
 ],
 "metadata": {
  "kernelspec": {
   "display_name": "Python 3",
   "language": "python",
   "name": "python3"
  },
  "language_info": {
   "codemirror_mode": {
    "name": "ipython",
    "version": 3
   },
   "file_extension": ".py",
   "mimetype": "text/x-python",
   "name": "python",
   "nbconvert_exporter": "python",
   "pygments_lexer": "ipython3",
   "version": "3.6.5"
  }
 },
 "nbformat": 4,
 "nbformat_minor": 2
}
