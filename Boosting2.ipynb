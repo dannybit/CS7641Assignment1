{
 "cells": [
  {
   "cell_type": "code",
   "execution_count": 134,
   "metadata": {},
   "outputs": [
    {
     "name": "stdout",
     "output_type": "stream",
     "text": [
      "The autoreload extension is already loaded. To reload it, use:\n",
      "  %reload_ext autoreload\n"
     ]
    }
   ],
   "source": [
    "%load_ext autoreload\n",
    "%autoreload 2\n",
    "import pandas as pd\n",
    "from sklearn.tree import DecisionTreeClassifier\n",
    "from sklearn.model_selection import train_test_split, StratifiedShuffleSplit,KFold,GridSearchCV\n",
    "from sklearn.metrics import accuracy_score,fbeta_score,f1_score\n",
    "import numpy as np\n",
    "import matplotlib.pyplot as plt\n",
    "from helpers import make_complexity_curve, make_learning_curve,make_timing_curve,make_timing_curve_fixed\n",
    "from sklearn.neighbors import KNeighborsClassifier\n",
    "from sklearn.pipeline import Pipeline\n",
    "from sklearn.preprocessing import StandardScaler\n",
    "from sklearn.feature_selection import SelectFromModel\n",
    "from sklearn.ensemble import RandomForestClassifier\n",
    "import warnings\n",
    "warnings.filterwarnings('ignore')"
   ]
  },
  {
   "cell_type": "code",
   "execution_count": 125,
   "metadata": {},
   "outputs": [
    {
     "name": "stdout",
     "output_type": "stream",
     "text": [
      "adult_df: (30162, 13)\n",
      "X_adult_train: (24129, 70)\n",
      "X_adult_test: (6033, 70)\n",
      "y_adult_train: (24129,)\n",
      "y_adult_test: (6033,)\n",
      "y_adult_train pos: 0.2489535413817398\n",
      "y_adult_train neg: 0.7510464586182601\n",
      "X_tran_adult_train: (24129, 70)\n"
     ]
    }
   ],
   "source": [
    "adult_df = pd.read_csv(filepath_or_buffer=\"adult_cleaned.csv\")\n",
    "adult_df_dummies = pd.get_dummies(adult_df.drop('target', 1))\n",
    "adult_x = adult_df_dummies.copy().values\n",
    "adult_y = adult_df[\"target\"].copy().values\n",
    "X_adult_train, X_adult_test, y_adult_train, y_adult_test = train_test_split(adult_x, adult_y, test_size=0.2,random_state=0)\n",
    "print(f\"adult_df: {adult_df.shape}\")\n",
    "print(f\"X_adult_train: {X_adult_train.shape}\")\n",
    "print(f\"X_adult_test: {X_adult_test.shape}\")\n",
    "print(f\"y_adult_train: {y_adult_train.shape}\")\n",
    "print(f\"y_adult_test: {y_adult_test.shape}\")\n",
    "print(f\"y_adult_train pos: {(y_adult_train > 0).sum() / len(y_adult_train)}\")\n",
    "print(f\"y_adult_train neg: {(y_adult_train == 0).sum() / len(y_adult_train)}\")\n",
    "pipeAdult = Pipeline([('Scale',StandardScaler())])\n",
    "X_trans_adult_train = pipeAdult.fit_transform(X_adult_train, y_adult_train)\n",
    "print(f\"X_tran_adult_train: {X_trans_adult_train.shape}\")"
   ]
  },
  {
   "cell_type": "code",
   "execution_count": 127,
   "metadata": {},
   "outputs": [
    {
     "name": "stdout",
     "output_type": "stream",
     "text": [
      "spam_df: (4601, 58)\n",
      "X_spam_train: (3680, 57)\n",
      "X_spam_test: (921, 57)\n",
      "y_spam_train: (3680,)\n",
      "y_spam_test: (921,)\n",
      "y_spam_train pos: 0.38858695652173914\n",
      "y_spam_train neg: 0.6114130434782609\n",
      "X_tran_spam_train: (3680, 57)\n",
      "Percentage feature removed: 0.0\n"
     ]
    }
   ],
   "source": [
    "spam_df = pd.read_csv('spambase2.csv', header=0)\n",
    "spam_x = spam_df.drop('class', axis=1).copy().values\n",
    "spam_y = spam_df['class'].copy().values\n",
    "X_spam_train, X_spam_test, y_spam_train, y_spam_test = train_test_split(spam_x, spam_y, test_size=0.2,random_state=0)\n",
    "print(f\"spam_df: {spam_df.shape}\")\n",
    "print(f\"X_spam_train: {X_spam_train.shape}\")\n",
    "print(f\"X_spam_test: {X_spam_test.shape}\")\n",
    "print(f\"y_spam_train: {y_spam_train.shape}\")\n",
    "print(f\"y_spam_test: {y_spam_test.shape}\")\n",
    "print(f\"y_spam_train pos: {(y_spam_train > 0).sum() / len(y_spam_train)}\")\n",
    "print(f\"y_spam_train neg: {(y_spam_train == 0).sum() / len(y_spam_train)}\")\n",
    "pipeSpam = Pipeline([('Scale',StandardScaler())])\n",
    "X_trans_spam_train = pipeSpam.fit_transform(X_spam_train, y_spam_train)\n",
    "print(f\"X_tran_spam_train: {X_trans_spam_train.shape}\")\n",
    "print(f\"Percentage feature removed: {1 - (X_trans_spam_train.shape[1] / X_spam_train.shape[1])}\")"
   ]
  },
  {
   "cell_type": "code",
   "execution_count": 130,
   "metadata": {},
   "outputs": [],
   "source": [
    "adult_params = {\n",
    "    'n_estimators': [1,2,5,10,20,30,45,60,80,100],\n",
    "    'base_estimator__max_depth': list(np.arange(1, 30, 3)),\n",
    "    'learning_rate': [0.01,0.05,0.1,0.3,1]\n",
    "}\n",
    "\n",
    "spam_params = {\n",
    "    'n_estimators': [1,2,5,10,20,30,45,60,80,100],\n",
    "    'base_estimator__max_depth': list(np.arange(1, 30, 3)),\n",
    "    'learning_rate': [0.01,0.05,0.1,0.3,1]\n",
    "}"
   ]
  },
  {
   "cell_type": "code",
   "execution_count": 142,
   "metadata": {},
   "outputs": [
    {
     "name": "stdout",
     "output_type": "stream",
     "text": [
      "best params adult: {'base_estimator__max_depth': 4, 'learning_rate': 0.3, 'n_estimators': 45}\n"
     ]
    }
   ],
   "source": [
    "adult_cv = GridSearchCV(AdaBoostClassifier(base_estimator=DecisionTreeClassifier(random_state=123), random_state=123),param_grid=adult_params, cv=5)\n",
    "adult_cv.fit(X_trans_adult_train, y_adult_train)\n",
    "print(f\"best params adult: {adult_cv.best_params_}\")"
   ]
  },
  {
   "cell_type": "code",
   "execution_count": 143,
   "metadata": {},
   "outputs": [
    {
     "name": "stdout",
     "output_type": "stream",
     "text": [
      "best params spam: {'base_estimator__max_depth': 22, 'learning_rate': 1, 'n_estimators': 45}\n"
     ]
    }
   ],
   "source": [
    "spam_cv = GridSearchCV(AdaBoostClassifier(base_estimator=DecisionTreeClassifier(random_state=123),random_state=123),param_grid=spam_params, cv=5)\n",
    "spam_cv.fit(X_trans_spam_train, y_spam_train)\n",
    "spam_cv.best_params_\n",
    "print(f\"best params spam: {spam_cv.best_params_}\")"
   ]
  },
  {
   "cell_type": "markdown",
   "metadata": {},
   "source": [
    "**Complexity**"
   ]
  },
  {
   "cell_type": "code",
   "execution_count": 146,
   "metadata": {},
   "outputs": [
    {
     "ename": "AttributeError",
     "evalue": "module 'pandas.core.common' has no attribute '_dict_keys_to_ordered_list'",
     "output_type": "error",
     "traceback": [
      "\u001b[0;31m---------------------------------------------------------------------------\u001b[0m",
      "\u001b[0;31mAttributeError\u001b[0m                            Traceback (most recent call last)",
      "\u001b[0;32m<ipython-input-146-8993dde42578>\u001b[0m in \u001b[0;36m<module>\u001b[0;34m\u001b[0m\n\u001b[0;32m----> 1\u001b[0;31m \u001b[0madult_cc_estimators\u001b[0m \u001b[0;34m=\u001b[0m \u001b[0mmake_complexity_curve\u001b[0m\u001b[0;34m(\u001b[0m\u001b[0mAdaBoostClassifier\u001b[0m\u001b[0;34m(\u001b[0m\u001b[0mbase_estimator\u001b[0m\u001b[0;34m=\u001b[0m\u001b[0mDecisionTreeClassifier\u001b[0m\u001b[0;34m(\u001b[0m\u001b[0mrandom_state\u001b[0m\u001b[0;34m=\u001b[0m\u001b[0;36m123\u001b[0m\u001b[0;34m)\u001b[0m\u001b[0;34m,\u001b[0m \u001b[0mrandom_state\u001b[0m\u001b[0;34m=\u001b[0m\u001b[0;36m123\u001b[0m\u001b[0;34m)\u001b[0m\u001b[0;34m,\u001b[0m \u001b[0mX_trans_adult_train\u001b[0m\u001b[0;34m.\u001b[0m\u001b[0mastype\u001b[0m\u001b[0;34m(\u001b[0m\u001b[0mfloat\u001b[0m\u001b[0;34m)\u001b[0m\u001b[0;34m,\u001b[0m \u001b[0my_adult_train\u001b[0m\u001b[0;34m.\u001b[0m\u001b[0mastype\u001b[0m\u001b[0;34m(\u001b[0m\u001b[0mfloat\u001b[0m\u001b[0;34m)\u001b[0m\u001b[0;34m,\u001b[0m \u001b[0;34m\"n_estimators\"\u001b[0m\u001b[0;34m,\u001b[0m \u001b[0;34m[\u001b[0m\u001b[0;36m1\u001b[0m\u001b[0;34m,\u001b[0m\u001b[0;36m2\u001b[0m\u001b[0;34m,\u001b[0m\u001b[0;36m5\u001b[0m\u001b[0;34m,\u001b[0m\u001b[0;36m10\u001b[0m\u001b[0;34m,\u001b[0m\u001b[0;36m20\u001b[0m\u001b[0;34m,\u001b[0m\u001b[0;36m30\u001b[0m\u001b[0;34m,\u001b[0m\u001b[0;36m45\u001b[0m\u001b[0;34m,\u001b[0m\u001b[0;36m60\u001b[0m\u001b[0;34m,\u001b[0m\u001b[0;36m80\u001b[0m\u001b[0;34m,\u001b[0m\u001b[0;36m100\u001b[0m\u001b[0;34m]\u001b[0m\u001b[0;34m,\u001b[0m\u001b[0;34m\"boosting complexity n_estimators\"\u001b[0m\u001b[0;34m,\u001b[0m \u001b[0;34m\"adult\"\u001b[0m\u001b[0;34m)\u001b[0m\u001b[0;34m\u001b[0m\u001b[0m\n\u001b[0m",
      "\u001b[0;32m~/school/cs7641/hw1/helpers.py\u001b[0m in \u001b[0;36mmake_complexity_curve\u001b[0;34m(clf, x, y, param_name, param_range, clf_name, dataset_name)\u001b[0m\n\u001b[1;32m     19\u001b[0m         \u001b[0mout\u001b[0m\u001b[0;34m[\u001b[0m\u001b[0;34m'test'\u001b[0m\u001b[0;34m]\u001b[0m \u001b[0;34m=\u001b[0m \u001b[0mvalidation_scores_mean\u001b[0m\u001b[0;34m\u001b[0m\u001b[0m\n\u001b[1;32m     20\u001b[0m     \u001b[0mout\u001b[0m\u001b[0;34m[\u001b[0m\u001b[0mparam_name\u001b[0m\u001b[0;34m]\u001b[0m \u001b[0;34m=\u001b[0m \u001b[0mparam_range\u001b[0m\u001b[0;34m\u001b[0m\u001b[0m\n\u001b[0;32m---> 21\u001b[0;31m     \u001b[0mout_df\u001b[0m \u001b[0;34m=\u001b[0m \u001b[0mpd\u001b[0m\u001b[0;34m.\u001b[0m\u001b[0mDataFrame\u001b[0m\u001b[0;34m(\u001b[0m\u001b[0mout\u001b[0m\u001b[0;34m)\u001b[0m\u001b[0;34m\u001b[0m\u001b[0m\n\u001b[0m\u001b[1;32m     22\u001b[0m     \u001b[0mout_df\u001b[0m\u001b[0;34m.\u001b[0m\u001b[0mset_index\u001b[0m\u001b[0;34m(\u001b[0m\u001b[0mparam_name\u001b[0m\u001b[0;34m,\u001b[0m \u001b[0minplace\u001b[0m\u001b[0;34m=\u001b[0m\u001b[0;32mTrue\u001b[0m\u001b[0;34m)\u001b[0m\u001b[0;34m\u001b[0m\u001b[0m\n\u001b[1;32m     23\u001b[0m     \u001b[0mout_df\u001b[0m\u001b[0;34m.\u001b[0m\u001b[0mname\u001b[0m \u001b[0;34m=\u001b[0m \u001b[0mtitle\u001b[0m\u001b[0;34m\u001b[0m\u001b[0m\n",
      "\u001b[0;32m/usr/local/lib/python3.6/site-packages/pandas/core/frame.py\u001b[0m in \u001b[0;36m__init__\u001b[0;34m(self, data, index, columns, dtype, copy)\u001b[0m\n\u001b[1;32m    346\u001b[0m \u001b[0;34m\u001b[0m\u001b[0m\n\u001b[1;32m    347\u001b[0m         \u001b[0mNDFrame\u001b[0m\u001b[0;34m.\u001b[0m\u001b[0m__init__\u001b[0m\u001b[0;34m(\u001b[0m\u001b[0mself\u001b[0m\u001b[0;34m,\u001b[0m \u001b[0mmgr\u001b[0m\u001b[0;34m,\u001b[0m \u001b[0mfastpath\u001b[0m\u001b[0;34m=\u001b[0m\u001b[0;32mTrue\u001b[0m\u001b[0;34m)\u001b[0m\u001b[0;34m\u001b[0m\u001b[0m\n\u001b[0;32m--> 348\u001b[0;31m \u001b[0;34m\u001b[0m\u001b[0m\n\u001b[0m\u001b[1;32m    349\u001b[0m     \u001b[0;32mdef\u001b[0m \u001b[0m_init_dict\u001b[0m\u001b[0;34m(\u001b[0m\u001b[0mself\u001b[0m\u001b[0;34m,\u001b[0m \u001b[0mdata\u001b[0m\u001b[0;34m,\u001b[0m \u001b[0mindex\u001b[0m\u001b[0;34m,\u001b[0m \u001b[0mcolumns\u001b[0m\u001b[0;34m,\u001b[0m \u001b[0mdtype\u001b[0m\u001b[0;34m=\u001b[0m\u001b[0;32mNone\u001b[0m\u001b[0;34m)\u001b[0m\u001b[0;34m:\u001b[0m\u001b[0;34m\u001b[0m\u001b[0m\n\u001b[1;32m    350\u001b[0m         \"\"\"\n",
      "\u001b[0;32m/usr/local/lib/python3.6/site-packages/pandas/core/frame.py\u001b[0m in \u001b[0;36m_init_dict\u001b[0;34m(self, data, index, columns, dtype)\u001b[0m\n\u001b[1;32m    453\u001b[0m         \u001b[0;31m# the dtypes will be coerced to a single dtype\u001b[0m\u001b[0;34m\u001b[0m\u001b[0;34m\u001b[0m\u001b[0m\n\u001b[1;32m    454\u001b[0m         \u001b[0mvalues\u001b[0m \u001b[0;34m=\u001b[0m \u001b[0m_prep_ndarray\u001b[0m\u001b[0;34m(\u001b[0m\u001b[0mvalues\u001b[0m\u001b[0;34m,\u001b[0m \u001b[0mcopy\u001b[0m\u001b[0;34m=\u001b[0m\u001b[0mcopy\u001b[0m\u001b[0;34m)\u001b[0m\u001b[0;34m\u001b[0m\u001b[0m\n\u001b[0;32m--> 455\u001b[0;31m \u001b[0;34m\u001b[0m\u001b[0m\n\u001b[0m\u001b[1;32m    456\u001b[0m         \u001b[0;32mif\u001b[0m \u001b[0mdtype\u001b[0m \u001b[0;32mis\u001b[0m \u001b[0;32mnot\u001b[0m \u001b[0;32mNone\u001b[0m\u001b[0;34m:\u001b[0m\u001b[0;34m\u001b[0m\u001b[0m\n\u001b[1;32m    457\u001b[0m             \u001b[0;32mif\u001b[0m \u001b[0mvalues\u001b[0m\u001b[0;34m.\u001b[0m\u001b[0mdtype\u001b[0m \u001b[0;34m!=\u001b[0m \u001b[0mdtype\u001b[0m\u001b[0;34m:\u001b[0m\u001b[0;34m\u001b[0m\u001b[0m\n",
      "\u001b[0;31mAttributeError\u001b[0m: module 'pandas.core.common' has no attribute '_dict_keys_to_ordered_list'"
     ]
    }
   ],
   "source": [
    "adult_cc_estimators = make_complexity_curve(AdaBoostClassifier(base_estimator=DecisionTreeClassifier(random_state=123), random_state=123), X_trans_adult_train.astype(float), y_adult_train.astype(float), \"n_estimators\", [1,2,5,10,20,30,45,60,80,100],\"boosting complexity n_estimators\", \"adult\")"
   ]
  },
  {
   "cell_type": "code",
   "execution_count": null,
   "metadata": {},
   "outputs": [],
   "source": [
    "adult_cc_estimators.plot(title=adult_cc_estimators.name)"
   ]
  },
  {
   "cell_type": "code",
   "execution_count": null,
   "metadata": {},
   "outputs": [],
   "source": [
    "spam_cc_estimators = make_complexity_curve(spam_cv.best_estimator_, X_trans_spam_train.astype(float), y_spam_train.astype(float), \"n_estimators\", [1,2,5,10,20,30,45,60,80,100],\"boosting complexity n_estimators\", \"spam\")"
   ]
  },
  {
   "cell_type": "code",
   "execution_count": null,
   "metadata": {},
   "outputs": [],
   "source": [
    "spam_cc_estimators.plot(title=spam_cc_estimators.name)"
   ]
  },
  {
   "cell_type": "code",
   "execution_count": null,
   "metadata": {},
   "outputs": [],
   "source": [
    "adult_cc_learning_rate = make_complexity_curve(adult_cv.best_estimator_, X_trans_adult_train.astype(float), y_adult_train.astype(float), \"learning_rate\", [0.01,0.05,0.1,0.3,1],\"boosting complexity learning rate\", \"adult\")"
   ]
  },
  {
   "cell_type": "code",
   "execution_count": null,
   "metadata": {},
   "outputs": [],
   "source": [
    "adult_cc_learning_rate.plot(title=adult_cc_learning_rate.name)"
   ]
  },
  {
   "cell_type": "code",
   "execution_count": null,
   "metadata": {},
   "outputs": [],
   "source": [
    "spam_cc_learning_rate = make_complexity_curve(spam_cv.best_estimator_, X_trans_spam_train.astype(float), y_spam_train.astype(float), \"learning_rate\", [0.01,0.05,0.1,0.3,1], \"boosting complexity learning rate\", \"spam\")"
   ]
  },
  {
   "cell_type": "code",
   "execution_count": null,
   "metadata": {},
   "outputs": [],
   "source": [
    "spam_cc_learning_rate.plot(title=spam_cc_learning_rate.name)"
   ]
  },
  {
   "cell_type": "code",
   "execution_count": null,
   "metadata": {},
   "outputs": [],
   "source": [
    "adult_cc_md = make_complexity_curve(adult_cv.best_estimator_, X_trans_adult_train.astype(float), y_adult_train.astype(float), \"base_estimator__max_depth\", list(np.arange(1, 30, 1)),\"boosting complexity learning rate\", \"adult\")"
   ]
  },
  {
   "cell_type": "code",
   "execution_count": null,
   "metadata": {},
   "outputs": [],
   "source": [
    "adult_cc_md.plot(title=adult_cc_md.name)"
   ]
  },
  {
   "cell_type": "code",
   "execution_count": null,
   "metadata": {},
   "outputs": [],
   "source": [
    "spam_cc_md = make_complexity_curve(spam_cv.best_estimator_, X_trans_spam_train.astype(float), y_spam_train.astype(float), \"base_estimator__max_depth\", list(np.arange(1, 30, 1)),\"boosting complexity learning rate\", \"spam\")"
   ]
  },
  {
   "cell_type": "code",
   "execution_count": null,
   "metadata": {},
   "outputs": [],
   "source": [
    "spam_cc_md.plot(title=spam_cc_md.name)"
   ]
  },
  {
   "cell_type": "markdown",
   "metadata": {},
   "source": [
    "**Timing curve**"
   ]
  },
  {
   "cell_type": "code",
   "execution_count": null,
   "metadata": {},
   "outputs": [],
   "source": [
    "adult_timing = make_timing_curve(adult_cv.best_estimator_,X_trans_adult_train.astype(float), y_adult_train.astype(float),'boositng timing', 'adult')"
   ]
  },
  {
   "cell_type": "code",
   "execution_count": null,
   "metadata": {},
   "outputs": [],
   "source": [
    "adult_timing.plot(title=adult_timing.name)"
   ]
  },
  {
   "cell_type": "code",
   "execution_count": null,
   "metadata": {},
   "outputs": [],
   "source": [
    "spam_timing = make_timing_curve(spam_cv.best_estimator_,X_trans_spam_train.astype(float), y_spam_train.astype(float),'boositng timing', 'spam')"
   ]
  },
  {
   "cell_type": "code",
   "execution_count": null,
   "metadata": {},
   "outputs": [],
   "source": [
    "spam_timing.plot(title=spam_timing.name)"
   ]
  },
  {
   "cell_type": "markdown",
   "metadata": {},
   "source": [
    "**Learning Curve**"
   ]
  },
  {
   "cell_type": "code",
   "execution_count": null,
   "metadata": {},
   "outputs": [],
   "source": [
    "adult_lc = make_learning_curve(adult_cv.best_estimator_,X_trans_adult_train.astype(float), y_adult_train.astype(float),np.linspace(0.1, 1.0, 10),'boosting timing', 'adult')"
   ]
  },
  {
   "cell_type": "code",
   "execution_count": null,
   "metadata": {},
   "outputs": [],
   "source": [
    "adult_lc.plot(title=adult_lc.name)"
   ]
  },
  {
   "cell_type": "code",
   "execution_count": null,
   "metadata": {},
   "outputs": [],
   "source": [
    "spam_lc = make_learning_curve(spam_cv.best_estimator_,X_trans_spam_train.astype(float), y_spam_train.astype(float),np.linspace(0.1, 1.0, 10),'boosting timing', 'spam')"
   ]
  },
  {
   "cell_type": "code",
   "execution_count": null,
   "metadata": {},
   "outputs": [],
   "source": [
    "spam_lc.plot(title=spam_lc.name)"
   ]
  },
  {
   "cell_type": "code",
   "execution_count": null,
   "metadata": {},
   "outputs": [],
   "source": []
  },
  {
   "cell_type": "code",
   "execution_count": null,
   "metadata": {},
   "outputs": [],
   "source": []
  },
  {
   "cell_type": "code",
   "execution_count": null,
   "metadata": {},
   "outputs": [],
   "source": []
  },
  {
   "cell_type": "code",
   "execution_count": null,
   "metadata": {},
   "outputs": [],
   "source": []
  },
  {
   "cell_type": "code",
   "execution_count": null,
   "metadata": {},
   "outputs": [],
   "source": []
  }
 ],
 "metadata": {
  "kernelspec": {
   "display_name": "Python 3",
   "language": "python",
   "name": "python3"
  },
  "language_info": {
   "codemirror_mode": {
    "name": "ipython",
    "version": 3
   },
   "file_extension": ".py",
   "mimetype": "text/x-python",
   "name": "python",
   "nbconvert_exporter": "python",
   "pygments_lexer": "ipython3",
   "version": "3.6.5"
  }
 },
 "nbformat": 4,
 "nbformat_minor": 2
}
